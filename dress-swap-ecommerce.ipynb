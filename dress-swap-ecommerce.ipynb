{
 "cells": [
  {
   "cell_type": "code",
   "execution_count": 1,
   "id": "3a627ab8",
   "metadata": {
    "_cell_guid": "b1076dfc-b9ad-4769-8c92-a6c4dae69d19",
    "_uuid": "8f2839f25d086af736a60e9eeb907d3b93b6e0e5",
    "execution": {
     "iopub.execute_input": "2024-07-22T20:52:57.666922Z",
     "iopub.status.busy": "2024-07-22T20:52:57.666452Z",
     "iopub.status.idle": "2024-07-22T20:52:58.570062Z",
     "shell.execute_reply": "2024-07-22T20:52:58.568853Z"
    },
    "papermill": {
     "duration": 0.915885,
     "end_time": "2024-07-22T20:52:58.572362",
     "exception": false,
     "start_time": "2024-07-22T20:52:57.656477",
     "status": "completed"
    },
    "tags": []
   },
   "outputs": [
    {
     "name": "stdout",
     "output_type": "stream",
     "text": [
      "/kaggle/input/peer-to-peer-dress-rental-prices/dress_rental_prices.csv\n"
     ]
    }
   ],
   "source": [
    "# This Python 3 environment comes with many helpful analytics libraries installed\n",
    "# It is defined by the kaggle/python Docker image: https://github.com/kaggle/docker-python\n",
    "# For example, here's several helpful packages to load\n",
    "\n",
    "import numpy as np # linear algebra\n",
    "import pandas as pd # data processing, CSV file I/O (e.g. pd.read_csv)\n",
    "\n",
    "# Input data files are available in the read-only \"../input/\" directory\n",
    "# For example, running this (by clicking run or pressing Shift+Enter) will list all files under the input directory\n",
    "\n",
    "import os\n",
    "for dirname, _, filenames in os.walk('/kaggle/input'):\n",
    "    for filename in filenames:\n",
    "        print(os.path.join(dirname, filename))\n",
    "\n",
    "# You can write up to 20GB to the current directory (/kaggle/working/) that gets preserved as output when you create a version using \"Save & Run All\" \n",
    "# You can also write temporary files to /kaggle/temp/, but they won't be saved outside of the current session"
   ]
  },
  {
   "cell_type": "code",
   "execution_count": 2,
   "id": "9ae7bb11",
   "metadata": {
    "execution": {
     "iopub.execute_input": "2024-07-22T20:52:58.590360Z",
     "iopub.status.busy": "2024-07-22T20:52:58.589764Z",
     "iopub.status.idle": "2024-07-22T20:52:59.950501Z",
     "shell.execute_reply": "2024-07-22T20:52:59.949213Z"
    },
    "papermill": {
     "duration": 1.372727,
     "end_time": "2024-07-22T20:52:59.953189",
     "exception": false,
     "start_time": "2024-07-22T20:52:58.580462",
     "status": "completed"
    },
    "tags": []
   },
   "outputs": [],
   "source": [
    "# Step One: PREPARE THE ENVIRONMENT(libraries)\n",
    "import numpy as np\n",
    "import pandas as pd\n",
    "import datetime as dt\n",
    "\n",
    "# matplotlib is for graphs/ seaborn is also for plotting\n",
    "import matplotlib.pyplot as plt\n",
    "import seaborn as sns\n",
    "\n",
    "# style for graphs is \"ggplot\"\n",
    "plt.style.use('ggplot')\n",
    "\n",
    "# set option to see all the columns\n",
    "# pd.set_option('max_column')\n",
    "\n",
    "# I want to get insights on how the dresses are priced\n",
    "# Are they priced high based on type of clothing? Designer?"
   ]
  },
  {
   "cell_type": "code",
   "execution_count": 3,
   "id": "cc70dfb9",
   "metadata": {
    "execution": {
     "iopub.execute_input": "2024-07-22T20:52:59.971950Z",
     "iopub.status.busy": "2024-07-22T20:52:59.970903Z",
     "iopub.status.idle": "2024-07-22T20:53:00.071024Z",
     "shell.execute_reply": "2024-07-22T20:53:00.069816Z"
    },
    "papermill": {
     "duration": 0.112342,
     "end_time": "2024-07-22T20:53:00.073721",
     "exception": false,
     "start_time": "2024-07-22T20:52:59.961379",
     "status": "completed"
    },
    "tags": []
   },
   "outputs": [],
   "source": [
    "# import the data (make sure you specify which files you want. In this case,\n",
    "# there is only one file)\n",
    "\n",
    "# create a new dataframe(df)\n",
    "\n",
    "df = pd.read_csv('/kaggle/input/peer-to-peer-dress-rental-prices/dress_rental_prices.csv')"
   ]
  },
  {
   "cell_type": "code",
   "execution_count": 4,
   "id": "a63e94d3",
   "metadata": {
    "execution": {
     "iopub.execute_input": "2024-07-22T20:53:00.091685Z",
     "iopub.status.busy": "2024-07-22T20:53:00.091287Z",
     "iopub.status.idle": "2024-07-22T20:53:00.099266Z",
     "shell.execute_reply": "2024-07-22T20:53:00.098163Z"
    },
    "papermill": {
     "duration": 0.019501,
     "end_time": "2024-07-22T20:53:00.101427",
     "exception": false,
     "start_time": "2024-07-22T20:53:00.081926",
     "status": "completed"
    },
    "tags": []
   },
   "outputs": [
    {
     "data": {
      "text/plain": [
       "(29997, 7)"
      ]
     },
     "execution_count": 4,
     "metadata": {},
     "output_type": "execute_result"
    }
   ],
   "source": [
    "# Let's look at the dataset to see how many columns/rows\n",
    "\n",
    "df.shape"
   ]
  },
  {
   "cell_type": "code",
   "execution_count": 5,
   "id": "db4990d4",
   "metadata": {
    "execution": {
     "iopub.execute_input": "2024-07-22T20:53:00.119639Z",
     "iopub.status.busy": "2024-07-22T20:53:00.119218Z",
     "iopub.status.idle": "2024-07-22T20:53:00.127581Z",
     "shell.execute_reply": "2024-07-22T20:53:00.126575Z"
    },
    "papermill": {
     "duration": 0.019992,
     "end_time": "2024-07-22T20:53:00.129753",
     "exception": false,
     "start_time": "2024-07-22T20:53:00.109761",
     "status": "completed"
    },
    "tags": []
   },
   "outputs": [
    {
     "data": {
      "text/plain": [
       "Index(['Unnamed: 0', 'ID', 'Name', 'Brand', 'Colour', 'Catagories', 'Price'], dtype='object')"
      ]
     },
     "execution_count": 5,
     "metadata": {},
     "output_type": "execute_result"
    }
   ],
   "source": [
    "# We have 29997 rows and 7 columns. Lets check the name of the columns\n",
    "\n",
    "df.columns"
   ]
  },
  {
   "cell_type": "code",
   "execution_count": 6,
   "id": "9b48f28b",
   "metadata": {
    "execution": {
     "iopub.execute_input": "2024-07-22T20:53:00.148163Z",
     "iopub.status.busy": "2024-07-22T20:53:00.147772Z",
     "iopub.status.idle": "2024-07-22T20:53:00.169421Z",
     "shell.execute_reply": "2024-07-22T20:53:00.168331Z"
    },
    "papermill": {
     "duration": 0.033729,
     "end_time": "2024-07-22T20:53:00.171882",
     "exception": false,
     "start_time": "2024-07-22T20:53:00.138153",
     "status": "completed"
    },
    "tags": []
   },
   "outputs": [
    {
     "data": {
      "text/html": [
       "<div>\n",
       "<style scoped>\n",
       "    .dataframe tbody tr th:only-of-type {\n",
       "        vertical-align: middle;\n",
       "    }\n",
       "\n",
       "    .dataframe tbody tr th {\n",
       "        vertical-align: top;\n",
       "    }\n",
       "\n",
       "    .dataframe thead th {\n",
       "        text-align: right;\n",
       "    }\n",
       "</style>\n",
       "<table border=\"1\" class=\"dataframe\">\n",
       "  <thead>\n",
       "    <tr style=\"text-align: right;\">\n",
       "      <th></th>\n",
       "      <th>Unnamed: 0</th>\n",
       "      <th>ID</th>\n",
       "      <th>Name</th>\n",
       "      <th>Brand</th>\n",
       "      <th>Colour</th>\n",
       "      <th>Catagories</th>\n",
       "      <th>Price</th>\n",
       "    </tr>\n",
       "  </thead>\n",
       "  <tbody>\n",
       "    <tr>\n",
       "      <th>0</th>\n",
       "      <td>0</td>\n",
       "      <td>74416</td>\n",
       "      <td>Runway stripe dress</td>\n",
       "      <td>Stella McCartney</td>\n",
       "      <td>beige</td>\n",
       "      <td>dresses</td>\n",
       "      <td>111</td>\n",
       "    </tr>\n",
       "    <tr>\n",
       "      <th>1</th>\n",
       "      <td>1</td>\n",
       "      <td>73815</td>\n",
       "      <td>Reformation Kourtney Dress</td>\n",
       "      <td>Reformation</td>\n",
       "      <td>beige</td>\n",
       "      <td>dresses</td>\n",
       "      <td>50</td>\n",
       "    </tr>\n",
       "    <tr>\n",
       "      <th>2</th>\n",
       "      <td>2</td>\n",
       "      <td>73801</td>\n",
       "      <td>Ivory Viola bridal dress</td>\n",
       "      <td>Ghost</td>\n",
       "      <td>beige</td>\n",
       "      <td>dresses</td>\n",
       "      <td>75</td>\n",
       "    </tr>\n",
       "    <tr>\n",
       "      <th>3</th>\n",
       "      <td>3</td>\n",
       "      <td>73718</td>\n",
       "      <td>Pasu Dress - Rhino Tusk</td>\n",
       "      <td>Coucoo</td>\n",
       "      <td>beige</td>\n",
       "      <td>dresses</td>\n",
       "      <td>37</td>\n",
       "    </tr>\n",
       "    <tr>\n",
       "      <th>4</th>\n",
       "      <td>4</td>\n",
       "      <td>73605</td>\n",
       "      <td>Ellen</td>\n",
       "      <td>RIXO</td>\n",
       "      <td>beige</td>\n",
       "      <td>dresses</td>\n",
       "      <td>47</td>\n",
       "    </tr>\n",
       "    <tr>\n",
       "      <th>5</th>\n",
       "      <td>5</td>\n",
       "      <td>73583</td>\n",
       "      <td>Elena Dress Crystal Garden</td>\n",
       "      <td>Stine Goya</td>\n",
       "      <td>beige</td>\n",
       "      <td>dresses</td>\n",
       "      <td>64</td>\n",
       "    </tr>\n",
       "    <tr>\n",
       "      <th>6</th>\n",
       "      <td>6</td>\n",
       "      <td>73007</td>\n",
       "      <td>OBlanc Dress</td>\n",
       "      <td>New Arrivals</td>\n",
       "      <td>beige</td>\n",
       "      <td>dresses</td>\n",
       "      <td>145</td>\n",
       "    </tr>\n",
       "    <tr>\n",
       "      <th>7</th>\n",
       "      <td>7</td>\n",
       "      <td>73245</td>\n",
       "      <td>Melody Dress</td>\n",
       "      <td>Melissa Odabash</td>\n",
       "      <td>beige</td>\n",
       "      <td>dresses</td>\n",
       "      <td>52</td>\n",
       "    </tr>\n",
       "    <tr>\n",
       "      <th>8</th>\n",
       "      <td>8</td>\n",
       "      <td>73050</td>\n",
       "      <td>Isamaya Dress</td>\n",
       "      <td>Rat &amp; Boa</td>\n",
       "      <td>beige</td>\n",
       "      <td>dresses</td>\n",
       "      <td>38</td>\n",
       "    </tr>\n",
       "    <tr>\n",
       "      <th>9</th>\n",
       "      <td>9</td>\n",
       "      <td>73019</td>\n",
       "      <td>Belted Animal Print Mini Dress</td>\n",
       "      <td>ROTATE BIRGER CHRISTENSEN</td>\n",
       "      <td>beige</td>\n",
       "      <td>dresses</td>\n",
       "      <td>39</td>\n",
       "    </tr>\n",
       "  </tbody>\n",
       "</table>\n",
       "</div>"
      ],
      "text/plain": [
       "   Unnamed: 0     ID                            Name  \\\n",
       "0           0  74416             Runway stripe dress   \n",
       "1           1  73815      Reformation Kourtney Dress   \n",
       "2           2  73801        Ivory Viola bridal dress   \n",
       "3           3  73718         Pasu Dress - Rhino Tusk   \n",
       "4           4  73605                           Ellen   \n",
       "5           5  73583     Elena Dress Crystal Garden    \n",
       "6           6  73007                   OBlanc Dress    \n",
       "7           7  73245                    Melody Dress   \n",
       "8           8  73050                   Isamaya Dress   \n",
       "9           9  73019  Belted Animal Print Mini Dress   \n",
       "\n",
       "                       Brand Colour Catagories  Price  \n",
       "0           Stella McCartney  beige    dresses    111  \n",
       "1                Reformation  beige    dresses     50  \n",
       "2                      Ghost  beige    dresses     75  \n",
       "3                     Coucoo  beige    dresses     37  \n",
       "4                       RIXO  beige    dresses     47  \n",
       "5                 Stine Goya  beige    dresses     64  \n",
       "6               New Arrivals  beige    dresses    145  \n",
       "7            Melissa Odabash  beige    dresses     52  \n",
       "8                  Rat & Boa  beige    dresses     38  \n",
       "9  ROTATE BIRGER CHRISTENSEN  beige    dresses     39  "
      ]
     },
     "execution_count": 6,
     "metadata": {},
     "output_type": "execute_result"
    }
   ],
   "source": [
    "# Let's look at the information inside the columns. Show a preview with the 'head' function\n",
    "\n",
    "df.head(10)\n",
    "\n",
    "# We need to understand what the columns are about. If you are working with a team \n",
    "# for a company, we can ask what the columns are about and what the information means"
   ]
  },
  {
   "cell_type": "code",
   "execution_count": 7,
   "id": "2aca43f0",
   "metadata": {
    "execution": {
     "iopub.execute_input": "2024-07-22T20:53:00.190928Z",
     "iopub.status.busy": "2024-07-22T20:53:00.190519Z",
     "iopub.status.idle": "2024-07-22T20:53:00.199012Z",
     "shell.execute_reply": "2024-07-22T20:53:00.197910Z"
    },
    "papermill": {
     "duration": 0.020718,
     "end_time": "2024-07-22T20:53:00.201287",
     "exception": false,
     "start_time": "2024-07-22T20:53:00.180569",
     "status": "completed"
    },
    "tags": []
   },
   "outputs": [
    {
     "data": {
      "text/plain": [
       "Unnamed: 0     int64\n",
       "ID             int64\n",
       "Name          object\n",
       "Brand         object\n",
       "Colour        object\n",
       "Catagories    object\n",
       "Price          int64\n",
       "dtype: object"
      ]
     },
     "execution_count": 7,
     "metadata": {},
     "output_type": "execute_result"
    }
   ],
   "source": [
    "# what are the data types for each columns\n",
    "\n",
    "df.dtypes\n",
    "\n",
    "# int64 is a number, object is a string (str)"
   ]
  },
  {
   "cell_type": "code",
   "execution_count": 8,
   "id": "d6a91929",
   "metadata": {
    "execution": {
     "iopub.execute_input": "2024-07-22T20:53:00.220551Z",
     "iopub.status.busy": "2024-07-22T20:53:00.220161Z",
     "iopub.status.idle": "2024-07-22T20:53:00.240350Z",
     "shell.execute_reply": "2024-07-22T20:53:00.239232Z"
    },
    "papermill": {
     "duration": 0.032566,
     "end_time": "2024-07-22T20:53:00.242653",
     "exception": false,
     "start_time": "2024-07-22T20:53:00.210087",
     "status": "completed"
    },
    "tags": []
   },
   "outputs": [
    {
     "data": {
      "text/plain": [
       "Unnamed: 0     int64\n",
       "ID            object\n",
       "Name          object\n",
       "Brand         object\n",
       "Colour        object\n",
       "Catagories    object\n",
       "Price          int64\n",
       "dtype: object"
      ]
     },
     "execution_count": 8,
     "metadata": {},
     "output_type": "execute_result"
    }
   ],
   "source": [
    "#Step Two: CLEAN THE DATA\n",
    "# We only need to reformat the 'ID' column to a \n",
    "# string so that Pandas/Python won't make calculations\n",
    "#Date transformations: df['Date'] = pd.to.datetime(df['Date'], format = '%m,%d,%y')\n",
    "\n",
    "df['ID'] = df['ID'].astype(str) \n",
    "df.dtypes"
   ]
  },
  {
   "cell_type": "code",
   "execution_count": 9,
   "id": "3802c3f7",
   "metadata": {
    "execution": {
     "iopub.execute_input": "2024-07-22T20:53:00.263720Z",
     "iopub.status.busy": "2024-07-22T20:53:00.262809Z",
     "iopub.status.idle": "2024-07-22T20:53:00.293867Z",
     "shell.execute_reply": "2024-07-22T20:53:00.292594Z"
    },
    "papermill": {
     "duration": 0.043786,
     "end_time": "2024-07-22T20:53:00.296202",
     "exception": false,
     "start_time": "2024-07-22T20:53:00.252416",
     "status": "completed"
    },
    "tags": []
   },
   "outputs": [
    {
     "data": {
      "text/plain": [
       "ID\n",
       "74416    1\n",
       "57563    1\n",
       "56429    1\n",
       "56450    1\n",
       "56485    1\n",
       "        ..\n",
       "72999    1\n",
       "74328    1\n",
       "73581    1\n",
       "73077    1\n",
       "231      1\n",
       "Name: count, Length: 29997, dtype: int64"
      ]
     },
     "execution_count": 9,
     "metadata": {},
     "output_type": "execute_result"
    }
   ],
   "source": [
    "#Check the values inside the columns\n",
    "#Are there any duplicate IDs?\n",
    "\n",
    "df['ID'].value_counts()\n",
    "\n",
    "#No duplicate found"
   ]
  },
  {
   "cell_type": "code",
   "execution_count": 10,
   "id": "8b6b5356",
   "metadata": {
    "execution": {
     "iopub.execute_input": "2024-07-22T20:53:00.316876Z",
     "iopub.status.busy": "2024-07-22T20:53:00.316494Z",
     "iopub.status.idle": "2024-07-22T20:53:00.324379Z",
     "shell.execute_reply": "2024-07-22T20:53:00.323170Z"
    },
    "papermill": {
     "duration": 0.020567,
     "end_time": "2024-07-22T20:53:00.326632",
     "exception": false,
     "start_time": "2024-07-22T20:53:00.306065",
     "status": "completed"
    },
    "tags": []
   },
   "outputs": [
    {
     "data": {
      "text/plain": [
       "Index(['unnamed: 0', 'id', 'name', 'brand', 'colour', 'catagories', 'price'], dtype='object')"
      ]
     },
     "execution_count": 10,
     "metadata": {},
     "output_type": "execute_result"
    }
   ],
   "source": [
    "# Rename the columns ( change to lowercase for simplicity)\n",
    "# Rename: df.rename(columns = {'ID':'identity', 'name':'title'}, inplace = True)  ...\n",
    "# check False first\n",
    "\n",
    "df.columns = df.columns.str.lower()\n",
    "df.columns"
   ]
  },
  {
   "cell_type": "code",
   "execution_count": 11,
   "id": "665e6d2f",
   "metadata": {
    "execution": {
     "iopub.execute_input": "2024-07-22T20:53:00.348924Z",
     "iopub.status.busy": "2024-07-22T20:53:00.348529Z",
     "iopub.status.idle": "2024-07-22T20:53:00.354348Z",
     "shell.execute_reply": "2024-07-22T20:53:00.353175Z"
    },
    "papermill": {
     "duration": 0.01897,
     "end_time": "2024-07-22T20:53:00.356650",
     "exception": false,
     "start_time": "2024-07-22T20:53:00.337680",
     "status": "completed"
    },
    "tags": []
   },
   "outputs": [],
   "source": [
    "df.rename(columns = {'catagories':'category'}, inplace = True)"
   ]
  },
  {
   "cell_type": "code",
   "execution_count": 12,
   "id": "7fdc8196",
   "metadata": {
    "execution": {
     "iopub.execute_input": "2024-07-22T20:53:00.376924Z",
     "iopub.status.busy": "2024-07-22T20:53:00.376555Z",
     "iopub.status.idle": "2024-07-22T20:53:00.388950Z",
     "shell.execute_reply": "2024-07-22T20:53:00.387803Z"
    },
    "papermill": {
     "duration": 0.025211,
     "end_time": "2024-07-22T20:53:00.391209",
     "exception": false,
     "start_time": "2024-07-22T20:53:00.365998",
     "status": "completed"
    },
    "tags": []
   },
   "outputs": [
    {
     "data": {
      "text/html": [
       "<div>\n",
       "<style scoped>\n",
       "    .dataframe tbody tr th:only-of-type {\n",
       "        vertical-align: middle;\n",
       "    }\n",
       "\n",
       "    .dataframe tbody tr th {\n",
       "        vertical-align: top;\n",
       "    }\n",
       "\n",
       "    .dataframe thead th {\n",
       "        text-align: right;\n",
       "    }\n",
       "</style>\n",
       "<table border=\"1\" class=\"dataframe\">\n",
       "  <thead>\n",
       "    <tr style=\"text-align: right;\">\n",
       "      <th></th>\n",
       "      <th>unnamed: 0</th>\n",
       "      <th>id</th>\n",
       "      <th>name</th>\n",
       "      <th>brand</th>\n",
       "      <th>colour</th>\n",
       "      <th>category</th>\n",
       "      <th>price</th>\n",
       "    </tr>\n",
       "  </thead>\n",
       "  <tbody>\n",
       "    <tr>\n",
       "      <th>0</th>\n",
       "      <td>0</td>\n",
       "      <td>74416</td>\n",
       "      <td>Runway stripe dress</td>\n",
       "      <td>Stella McCartney</td>\n",
       "      <td>beige</td>\n",
       "      <td>dresses</td>\n",
       "      <td>111</td>\n",
       "    </tr>\n",
       "    <tr>\n",
       "      <th>1</th>\n",
       "      <td>1</td>\n",
       "      <td>73815</td>\n",
       "      <td>Reformation Kourtney Dress</td>\n",
       "      <td>Reformation</td>\n",
       "      <td>beige</td>\n",
       "      <td>dresses</td>\n",
       "      <td>50</td>\n",
       "    </tr>\n",
       "    <tr>\n",
       "      <th>2</th>\n",
       "      <td>2</td>\n",
       "      <td>73801</td>\n",
       "      <td>Ivory Viola bridal dress</td>\n",
       "      <td>Ghost</td>\n",
       "      <td>beige</td>\n",
       "      <td>dresses</td>\n",
       "      <td>75</td>\n",
       "    </tr>\n",
       "    <tr>\n",
       "      <th>3</th>\n",
       "      <td>3</td>\n",
       "      <td>73718</td>\n",
       "      <td>Pasu Dress - Rhino Tusk</td>\n",
       "      <td>Coucoo</td>\n",
       "      <td>beige</td>\n",
       "      <td>dresses</td>\n",
       "      <td>37</td>\n",
       "    </tr>\n",
       "  </tbody>\n",
       "</table>\n",
       "</div>"
      ],
      "text/plain": [
       "   unnamed: 0     id                        name             brand colour  \\\n",
       "0           0  74416         Runway stripe dress  Stella McCartney  beige   \n",
       "1           1  73815  Reformation Kourtney Dress       Reformation  beige   \n",
       "2           2  73801    Ivory Viola bridal dress             Ghost  beige   \n",
       "3           3  73718     Pasu Dress - Rhino Tusk            Coucoo  beige   \n",
       "\n",
       "  category  price  \n",
       "0  dresses    111  \n",
       "1  dresses     50  \n",
       "2  dresses     75  \n",
       "3  dresses     37  "
      ]
     },
     "execution_count": 12,
     "metadata": {},
     "output_type": "execute_result"
    }
   ],
   "source": [
    "#create columns if necessary\n",
    "df.head(4)"
   ]
  },
  {
   "cell_type": "code",
   "execution_count": 13,
   "id": "5010e235",
   "metadata": {
    "execution": {
     "iopub.execute_input": "2024-07-22T20:53:00.412162Z",
     "iopub.status.busy": "2024-07-22T20:53:00.411756Z",
     "iopub.status.idle": "2024-07-22T20:53:00.437426Z",
     "shell.execute_reply": "2024-07-22T20:53:00.436294Z"
    },
    "papermill": {
     "duration": 0.03859,
     "end_time": "2024-07-22T20:53:00.439591",
     "exception": false,
     "start_time": "2024-07-22T20:53:00.401001",
     "status": "completed"
    },
    "tags": []
   },
   "outputs": [
    {
     "data": {
      "text/html": [
       "<div>\n",
       "<style scoped>\n",
       "    .dataframe tbody tr th:only-of-type {\n",
       "        vertical-align: middle;\n",
       "    }\n",
       "\n",
       "    .dataframe tbody tr th {\n",
       "        vertical-align: top;\n",
       "    }\n",
       "\n",
       "    .dataframe thead th {\n",
       "        text-align: right;\n",
       "    }\n",
       "</style>\n",
       "<table border=\"1\" class=\"dataframe\">\n",
       "  <thead>\n",
       "    <tr style=\"text-align: right;\">\n",
       "      <th></th>\n",
       "      <th>unnamed: 0</th>\n",
       "      <th>id</th>\n",
       "      <th>name</th>\n",
       "      <th>brand</th>\n",
       "      <th>colour</th>\n",
       "      <th>category</th>\n",
       "      <th>price</th>\n",
       "    </tr>\n",
       "  </thead>\n",
       "  <tbody>\n",
       "    <tr>\n",
       "      <th>0</th>\n",
       "      <td>False</td>\n",
       "      <td>False</td>\n",
       "      <td>False</td>\n",
       "      <td>False</td>\n",
       "      <td>False</td>\n",
       "      <td>False</td>\n",
       "      <td>False</td>\n",
       "    </tr>\n",
       "    <tr>\n",
       "      <th>1</th>\n",
       "      <td>False</td>\n",
       "      <td>False</td>\n",
       "      <td>False</td>\n",
       "      <td>False</td>\n",
       "      <td>False</td>\n",
       "      <td>False</td>\n",
       "      <td>False</td>\n",
       "    </tr>\n",
       "    <tr>\n",
       "      <th>2</th>\n",
       "      <td>False</td>\n",
       "      <td>False</td>\n",
       "      <td>False</td>\n",
       "      <td>False</td>\n",
       "      <td>False</td>\n",
       "      <td>False</td>\n",
       "      <td>False</td>\n",
       "    </tr>\n",
       "    <tr>\n",
       "      <th>3</th>\n",
       "      <td>False</td>\n",
       "      <td>False</td>\n",
       "      <td>False</td>\n",
       "      <td>False</td>\n",
       "      <td>False</td>\n",
       "      <td>False</td>\n",
       "      <td>False</td>\n",
       "    </tr>\n",
       "    <tr>\n",
       "      <th>4</th>\n",
       "      <td>False</td>\n",
       "      <td>False</td>\n",
       "      <td>False</td>\n",
       "      <td>False</td>\n",
       "      <td>False</td>\n",
       "      <td>False</td>\n",
       "      <td>False</td>\n",
       "    </tr>\n",
       "    <tr>\n",
       "      <th>...</th>\n",
       "      <td>...</td>\n",
       "      <td>...</td>\n",
       "      <td>...</td>\n",
       "      <td>...</td>\n",
       "      <td>...</td>\n",
       "      <td>...</td>\n",
       "      <td>...</td>\n",
       "    </tr>\n",
       "    <tr>\n",
       "      <th>29992</th>\n",
       "      <td>False</td>\n",
       "      <td>False</td>\n",
       "      <td>False</td>\n",
       "      <td>False</td>\n",
       "      <td>False</td>\n",
       "      <td>False</td>\n",
       "      <td>False</td>\n",
       "    </tr>\n",
       "    <tr>\n",
       "      <th>29993</th>\n",
       "      <td>False</td>\n",
       "      <td>False</td>\n",
       "      <td>False</td>\n",
       "      <td>False</td>\n",
       "      <td>False</td>\n",
       "      <td>False</td>\n",
       "      <td>False</td>\n",
       "    </tr>\n",
       "    <tr>\n",
       "      <th>29994</th>\n",
       "      <td>False</td>\n",
       "      <td>False</td>\n",
       "      <td>False</td>\n",
       "      <td>False</td>\n",
       "      <td>False</td>\n",
       "      <td>False</td>\n",
       "      <td>False</td>\n",
       "    </tr>\n",
       "    <tr>\n",
       "      <th>29995</th>\n",
       "      <td>False</td>\n",
       "      <td>False</td>\n",
       "      <td>False</td>\n",
       "      <td>False</td>\n",
       "      <td>False</td>\n",
       "      <td>False</td>\n",
       "      <td>False</td>\n",
       "    </tr>\n",
       "    <tr>\n",
       "      <th>29996</th>\n",
       "      <td>False</td>\n",
       "      <td>False</td>\n",
       "      <td>False</td>\n",
       "      <td>False</td>\n",
       "      <td>False</td>\n",
       "      <td>False</td>\n",
       "      <td>False</td>\n",
       "    </tr>\n",
       "  </tbody>\n",
       "</table>\n",
       "<p>29997 rows × 7 columns</p>\n",
       "</div>"
      ],
      "text/plain": [
       "       unnamed: 0     id   name  brand  colour  category  price\n",
       "0           False  False  False  False   False     False  False\n",
       "1           False  False  False  False   False     False  False\n",
       "2           False  False  False  False   False     False  False\n",
       "3           False  False  False  False   False     False  False\n",
       "4           False  False  False  False   False     False  False\n",
       "...           ...    ...    ...    ...     ...       ...    ...\n",
       "29992       False  False  False  False   False     False  False\n",
       "29993       False  False  False  False   False     False  False\n",
       "29994       False  False  False  False   False     False  False\n",
       "29995       False  False  False  False   False     False  False\n",
       "29996       False  False  False  False   False     False  False\n",
       "\n",
       "[29997 rows x 7 columns]"
      ]
     },
     "execution_count": 13,
     "metadata": {},
     "output_type": "execute_result"
    }
   ],
   "source": [
    "#checking null values\n",
    "\n",
    "df.isna()"
   ]
  },
  {
   "cell_type": "code",
   "execution_count": 14,
   "id": "ddcf4de4",
   "metadata": {
    "execution": {
     "iopub.execute_input": "2024-07-22T20:53:00.462303Z",
     "iopub.status.busy": "2024-07-22T20:53:00.461312Z",
     "iopub.status.idle": "2024-07-22T20:53:00.479283Z",
     "shell.execute_reply": "2024-07-22T20:53:00.478200Z"
    },
    "papermill": {
     "duration": 0.03147,
     "end_time": "2024-07-22T20:53:00.481618",
     "exception": false,
     "start_time": "2024-07-22T20:53:00.450148",
     "status": "completed"
    },
    "tags": []
   },
   "outputs": [
    {
     "data": {
      "text/plain": [
       "unnamed: 0      0\n",
       "id              0\n",
       "name            2\n",
       "brand           0\n",
       "colour          0\n",
       "category      114\n",
       "price           0\n",
       "dtype: int64"
      ]
     },
     "execution_count": 14,
     "metadata": {},
     "output_type": "execute_result"
    }
   ],
   "source": [
    "df.isna().sum()"
   ]
  },
  {
   "cell_type": "code",
   "execution_count": 15,
   "id": "2ff2ad51",
   "metadata": {
    "execution": {
     "iopub.execute_input": "2024-07-22T20:53:00.503933Z",
     "iopub.status.busy": "2024-07-22T20:53:00.502977Z",
     "iopub.status.idle": "2024-07-22T20:53:00.519267Z",
     "shell.execute_reply": "2024-07-22T20:53:00.518234Z"
    },
    "papermill": {
     "duration": 0.029757,
     "end_time": "2024-07-22T20:53:00.521557",
     "exception": false,
     "start_time": "2024-07-22T20:53:00.491800",
     "status": "completed"
    },
    "tags": []
   },
   "outputs": [
    {
     "data": {
      "text/plain": [
       "unnamed: 0      0\n",
       "id              0\n",
       "name            2\n",
       "brand           0\n",
       "colour          0\n",
       "category      114\n",
       "price           0\n",
       "dtype: int64"
      ]
     },
     "execution_count": 15,
     "metadata": {},
     "output_type": "execute_result"
    }
   ],
   "source": [
    "df.isnull().sum()\n",
    "#same functions"
   ]
  },
  {
   "cell_type": "code",
   "execution_count": 16,
   "id": "90a4723d",
   "metadata": {
    "execution": {
     "iopub.execute_input": "2024-07-22T20:53:00.544176Z",
     "iopub.status.busy": "2024-07-22T20:53:00.543758Z",
     "iopub.status.idle": "2024-07-22T20:53:00.566352Z",
     "shell.execute_reply": "2024-07-22T20:53:00.564938Z"
    },
    "papermill": {
     "duration": 0.036798,
     "end_time": "2024-07-22T20:53:00.569090",
     "exception": false,
     "start_time": "2024-07-22T20:53:00.532292",
     "status": "completed"
    },
    "tags": []
   },
   "outputs": [
    {
     "name": "stdout",
     "output_type": "stream",
     "text": [
      "       unnamed: 0     id                          name            brand  \\\n",
      "174           174  61602         Terri Dress in Bobcat      Reformation   \n",
      "175           175  65649              Twill Mini Dress        Courrèges   \n",
      "713           713  33095            Cottage Puff Dress           Selkie   \n",
      "799           799  27801               Andromeda Gown   Needle & Thread   \n",
      "806           806  28033                         Dress          ALEMAIS   \n",
      "...           ...    ...                           ...              ...   \n",
      "28060       28060  55593  Aubrielle white sequin dress        Retrofête   \n",
      "28233       28233   8496         Wavelength Midi Dress       Zimmermann   \n",
      "28980       28980  26082                    NEVA DRESS             ILTA   \n",
      "29202       29202  65643           Silk Provence Dress      Reformation   \n",
      "29203       29203  65634      ruffled tulle midi dress    Molly Goddard   \n",
      "\n",
      "       colour category  price  \n",
      "174     beige      NaN     41  \n",
      "175     beige      NaN     97  \n",
      "713     beige      NaN     47  \n",
      "799     beige      NaN     49  \n",
      "806     beige      NaN     67  \n",
      "...       ...      ...    ...  \n",
      "28060   white      NaN    124  \n",
      "28233   white      NaN    111  \n",
      "28980   white      NaN     62  \n",
      "29202  yellow      NaN     43  \n",
      "29203  yellow      NaN    160  \n",
      "\n",
      "[116 rows x 7 columns]\n"
     ]
    }
   ],
   "source": [
    "# Find the null values and delete or fix\n",
    "\n",
    "null_mask = df.isnull().any(axis=1)\n",
    "null_rows = df[null_mask]\n",
    "\n",
    "print(null_rows)"
   ]
  },
  {
   "cell_type": "code",
   "execution_count": 17,
   "id": "98e41f3c",
   "metadata": {
    "execution": {
     "iopub.execute_input": "2024-07-22T20:53:00.591594Z",
     "iopub.status.busy": "2024-07-22T20:53:00.591188Z",
     "iopub.status.idle": "2024-07-22T20:53:00.616972Z",
     "shell.execute_reply": "2024-07-22T20:53:00.615792Z"
    },
    "papermill": {
     "duration": 0.039972,
     "end_time": "2024-07-22T20:53:00.619495",
     "exception": false,
     "start_time": "2024-07-22T20:53:00.579523",
     "status": "completed"
    },
    "tags": []
   },
   "outputs": [
    {
     "name": "stdout",
     "output_type": "stream",
     "text": [
      "       unnamed: 0     id                                    name  \\\n",
      "0               0  74416                     Runway stripe dress   \n",
      "1               1  73815              Reformation Kourtney Dress   \n",
      "2               2  73801                Ivory Viola bridal dress   \n",
      "3               3  73718                 Pasu Dress - Rhino Tusk   \n",
      "4               4  73605                                   Ellen   \n",
      "...           ...    ...                                     ...   \n",
      "29992       29992    872  Silk and wool-blend crepe dress yellow   \n",
      "29993       29993    871                 La Guardia Matching Set   \n",
      "29994       29994    844   One-shoulder ruffled crepe mini dress   \n",
      "29995       29995    592                            Billie Dress   \n",
      "29996       29996    231   Yellow Maddie Striped-knit Mini Dress   \n",
      "\n",
      "                     brand  colour  \\\n",
      "0         Stella McCartney   beige   \n",
      "1              Reformation   beige   \n",
      "2                    Ghost   beige   \n",
      "3                   Coucoo   beige   \n",
      "4                     RIXO   beige   \n",
      "...                    ...     ...   \n",
      "29992     Victoria Beckham  yellow   \n",
      "29993  Faithfull The Brand  yellow   \n",
      "29994        Solace London  yellow   \n",
      "29995     Rebecca Vallance  yellow   \n",
      "29996      Melissa Odabash  yellow   \n",
      "\n",
      "                                                category  price  \n",
      "0                                                dresses    111  \n",
      "1                                                dresses     50  \n",
      "2                                                dresses     75  \n",
      "3                                                dresses     37  \n",
      "4                                                dresses     47  \n",
      "...                                                  ...    ...  \n",
      "29992  dresses, Smart, midi, Short Sleeve, Pencil, Mo...    102  \n",
      "29993  dresses, Floral, Polka Dot, Loose, Smart Casua...     43  \n",
      "29994  dresses, Vinyl-PVC-Synthetics, Smart, Formal, ...     75  \n",
      "29995  dresses, Cotton-Jersey, Tie-Front, Skinny-Fit,...     42  \n",
      "29996  dresses, Wool-Cashmere, Horizontal Stripe, Cas...     32  \n",
      "\n",
      "[29881 rows x 7 columns]\n"
     ]
    }
   ],
   "source": [
    "# subset the data ( you don't want to completely delete raw data)\n",
    "\n",
    "df.dropna(subset =['category'], inplace=True)\n",
    "df.dropna(subset =['name'], inplace=True)\n",
    "print(df)"
   ]
  },
  {
   "cell_type": "code",
   "execution_count": 18,
   "id": "3960b732",
   "metadata": {
    "execution": {
     "iopub.execute_input": "2024-07-22T20:53:00.642470Z",
     "iopub.status.busy": "2024-07-22T20:53:00.642069Z",
     "iopub.status.idle": "2024-07-22T20:53:00.673299Z",
     "shell.execute_reply": "2024-07-22T20:53:00.672040Z"
    },
    "papermill": {
     "duration": 0.046129,
     "end_time": "2024-07-22T20:53:00.676202",
     "exception": false,
     "start_time": "2024-07-22T20:53:00.630073",
     "status": "completed"
    },
    "tags": []
   },
   "outputs": [
    {
     "data": {
      "text/plain": [
       "0"
      ]
     },
     "execution_count": 18,
     "metadata": {},
     "output_type": "execute_result"
    }
   ],
   "source": [
    "# checking duplicates\n",
    "df.duplicated().sum()"
   ]
  },
  {
   "cell_type": "code",
   "execution_count": 19,
   "id": "8e05c6e5",
   "metadata": {
    "execution": {
     "iopub.execute_input": "2024-07-22T20:53:00.700138Z",
     "iopub.status.busy": "2024-07-22T20:53:00.699091Z",
     "iopub.status.idle": "2024-07-22T20:53:00.721065Z",
     "shell.execute_reply": "2024-07-22T20:53:00.720047Z"
    },
    "papermill": {
     "duration": 0.036026,
     "end_time": "2024-07-22T20:53:00.723171",
     "exception": false,
     "start_time": "2024-07-22T20:53:00.687145",
     "status": "completed"
    },
    "tags": []
   },
   "outputs": [
    {
     "data": {
      "text/plain": [
       "0        True\n",
       "1        True\n",
       "2        True\n",
       "3        True\n",
       "4        True\n",
       "         ... \n",
       "29992    True\n",
       "29993    True\n",
       "29994    True\n",
       "29995    True\n",
       "29996    True\n",
       "Name: category, Length: 29881, dtype: bool"
      ]
     },
     "execution_count": 19,
     "metadata": {},
     "output_type": "execute_result"
    }
   ],
   "source": [
    "df['category'].str.contains('dresses')\n"
   ]
  },
  {
   "cell_type": "code",
   "execution_count": 20,
   "id": "5231245d",
   "metadata": {
    "execution": {
     "iopub.execute_input": "2024-07-22T20:53:00.746937Z",
     "iopub.status.busy": "2024-07-22T20:53:00.746533Z",
     "iopub.status.idle": "2024-07-22T20:53:00.778955Z",
     "shell.execute_reply": "2024-07-22T20:53:00.777792Z"
    },
    "papermill": {
     "duration": 0.047365,
     "end_time": "2024-07-22T20:53:00.781407",
     "exception": false,
     "start_time": "2024-07-22T20:53:00.734042",
     "status": "completed"
    },
    "tags": []
   },
   "outputs": [
    {
     "name": "stdout",
     "output_type": "stream",
     "text": [
      "color_category\n",
      "Blacks & Darks          5466\n",
      "Blues                   3562\n",
      "Brights & Vibrant       8194\n",
      "Browns & Earth Tones     733\n",
      "Greens                  2850\n",
      "Metallics                829\n",
      "Neutrals                4065\n",
      "Prints and Patterns     4152\n",
      "dtype: int64\n"
     ]
    }
   ],
   "source": [
    "# Assuming the color column in your dataframe is 'colour'\n",
    "# Define the mapping of colors to categories\n",
    "color_map = {\n",
    "    'beige': 'Neutrals', 'cream': 'Neutrals', 'grey': 'Neutrals', 'white': 'Neutrals',\n",
    "    'black': 'Blacks & Darks', 'phantom': 'Blacks & Darks', 'navy': 'Blacks & Darks',\n",
    "    'brown': 'Browns & Earth Tones', 'copper': 'Browns & Earth Tones',\n",
    "    'gold': 'Metallics', 'silver': 'Metallics',\n",
    "    'blue': 'Blues',\n",
    "    'green': 'Greens',\n",
    "    'orange': 'Brights & Vibrant', 'pink': 'Brights & Vibrant', 'purple': 'Brights & Vibrant', 'red': 'Brights & Vibrant', 'yellow': 'Brights & Vibrant',\n",
    "    'multi': 'Prints and Patterns'\n",
    "}\n",
    "\n",
    "# Map the colors in the DataFrame to their categories\n",
    "df['color_category'] = df['colour'].map(color_map)\n",
    "\n",
    "# Clean data if necessary (e.g., remove or handle nulls, duplicates)\n",
    "df.dropna(subset=['category', 'name'], inplace=True)\n",
    "\n",
    "# Group by 'Color Category' to see the number of dresses in each category\n",
    "category_counts = df.groupby('color_category').size()\n",
    "\n",
    "# Optional: Print out the category counts to see the distribution\n",
    "print(category_counts)\n"
   ]
  },
  {
   "cell_type": "code",
   "execution_count": 21,
   "id": "20e95a1b",
   "metadata": {
    "execution": {
     "iopub.execute_input": "2024-07-22T20:53:00.804812Z",
     "iopub.status.busy": "2024-07-22T20:53:00.804429Z",
     "iopub.status.idle": "2024-07-22T20:53:00.834224Z",
     "shell.execute_reply": "2024-07-22T20:53:00.832964Z"
    },
    "papermill": {
     "duration": 0.044132,
     "end_time": "2024-07-22T20:53:00.836501",
     "exception": false,
     "start_time": "2024-07-22T20:53:00.792369",
     "status": "completed"
    },
    "tags": []
   },
   "outputs": [
    {
     "name": "stdout",
     "output_type": "stream",
     "text": [
      "25497\n"
     ]
    },
    {
     "data": {
      "text/html": [
       "<div>\n",
       "<style scoped>\n",
       "    .dataframe tbody tr th:only-of-type {\n",
       "        vertical-align: middle;\n",
       "    }\n",
       "\n",
       "    .dataframe tbody tr th {\n",
       "        vertical-align: top;\n",
       "    }\n",
       "\n",
       "    .dataframe thead th {\n",
       "        text-align: right;\n",
       "    }\n",
       "</style>\n",
       "<table border=\"1\" class=\"dataframe\">\n",
       "  <thead>\n",
       "    <tr style=\"text-align: right;\">\n",
       "      <th></th>\n",
       "      <th>unnamed: 0</th>\n",
       "      <th>id</th>\n",
       "      <th>name</th>\n",
       "      <th>brand</th>\n",
       "      <th>colour</th>\n",
       "      <th>category</th>\n",
       "      <th>price</th>\n",
       "      <th>color_category</th>\n",
       "    </tr>\n",
       "  </thead>\n",
       "  <tbody>\n",
       "    <tr>\n",
       "      <th>0</th>\n",
       "      <td>0</td>\n",
       "      <td>74416</td>\n",
       "      <td>Runway stripe dress</td>\n",
       "      <td>Stella McCartney</td>\n",
       "      <td>beige</td>\n",
       "      <td>dresses</td>\n",
       "      <td>111</td>\n",
       "      <td>Neutrals</td>\n",
       "    </tr>\n",
       "    <tr>\n",
       "      <th>1</th>\n",
       "      <td>1</td>\n",
       "      <td>73815</td>\n",
       "      <td>Reformation Kourtney Dress</td>\n",
       "      <td>Reformation</td>\n",
       "      <td>beige</td>\n",
       "      <td>dresses</td>\n",
       "      <td>50</td>\n",
       "      <td>Neutrals</td>\n",
       "    </tr>\n",
       "    <tr>\n",
       "      <th>2</th>\n",
       "      <td>2</td>\n",
       "      <td>73801</td>\n",
       "      <td>Ivory Viola bridal dress</td>\n",
       "      <td>Ghost</td>\n",
       "      <td>beige</td>\n",
       "      <td>dresses</td>\n",
       "      <td>75</td>\n",
       "      <td>Neutrals</td>\n",
       "    </tr>\n",
       "    <tr>\n",
       "      <th>3</th>\n",
       "      <td>3</td>\n",
       "      <td>73718</td>\n",
       "      <td>Pasu Dress - Rhino Tusk</td>\n",
       "      <td>Coucoo</td>\n",
       "      <td>beige</td>\n",
       "      <td>dresses</td>\n",
       "      <td>37</td>\n",
       "      <td>Neutrals</td>\n",
       "    </tr>\n",
       "    <tr>\n",
       "      <th>4</th>\n",
       "      <td>4</td>\n",
       "      <td>73605</td>\n",
       "      <td>Ellen</td>\n",
       "      <td>RIXO</td>\n",
       "      <td>beige</td>\n",
       "      <td>dresses</td>\n",
       "      <td>47</td>\n",
       "      <td>Neutrals</td>\n",
       "    </tr>\n",
       "    <tr>\n",
       "      <th>5</th>\n",
       "      <td>5</td>\n",
       "      <td>73583</td>\n",
       "      <td>Elena Dress Crystal Garden</td>\n",
       "      <td>Stine Goya</td>\n",
       "      <td>beige</td>\n",
       "      <td>dresses</td>\n",
       "      <td>64</td>\n",
       "      <td>Neutrals</td>\n",
       "    </tr>\n",
       "    <tr>\n",
       "      <th>6</th>\n",
       "      <td>6</td>\n",
       "      <td>73007</td>\n",
       "      <td>OBlanc Dress</td>\n",
       "      <td>New Arrivals</td>\n",
       "      <td>beige</td>\n",
       "      <td>dresses</td>\n",
       "      <td>145</td>\n",
       "      <td>Neutrals</td>\n",
       "    </tr>\n",
       "    <tr>\n",
       "      <th>7</th>\n",
       "      <td>7</td>\n",
       "      <td>73245</td>\n",
       "      <td>Melody Dress</td>\n",
       "      <td>Melissa Odabash</td>\n",
       "      <td>beige</td>\n",
       "      <td>dresses</td>\n",
       "      <td>52</td>\n",
       "      <td>Neutrals</td>\n",
       "    </tr>\n",
       "    <tr>\n",
       "      <th>8</th>\n",
       "      <td>8</td>\n",
       "      <td>73050</td>\n",
       "      <td>Isamaya Dress</td>\n",
       "      <td>Rat &amp; Boa</td>\n",
       "      <td>beige</td>\n",
       "      <td>dresses</td>\n",
       "      <td>38</td>\n",
       "      <td>Neutrals</td>\n",
       "    </tr>\n",
       "    <tr>\n",
       "      <th>9</th>\n",
       "      <td>9</td>\n",
       "      <td>73019</td>\n",
       "      <td>Belted Animal Print Mini Dress</td>\n",
       "      <td>ROTATE BIRGER CHRISTENSEN</td>\n",
       "      <td>beige</td>\n",
       "      <td>dresses</td>\n",
       "      <td>39</td>\n",
       "      <td>Neutrals</td>\n",
       "    </tr>\n",
       "  </tbody>\n",
       "</table>\n",
       "</div>"
      ],
      "text/plain": [
       "   unnamed: 0     id                            name  \\\n",
       "0           0  74416             Runway stripe dress   \n",
       "1           1  73815      Reformation Kourtney Dress   \n",
       "2           2  73801        Ivory Viola bridal dress   \n",
       "3           3  73718         Pasu Dress - Rhino Tusk   \n",
       "4           4  73605                           Ellen   \n",
       "5           5  73583     Elena Dress Crystal Garden    \n",
       "6           6  73007                   OBlanc Dress    \n",
       "7           7  73245                    Melody Dress   \n",
       "8           8  73050                   Isamaya Dress   \n",
       "9           9  73019  Belted Animal Print Mini Dress   \n",
       "\n",
       "                       brand colour category  price color_category  \n",
       "0           Stella McCartney  beige  dresses    111       Neutrals  \n",
       "1                Reformation  beige  dresses     50       Neutrals  \n",
       "2                      Ghost  beige  dresses     75       Neutrals  \n",
       "3                     Coucoo  beige  dresses     37       Neutrals  \n",
       "4                       RIXO  beige  dresses     47       Neutrals  \n",
       "5                 Stine Goya  beige  dresses     64       Neutrals  \n",
       "6               New Arrivals  beige  dresses    145       Neutrals  \n",
       "7            Melissa Odabash  beige  dresses     52       Neutrals  \n",
       "8                  Rat & Boa  beige  dresses     38       Neutrals  \n",
       "9  ROTATE BIRGER CHRISTENSEN  beige  dresses     39       Neutrals  "
      ]
     },
     "execution_count": 21,
     "metadata": {},
     "output_type": "execute_result"
    }
   ],
   "source": [
    "#Step Three: ANALYSIS\n",
    "\n",
    "#Categories\n",
    "\n",
    "# mass_market: These brands focus on offering the latest trends and \n",
    "#              styles at lower pries, often with a faster fashion cycle.\n",
    "#              less than ... on average\n",
    "\n",
    "# mid_range: These brands offer quality and style at a more \n",
    "#            accessible price point compared to luxury brands.\n",
    "#            between ... and ... on average\n",
    "\n",
    "# high_end: These items are associated with high-quality materials,\n",
    "#           expert craftsmanshiop, and a premium price point.\n",
    "#           more than ... on average >=\n",
    "\n",
    "#\n",
    "\n",
    "total_unique_count = df['name'].value_counts().size\n",
    "print(total_unique_count)\n",
    "df.head(10)\n"
   ]
  },
  {
   "cell_type": "code",
   "execution_count": 22,
   "id": "da30a931",
   "metadata": {
    "execution": {
     "iopub.execute_input": "2024-07-22T20:53:00.861852Z",
     "iopub.status.busy": "2024-07-22T20:53:00.860993Z",
     "iopub.status.idle": "2024-07-22T20:53:00.871165Z",
     "shell.execute_reply": "2024-07-22T20:53:00.869732Z"
    },
    "papermill": {
     "duration": 0.025372,
     "end_time": "2024-07-22T20:53:00.873455",
     "exception": false,
     "start_time": "2024-07-22T20:53:00.848083",
     "status": "completed"
    },
    "tags": []
   },
   "outputs": [
    {
     "name": "stdout",
     "output_type": "stream",
     "text": [
      "['dresses' 'dresses, midi' 'bottoms' ...\n",
      " 'dresses, Vinyl-PVC-Synthetics, Smart, Formal, Winter, Seasonal, mini, V-Necks'\n",
      " 'dresses, Cotton-Jersey, Tie-Front, Skinny-Fit, Smart, Formal, Summer, midi, Pencil, Monochrome'\n",
      " 'dresses, Wool-Cashmere, Horizontal Stripe, Casual, Winter, mini, Short Sleeve']\n"
     ]
    }
   ],
   "source": [
    "#There are 931 different brands\n",
    "#There are 20 different colours\n",
    "#There are 5399 different categories (They are all dresses)\n",
    "#There are 29881 different ids\n",
    "#There are 25497 different names\n",
    "\n",
    "category_values = df['category'].unique()\n",
    "print(category_values)\n",
    "\n"
   ]
  },
  {
   "cell_type": "code",
   "execution_count": 23,
   "id": "96d4686f",
   "metadata": {
    "execution": {
     "iopub.execute_input": "2024-07-22T20:53:00.898494Z",
     "iopub.status.busy": "2024-07-22T20:53:00.898105Z",
     "iopub.status.idle": "2024-07-22T20:53:00.958007Z",
     "shell.execute_reply": "2024-07-22T20:53:00.956897Z"
    },
    "papermill": {
     "duration": 0.075235,
     "end_time": "2024-07-22T20:53:00.960406",
     "exception": false,
     "start_time": "2024-07-22T20:53:00.885171",
     "status": "completed"
    },
    "tags": []
   },
   "outputs": [
    {
     "name": "stdout",
     "output_type": "stream",
     "text": [
      "       average_price fashion_level\n",
      "id                                \n",
      "64660          793.0      high_end\n",
      "30777          707.0      high_end\n",
      "69601          653.0      high_end\n",
      "58691          618.0      high_end\n",
      "71102          588.0      high_end\n",
      "28666          576.0      high_end\n",
      "49933          572.0      high_end\n",
      "11280          552.0      high_end\n",
      "60146          503.0      high_end\n",
      "45778          503.0      high_end\n"
     ]
    }
   ],
   "source": [
    "#Categories\n",
    "\n",
    "# mass_market: These brands focus on offering the latest trends and \n",
    "#              styles at lower pries, often with a faster fashion cycle.\n",
    "#              less than 75 on average\n",
    "\n",
    "# mid_range: These brands offer quality and style at a more \n",
    "#            accessible price point compared to luxury brands.\n",
    "#            between 75 and 300 on average\n",
    "\n",
    "# high_end: These items are associated with high-quality materials,\n",
    "#           expert craftsmanshiop, and a premium price point.\n",
    "#           more than 300 on average \n",
    "\n",
    "#The following was corrected by ChatGPT. I see how it grouped everything into one command\n",
    "#id_grp = df.groupby(['id'])\n",
    "#id_avg_price = id_grp['price'].mean().sort_values(ascending=False)\n",
    "#id_ave_price = id_avg_price.to_frame()\n",
    "\n",
    "# Group by 'id' and calculate the mean price for each id\n",
    "id_avg_price = df.groupby('id')['price'].mean().sort_values(ascending=False).to_frame()\n",
    "\n",
    "# Rename the column to 'average_price' for clarity\n",
    "id_avg_price.rename(columns={'price': 'average_price'}, inplace=True)\n",
    "\n",
    "\n",
    "#Define conditions for fashion levels (Create conditions)\n",
    "conditions = [\n",
    "    (id_avg_price['average_price'] <= 75),\n",
    "    (id_avg_price['average_price'] > 75) & (id_avg_price['average_price'] < 300),\n",
    "   (id_avg_price['average_price'] >= 300)]\n",
    "\n",
    "#Define the category labels\n",
    "categories = ['mass_market', 'mid_range', 'high_end']\n",
    "\n",
    "# Create a column\n",
    "id_avg_price['fashion_level'] = np.select(conditions, categories)\n",
    "\n",
    "#Storing column on a variable\n",
    "id_fashion_level = id_avg_price['fashion_level']\n",
    "\n",
    "#Display the DataFrame\n",
    "print(id_avg_price.head(10))"
   ]
  },
  {
   "cell_type": "code",
   "execution_count": 24,
   "id": "105f1c35",
   "metadata": {
    "execution": {
     "iopub.execute_input": "2024-07-22T20:53:00.985408Z",
     "iopub.status.busy": "2024-07-22T20:53:00.984995Z",
     "iopub.status.idle": "2024-07-22T20:53:00.995062Z",
     "shell.execute_reply": "2024-07-22T20:53:00.993929Z"
    },
    "papermill": {
     "duration": 0.025654,
     "end_time": "2024-07-22T20:53:00.997770",
     "exception": false,
     "start_time": "2024-07-22T20:53:00.972116",
     "status": "completed"
    },
    "tags": []
   },
   "outputs": [
    {
     "name": "stdout",
     "output_type": "stream",
     "text": [
      "fashion_level\n",
      "mass_market    23973\n",
      "mid_range       5846\n",
      "high_end          62\n",
      "Name: count, dtype: int64\n"
     ]
    }
   ],
   "source": [
    "#How many high end, mig range, and mass market do we have?\n",
    "\n",
    "category_counts = id_avg_price['fashion_level'].value_counts()\n",
    "\n",
    "# Display the counts\n",
    "print(category_counts)\n",
    "\n",
    "#Note that the company sells more mass_market clothing than anything."
   ]
  },
  {
   "cell_type": "code",
   "execution_count": 25,
   "id": "bf2028d2",
   "metadata": {
    "execution": {
     "iopub.execute_input": "2024-07-22T20:53:01.023012Z",
     "iopub.status.busy": "2024-07-22T20:53:01.022596Z",
     "iopub.status.idle": "2024-07-22T20:53:01.061486Z",
     "shell.execute_reply": "2024-07-22T20:53:01.060230Z"
    },
    "papermill": {
     "duration": 0.054375,
     "end_time": "2024-07-22T20:53:01.063876",
     "exception": false,
     "start_time": "2024-07-22T20:53:01.009501",
     "status": "completed"
    },
    "tags": []
   },
   "outputs": [
    {
     "name": "stdout",
     "output_type": "stream",
     "text": [
      "   unnamed: 0     id                        name             brand colour  \\\n",
      "0           0  74416         Runway stripe dress  Stella McCartney  beige   \n",
      "1           1  73815  Reformation Kourtney Dress       Reformation  beige   \n",
      "2           2  73801    Ivory Viola bridal dress             Ghost  beige   \n",
      "3           3  73718     Pasu Dress - Rhino Tusk            Coucoo  beige   \n",
      "4           4  73605                       Ellen              RIXO  beige   \n",
      "\n",
      "  category  price color_category  average_price fashion_level  \n",
      "0  dresses    111       Neutrals          111.0     mid_range  \n",
      "1  dresses     50       Neutrals           50.0   mass_market  \n",
      "2  dresses     75       Neutrals           75.0   mass_market  \n",
      "3  dresses     37       Neutrals           37.0   mass_market  \n",
      "4  dresses     47       Neutrals           47.0   mass_market  \n"
     ]
    }
   ],
   "source": [
    "# Assuming 'id_avg_price' has 'id' as its index after groupby operation\n",
    "# You might need to reset the index if 'id' is not a column\n",
    "id_avg_price.reset_index(inplace=True)\n",
    "\n",
    "# Merging 'df' with 'id_avg_price'\n",
    "df_merged = pd.merge(df, id_avg_price, on='id', how='inner')\n",
    "\n",
    "# Display the first few rows to verify the merge\n",
    "print(df_merged.head())"
   ]
  },
  {
   "cell_type": "code",
   "execution_count": 26,
   "id": "8d84a398",
   "metadata": {
    "execution": {
     "iopub.execute_input": "2024-07-22T20:53:01.090462Z",
     "iopub.status.busy": "2024-07-22T20:53:01.089296Z",
     "iopub.status.idle": "2024-07-22T20:53:01.100499Z",
     "shell.execute_reply": "2024-07-22T20:53:01.099217Z"
    },
    "papermill": {
     "duration": 0.026985,
     "end_time": "2024-07-22T20:53:01.103017",
     "exception": false,
     "start_time": "2024-07-22T20:53:01.076032",
     "status": "completed"
    },
    "tags": []
   },
   "outputs": [],
   "source": [
    "#I previously removed the column 'unnamed: 0' \n",
    "# Remove the column named 'unwanted_column'\n",
    "df_merged = df_merged.drop('unnamed: 0', axis=1)"
   ]
  },
  {
   "cell_type": "code",
   "execution_count": 27,
   "id": "c7311710",
   "metadata": {
    "execution": {
     "iopub.execute_input": "2024-07-22T20:53:01.130083Z",
     "iopub.status.busy": "2024-07-22T20:53:01.129290Z",
     "iopub.status.idle": "2024-07-22T20:53:01.138669Z",
     "shell.execute_reply": "2024-07-22T20:53:01.137602Z"
    },
    "papermill": {
     "duration": 0.025369,
     "end_time": "2024-07-22T20:53:01.141005",
     "exception": false,
     "start_time": "2024-07-22T20:53:01.115636",
     "status": "completed"
    },
    "tags": []
   },
   "outputs": [
    {
     "name": "stdout",
     "output_type": "stream",
     "text": [
      "      id                        name             brand colour category  price  \\\n",
      "0  74416         Runway stripe dress  Stella McCartney  beige  dresses    111   \n",
      "1  73815  Reformation Kourtney Dress       Reformation  beige  dresses     50   \n",
      "2  73801    Ivory Viola bridal dress             Ghost  beige  dresses     75   \n",
      "3  73718     Pasu Dress - Rhino Tusk            Coucoo  beige  dresses     37   \n",
      "4  73605                       Ellen              RIXO  beige  dresses     47   \n",
      "\n",
      "  color_category  average_price fashion_level  \n",
      "0       Neutrals          111.0     mid_range  \n",
      "1       Neutrals           50.0   mass_market  \n",
      "2       Neutrals           75.0   mass_market  \n",
      "3       Neutrals           37.0   mass_market  \n",
      "4       Neutrals           47.0   mass_market  \n"
     ]
    }
   ],
   "source": [
    "# Display the first few rows of the merged DataFrame to check the new 'fashion_level' column\n",
    "print(df_merged.head())\n"
   ]
  },
  {
   "cell_type": "code",
   "execution_count": 28,
   "id": "557e95a1",
   "metadata": {
    "execution": {
     "iopub.execute_input": "2024-07-22T20:53:01.167805Z",
     "iopub.status.busy": "2024-07-22T20:53:01.166913Z",
     "iopub.status.idle": "2024-07-22T20:53:01.180824Z",
     "shell.execute_reply": "2024-07-22T20:53:01.179774Z"
    },
    "papermill": {
     "duration": 0.029811,
     "end_time": "2024-07-22T20:53:01.183121",
     "exception": false,
     "start_time": "2024-07-22T20:53:01.153310",
     "status": "completed"
    },
    "tags": []
   },
   "outputs": [
    {
     "data": {
      "text/html": [
       "<div>\n",
       "<style scoped>\n",
       "    .dataframe tbody tr th:only-of-type {\n",
       "        vertical-align: middle;\n",
       "    }\n",
       "\n",
       "    .dataframe tbody tr th {\n",
       "        vertical-align: top;\n",
       "    }\n",
       "\n",
       "    .dataframe thead th {\n",
       "        text-align: right;\n",
       "    }\n",
       "</style>\n",
       "<table border=\"1\" class=\"dataframe\">\n",
       "  <thead>\n",
       "    <tr style=\"text-align: right;\">\n",
       "      <th></th>\n",
       "      <th>unnamed: 0</th>\n",
       "      <th>id</th>\n",
       "      <th>name</th>\n",
       "      <th>brand</th>\n",
       "      <th>colour</th>\n",
       "      <th>category</th>\n",
       "      <th>price</th>\n",
       "      <th>color_category</th>\n",
       "    </tr>\n",
       "  </thead>\n",
       "  <tbody>\n",
       "    <tr>\n",
       "      <th>0</th>\n",
       "      <td>0</td>\n",
       "      <td>74416</td>\n",
       "      <td>Runway stripe dress</td>\n",
       "      <td>Stella McCartney</td>\n",
       "      <td>beige</td>\n",
       "      <td>dresses</td>\n",
       "      <td>111</td>\n",
       "      <td>Neutrals</td>\n",
       "    </tr>\n",
       "    <tr>\n",
       "      <th>1</th>\n",
       "      <td>1</td>\n",
       "      <td>73815</td>\n",
       "      <td>Reformation Kourtney Dress</td>\n",
       "      <td>Reformation</td>\n",
       "      <td>beige</td>\n",
       "      <td>dresses</td>\n",
       "      <td>50</td>\n",
       "      <td>Neutrals</td>\n",
       "    </tr>\n",
       "    <tr>\n",
       "      <th>2</th>\n",
       "      <td>2</td>\n",
       "      <td>73801</td>\n",
       "      <td>Ivory Viola bridal dress</td>\n",
       "      <td>Ghost</td>\n",
       "      <td>beige</td>\n",
       "      <td>dresses</td>\n",
       "      <td>75</td>\n",
       "      <td>Neutrals</td>\n",
       "    </tr>\n",
       "    <tr>\n",
       "      <th>3</th>\n",
       "      <td>3</td>\n",
       "      <td>73718</td>\n",
       "      <td>Pasu Dress - Rhino Tusk</td>\n",
       "      <td>Coucoo</td>\n",
       "      <td>beige</td>\n",
       "      <td>dresses</td>\n",
       "      <td>37</td>\n",
       "      <td>Neutrals</td>\n",
       "    </tr>\n",
       "    <tr>\n",
       "      <th>4</th>\n",
       "      <td>4</td>\n",
       "      <td>73605</td>\n",
       "      <td>Ellen</td>\n",
       "      <td>RIXO</td>\n",
       "      <td>beige</td>\n",
       "      <td>dresses</td>\n",
       "      <td>47</td>\n",
       "      <td>Neutrals</td>\n",
       "    </tr>\n",
       "    <tr>\n",
       "      <th>5</th>\n",
       "      <td>5</td>\n",
       "      <td>73583</td>\n",
       "      <td>Elena Dress Crystal Garden</td>\n",
       "      <td>Stine Goya</td>\n",
       "      <td>beige</td>\n",
       "      <td>dresses</td>\n",
       "      <td>64</td>\n",
       "      <td>Neutrals</td>\n",
       "    </tr>\n",
       "    <tr>\n",
       "      <th>6</th>\n",
       "      <td>6</td>\n",
       "      <td>73007</td>\n",
       "      <td>OBlanc Dress</td>\n",
       "      <td>New Arrivals</td>\n",
       "      <td>beige</td>\n",
       "      <td>dresses</td>\n",
       "      <td>145</td>\n",
       "      <td>Neutrals</td>\n",
       "    </tr>\n",
       "    <tr>\n",
       "      <th>7</th>\n",
       "      <td>7</td>\n",
       "      <td>73245</td>\n",
       "      <td>Melody Dress</td>\n",
       "      <td>Melissa Odabash</td>\n",
       "      <td>beige</td>\n",
       "      <td>dresses</td>\n",
       "      <td>52</td>\n",
       "      <td>Neutrals</td>\n",
       "    </tr>\n",
       "    <tr>\n",
       "      <th>8</th>\n",
       "      <td>8</td>\n",
       "      <td>73050</td>\n",
       "      <td>Isamaya Dress</td>\n",
       "      <td>Rat &amp; Boa</td>\n",
       "      <td>beige</td>\n",
       "      <td>dresses</td>\n",
       "      <td>38</td>\n",
       "      <td>Neutrals</td>\n",
       "    </tr>\n",
       "    <tr>\n",
       "      <th>9</th>\n",
       "      <td>9</td>\n",
       "      <td>73019</td>\n",
       "      <td>Belted Animal Print Mini Dress</td>\n",
       "      <td>ROTATE BIRGER CHRISTENSEN</td>\n",
       "      <td>beige</td>\n",
       "      <td>dresses</td>\n",
       "      <td>39</td>\n",
       "      <td>Neutrals</td>\n",
       "    </tr>\n",
       "  </tbody>\n",
       "</table>\n",
       "</div>"
      ],
      "text/plain": [
       "   unnamed: 0     id                            name  \\\n",
       "0           0  74416             Runway stripe dress   \n",
       "1           1  73815      Reformation Kourtney Dress   \n",
       "2           2  73801        Ivory Viola bridal dress   \n",
       "3           3  73718         Pasu Dress - Rhino Tusk   \n",
       "4           4  73605                           Ellen   \n",
       "5           5  73583     Elena Dress Crystal Garden    \n",
       "6           6  73007                   OBlanc Dress    \n",
       "7           7  73245                    Melody Dress   \n",
       "8           8  73050                   Isamaya Dress   \n",
       "9           9  73019  Belted Animal Print Mini Dress   \n",
       "\n",
       "                       brand colour category  price color_category  \n",
       "0           Stella McCartney  beige  dresses    111       Neutrals  \n",
       "1                Reformation  beige  dresses     50       Neutrals  \n",
       "2                      Ghost  beige  dresses     75       Neutrals  \n",
       "3                     Coucoo  beige  dresses     37       Neutrals  \n",
       "4                       RIXO  beige  dresses     47       Neutrals  \n",
       "5                 Stine Goya  beige  dresses     64       Neutrals  \n",
       "6               New Arrivals  beige  dresses    145       Neutrals  \n",
       "7            Melissa Odabash  beige  dresses     52       Neutrals  \n",
       "8                  Rat & Boa  beige  dresses     38       Neutrals  \n",
       "9  ROTATE BIRGER CHRISTENSEN  beige  dresses     39       Neutrals  "
      ]
     },
     "execution_count": 28,
     "metadata": {},
     "output_type": "execute_result"
    }
   ],
   "source": [
    "df.head(10)"
   ]
  },
  {
   "cell_type": "code",
   "execution_count": 29,
   "id": "f4962a42",
   "metadata": {
    "execution": {
     "iopub.execute_input": "2024-07-22T20:53:01.209698Z",
     "iopub.status.busy": "2024-07-22T20:53:01.209337Z",
     "iopub.status.idle": "2024-07-22T20:53:01.225470Z",
     "shell.execute_reply": "2024-07-22T20:53:01.224409Z"
    },
    "papermill": {
     "duration": 0.032051,
     "end_time": "2024-07-22T20:53:01.227646",
     "exception": false,
     "start_time": "2024-07-22T20:53:01.195595",
     "status": "completed"
    },
    "tags": []
   },
   "outputs": [
    {
     "data": {
      "text/html": [
       "<div>\n",
       "<style scoped>\n",
       "    .dataframe tbody tr th:only-of-type {\n",
       "        vertical-align: middle;\n",
       "    }\n",
       "\n",
       "    .dataframe tbody tr th {\n",
       "        vertical-align: top;\n",
       "    }\n",
       "\n",
       "    .dataframe thead th {\n",
       "        text-align: right;\n",
       "    }\n",
       "</style>\n",
       "<table border=\"1\" class=\"dataframe\">\n",
       "  <thead>\n",
       "    <tr style=\"text-align: right;\">\n",
       "      <th></th>\n",
       "      <th>id</th>\n",
       "      <th>name</th>\n",
       "      <th>brand</th>\n",
       "      <th>colour</th>\n",
       "      <th>category</th>\n",
       "      <th>price</th>\n",
       "      <th>color_category</th>\n",
       "      <th>average_price</th>\n",
       "      <th>fashion_level</th>\n",
       "    </tr>\n",
       "  </thead>\n",
       "  <tbody>\n",
       "    <tr>\n",
       "      <th>0</th>\n",
       "      <td>74416</td>\n",
       "      <td>Runway stripe dress</td>\n",
       "      <td>Stella McCartney</td>\n",
       "      <td>beige</td>\n",
       "      <td>dresses</td>\n",
       "      <td>111</td>\n",
       "      <td>Neutrals</td>\n",
       "      <td>111.0</td>\n",
       "      <td>mid_range</td>\n",
       "    </tr>\n",
       "    <tr>\n",
       "      <th>1</th>\n",
       "      <td>73815</td>\n",
       "      <td>Reformation Kourtney Dress</td>\n",
       "      <td>Reformation</td>\n",
       "      <td>beige</td>\n",
       "      <td>dresses</td>\n",
       "      <td>50</td>\n",
       "      <td>Neutrals</td>\n",
       "      <td>50.0</td>\n",
       "      <td>mass_market</td>\n",
       "    </tr>\n",
       "    <tr>\n",
       "      <th>2</th>\n",
       "      <td>73801</td>\n",
       "      <td>Ivory Viola bridal dress</td>\n",
       "      <td>Ghost</td>\n",
       "      <td>beige</td>\n",
       "      <td>dresses</td>\n",
       "      <td>75</td>\n",
       "      <td>Neutrals</td>\n",
       "      <td>75.0</td>\n",
       "      <td>mass_market</td>\n",
       "    </tr>\n",
       "    <tr>\n",
       "      <th>3</th>\n",
       "      <td>73718</td>\n",
       "      <td>Pasu Dress - Rhino Tusk</td>\n",
       "      <td>Coucoo</td>\n",
       "      <td>beige</td>\n",
       "      <td>dresses</td>\n",
       "      <td>37</td>\n",
       "      <td>Neutrals</td>\n",
       "      <td>37.0</td>\n",
       "      <td>mass_market</td>\n",
       "    </tr>\n",
       "    <tr>\n",
       "      <th>4</th>\n",
       "      <td>73605</td>\n",
       "      <td>Ellen</td>\n",
       "      <td>RIXO</td>\n",
       "      <td>beige</td>\n",
       "      <td>dresses</td>\n",
       "      <td>47</td>\n",
       "      <td>Neutrals</td>\n",
       "      <td>47.0</td>\n",
       "      <td>mass_market</td>\n",
       "    </tr>\n",
       "    <tr>\n",
       "      <th>5</th>\n",
       "      <td>73583</td>\n",
       "      <td>Elena Dress Crystal Garden</td>\n",
       "      <td>Stine Goya</td>\n",
       "      <td>beige</td>\n",
       "      <td>dresses</td>\n",
       "      <td>64</td>\n",
       "      <td>Neutrals</td>\n",
       "      <td>64.0</td>\n",
       "      <td>mass_market</td>\n",
       "    </tr>\n",
       "    <tr>\n",
       "      <th>6</th>\n",
       "      <td>73007</td>\n",
       "      <td>OBlanc Dress</td>\n",
       "      <td>New Arrivals</td>\n",
       "      <td>beige</td>\n",
       "      <td>dresses</td>\n",
       "      <td>145</td>\n",
       "      <td>Neutrals</td>\n",
       "      <td>145.0</td>\n",
       "      <td>mid_range</td>\n",
       "    </tr>\n",
       "    <tr>\n",
       "      <th>7</th>\n",
       "      <td>73245</td>\n",
       "      <td>Melody Dress</td>\n",
       "      <td>Melissa Odabash</td>\n",
       "      <td>beige</td>\n",
       "      <td>dresses</td>\n",
       "      <td>52</td>\n",
       "      <td>Neutrals</td>\n",
       "      <td>52.0</td>\n",
       "      <td>mass_market</td>\n",
       "    </tr>\n",
       "    <tr>\n",
       "      <th>8</th>\n",
       "      <td>73050</td>\n",
       "      <td>Isamaya Dress</td>\n",
       "      <td>Rat &amp; Boa</td>\n",
       "      <td>beige</td>\n",
       "      <td>dresses</td>\n",
       "      <td>38</td>\n",
       "      <td>Neutrals</td>\n",
       "      <td>38.0</td>\n",
       "      <td>mass_market</td>\n",
       "    </tr>\n",
       "    <tr>\n",
       "      <th>9</th>\n",
       "      <td>73019</td>\n",
       "      <td>Belted Animal Print Mini Dress</td>\n",
       "      <td>ROTATE BIRGER CHRISTENSEN</td>\n",
       "      <td>beige</td>\n",
       "      <td>dresses</td>\n",
       "      <td>39</td>\n",
       "      <td>Neutrals</td>\n",
       "      <td>39.0</td>\n",
       "      <td>mass_market</td>\n",
       "    </tr>\n",
       "  </tbody>\n",
       "</table>\n",
       "</div>"
      ],
      "text/plain": [
       "      id                            name                      brand colour  \\\n",
       "0  74416             Runway stripe dress           Stella McCartney  beige   \n",
       "1  73815      Reformation Kourtney Dress                Reformation  beige   \n",
       "2  73801        Ivory Viola bridal dress                      Ghost  beige   \n",
       "3  73718         Pasu Dress - Rhino Tusk                     Coucoo  beige   \n",
       "4  73605                           Ellen                       RIXO  beige   \n",
       "5  73583     Elena Dress Crystal Garden                  Stine Goya  beige   \n",
       "6  73007                   OBlanc Dress                New Arrivals  beige   \n",
       "7  73245                    Melody Dress            Melissa Odabash  beige   \n",
       "8  73050                   Isamaya Dress                  Rat & Boa  beige   \n",
       "9  73019  Belted Animal Print Mini Dress  ROTATE BIRGER CHRISTENSEN  beige   \n",
       "\n",
       "  category  price color_category  average_price fashion_level  \n",
       "0  dresses    111       Neutrals          111.0     mid_range  \n",
       "1  dresses     50       Neutrals           50.0   mass_market  \n",
       "2  dresses     75       Neutrals           75.0   mass_market  \n",
       "3  dresses     37       Neutrals           37.0   mass_market  \n",
       "4  dresses     47       Neutrals           47.0   mass_market  \n",
       "5  dresses     64       Neutrals           64.0   mass_market  \n",
       "6  dresses    145       Neutrals          145.0     mid_range  \n",
       "7  dresses     52       Neutrals           52.0   mass_market  \n",
       "8  dresses     38       Neutrals           38.0   mass_market  \n",
       "9  dresses     39       Neutrals           39.0   mass_market  "
      ]
     },
     "execution_count": 29,
     "metadata": {},
     "output_type": "execute_result"
    }
   ],
   "source": [
    "df_merged.head(10)"
   ]
  },
  {
   "cell_type": "code",
   "execution_count": 30,
   "id": "af239adf",
   "metadata": {
    "execution": {
     "iopub.execute_input": "2024-07-22T20:53:01.254899Z",
     "iopub.status.busy": "2024-07-22T20:53:01.254504Z",
     "iopub.status.idle": "2024-07-22T20:53:01.263847Z",
     "shell.execute_reply": "2024-07-22T20:53:01.262573Z"
    },
    "papermill": {
     "duration": 0.025697,
     "end_time": "2024-07-22T20:53:01.266206",
     "exception": false,
     "start_time": "2024-07-22T20:53:01.240509",
     "status": "completed"
    },
    "tags": []
   },
   "outputs": [
    {
     "name": "stdout",
     "output_type": "stream",
     "text": [
      "colour\n",
      "black      4670\n",
      "multi      4152\n",
      "blue       3562\n",
      "pink       3478\n",
      "green      2850\n",
      "white      2323\n",
      "red        2257\n",
      "beige      1103\n",
      "yellow      942\n",
      "purple      811\n",
      "navy        780\n",
      "orange      706\n",
      "brown       615\n",
      "cream       525\n",
      "gold        466\n",
      "silver      363\n",
      "copper      118\n",
      "grey        114\n",
      "tan          30\n",
      "phantom      16\n",
      "Name: count, dtype: int64\n"
     ]
    }
   ],
   "source": [
    "#How many of each different colour do we have?\n",
    "\n",
    "colour_counts = df_merged['colour'].value_counts()\n",
    "\n",
    "# Display the counts\n",
    "print(colour_counts)\n",
    "\n",
    "#Note that the company sells more black clothing than anything.\n",
    "#However, none of the colours are outliers\n",
    "#They may consider merging colour categories to cut back on choices\n",
    "#For an example merging tan, beige, cream, and white"
   ]
  },
  {
   "cell_type": "code",
   "execution_count": 31,
   "id": "97ad309d",
   "metadata": {
    "execution": {
     "iopub.execute_input": "2024-07-22T20:53:01.294107Z",
     "iopub.status.busy": "2024-07-22T20:53:01.293242Z",
     "iopub.status.idle": "2024-07-22T20:53:01.313058Z",
     "shell.execute_reply": "2024-07-22T20:53:01.311646Z"
    },
    "papermill": {
     "duration": 0.036216,
     "end_time": "2024-07-22T20:53:01.315390",
     "exception": false,
     "start_time": "2024-07-22T20:53:01.279174",
     "status": "completed"
    },
    "tags": []
   },
   "outputs": [
    {
     "name": "stdout",
     "output_type": "stream",
     "text": [
      "name\n",
      "Dress                                    38\n",
      "The Alexandra Dress                      33\n",
      "Atlanta Linen Dress                      26\n",
      "Nikita Dress                             22\n",
      "Isabella Dress                           22\n",
      "                                         ..\n",
      "Rehannin                                  1\n",
      "Boucle embellished dress                  1\n",
      "Wendelin Dress                            1\n",
      "Bridgette 'Dice'                          1\n",
      "Yellow Maddie Striped-knit Mini Dress     1\n",
      "Name: count, Length: 25497, dtype: int64\n"
     ]
    }
   ],
   "source": [
    "#How many of each different colour do we have?\n",
    "\n",
    "name_counts = df_merged['name'].value_counts()\n",
    "\n",
    "# Display the counts\n",
    "print(name_counts)\n",
    "\n",
    "#Note that there are 38 items that don't have a dress name.\n",
    "#We need to delete these values."
   ]
  },
  {
   "cell_type": "code",
   "execution_count": 32,
   "id": "84e5cdd2",
   "metadata": {
    "execution": {
     "iopub.execute_input": "2024-07-22T20:53:01.345267Z",
     "iopub.status.busy": "2024-07-22T20:53:01.344778Z",
     "iopub.status.idle": "2024-07-22T20:53:01.362705Z",
     "shell.execute_reply": "2024-07-22T20:53:01.361513Z"
    },
    "papermill": {
     "duration": 0.036186,
     "end_time": "2024-07-22T20:53:01.365104",
     "exception": false,
     "start_time": "2024-07-22T20:53:01.328918",
     "status": "completed"
    },
    "tags": []
   },
   "outputs": [
    {
     "name": "stdout",
     "output_type": "stream",
     "text": [
      "0\n"
     ]
    }
   ],
   "source": [
    "#Delete the values that don't have a name\n",
    "\n",
    "# Assuming df_merged is your current DataFrame\n",
    "# Filter out rows where 'name' column is exactly 'Dress'\n",
    "df_filtered = df_merged[df_merged['name'] != 'Dress']\n",
    "\n",
    "# Verify that no rows named 'Dress' are left\n",
    "print(df_filtered[df_filtered['name'] == 'Dress'].shape[0])"
   ]
  },
  {
   "cell_type": "code",
   "execution_count": 33,
   "id": "5522a5cf",
   "metadata": {
    "execution": {
     "iopub.execute_input": "2024-07-22T20:53:01.450891Z",
     "iopub.status.busy": "2024-07-22T20:53:01.450505Z",
     "iopub.status.idle": "2024-07-22T20:53:01.460538Z",
     "shell.execute_reply": "2024-07-22T20:53:01.459500Z"
    },
    "papermill": {
     "duration": 0.084636,
     "end_time": "2024-07-22T20:53:01.462923",
     "exception": false,
     "start_time": "2024-07-22T20:53:01.378287",
     "status": "completed"
    },
    "tags": []
   },
   "outputs": [
    {
     "name": "stdout",
     "output_type": "stream",
     "text": [
      "      id                            name                      brand colour  \\\n",
      "0  74416             Runway stripe dress           Stella McCartney  beige   \n",
      "1  73815      Reformation Kourtney Dress                Reformation  beige   \n",
      "2  73801        Ivory Viola bridal dress                      Ghost  beige   \n",
      "3  73718         Pasu Dress - Rhino Tusk                     Coucoo  beige   \n",
      "4  73605                           Ellen                       RIXO  beige   \n",
      "5  73583     Elena Dress Crystal Garden                  Stine Goya  beige   \n",
      "6  73007                   OBlanc Dress                New Arrivals  beige   \n",
      "7  73245                    Melody Dress            Melissa Odabash  beige   \n",
      "8  73050                   Isamaya Dress                  Rat & Boa  beige   \n",
      "9  73019  Belted Animal Print Mini Dress  ROTATE BIRGER CHRISTENSEN  beige   \n",
      "\n",
      "  category  price color_category  average_price fashion_level  \n",
      "0  dresses    111       Neutrals          111.0     mid_range  \n",
      "1  dresses     50       Neutrals           50.0   mass_market  \n",
      "2  dresses     75       Neutrals           75.0   mass_market  \n",
      "3  dresses     37       Neutrals           37.0   mass_market  \n",
      "4  dresses     47       Neutrals           47.0   mass_market  \n",
      "5  dresses     64       Neutrals           64.0   mass_market  \n",
      "6  dresses    145       Neutrals          145.0     mid_range  \n",
      "7  dresses     52       Neutrals           52.0   mass_market  \n",
      "8  dresses     38       Neutrals           38.0   mass_market  \n",
      "9  dresses     39       Neutrals           39.0   mass_market  \n"
     ]
    }
   ],
   "source": [
    "# Display the first 10 rows of the filtered DataFrame\n",
    "print(df_filtered.head(10))"
   ]
  },
  {
   "cell_type": "code",
   "execution_count": 34,
   "id": "dc4becd0",
   "metadata": {
    "execution": {
     "iopub.execute_input": "2024-07-22T20:53:01.492045Z",
     "iopub.status.busy": "2024-07-22T20:53:01.491606Z",
     "iopub.status.idle": "2024-07-22T20:53:01.512727Z",
     "shell.execute_reply": "2024-07-22T20:53:01.511608Z"
    },
    "papermill": {
     "duration": 0.038776,
     "end_time": "2024-07-22T20:53:01.515158",
     "exception": false,
     "start_time": "2024-07-22T20:53:01.476382",
     "status": "completed"
    },
    "tags": []
   },
   "outputs": [
    {
     "data": {
      "text/html": [
       "<div>\n",
       "<style scoped>\n",
       "    .dataframe tbody tr th:only-of-type {\n",
       "        vertical-align: middle;\n",
       "    }\n",
       "\n",
       "    .dataframe tbody tr th {\n",
       "        vertical-align: top;\n",
       "    }\n",
       "\n",
       "    .dataframe thead th {\n",
       "        text-align: right;\n",
       "    }\n",
       "</style>\n",
       "<table border=\"1\" class=\"dataframe\">\n",
       "  <thead>\n",
       "    <tr style=\"text-align: right;\">\n",
       "      <th></th>\n",
       "      <th>price</th>\n",
       "      <th>average_price</th>\n",
       "    </tr>\n",
       "  </thead>\n",
       "  <tbody>\n",
       "    <tr>\n",
       "      <th>count</th>\n",
       "      <td>29843.000000</td>\n",
       "      <td>29843.000000</td>\n",
       "    </tr>\n",
       "    <tr>\n",
       "      <th>mean</th>\n",
       "      <td>61.558791</td>\n",
       "      <td>61.558791</td>\n",
       "    </tr>\n",
       "    <tr>\n",
       "      <th>std</th>\n",
       "      <td>38.007480</td>\n",
       "      <td>38.007480</td>\n",
       "    </tr>\n",
       "    <tr>\n",
       "      <th>min</th>\n",
       "      <td>11.000000</td>\n",
       "      <td>11.000000</td>\n",
       "    </tr>\n",
       "    <tr>\n",
       "      <th>25%</th>\n",
       "      <td>40.000000</td>\n",
       "      <td>40.000000</td>\n",
       "    </tr>\n",
       "    <tr>\n",
       "      <th>50%</th>\n",
       "      <td>51.000000</td>\n",
       "      <td>51.000000</td>\n",
       "    </tr>\n",
       "    <tr>\n",
       "      <th>75%</th>\n",
       "      <td>69.000000</td>\n",
       "      <td>69.000000</td>\n",
       "    </tr>\n",
       "    <tr>\n",
       "      <th>max</th>\n",
       "      <td>793.000000</td>\n",
       "      <td>793.000000</td>\n",
       "    </tr>\n",
       "  </tbody>\n",
       "</table>\n",
       "</div>"
      ],
      "text/plain": [
       "              price  average_price\n",
       "count  29843.000000   29843.000000\n",
       "mean      61.558791      61.558791\n",
       "std       38.007480      38.007480\n",
       "min       11.000000      11.000000\n",
       "25%       40.000000      40.000000\n",
       "50%       51.000000      51.000000\n",
       "75%       69.000000      69.000000\n",
       "max      793.000000     793.000000"
      ]
     },
     "execution_count": 34,
     "metadata": {},
     "output_type": "execute_result"
    }
   ],
   "source": [
    "df_filtered.describe()"
   ]
  },
  {
   "cell_type": "code",
   "execution_count": 35,
   "id": "6f9cf349",
   "metadata": {
    "execution": {
     "iopub.execute_input": "2024-07-22T20:53:01.544484Z",
     "iopub.status.busy": "2024-07-22T20:53:01.544089Z",
     "iopub.status.idle": "2024-07-22T20:53:01.974258Z",
     "shell.execute_reply": "2024-07-22T20:53:01.972913Z"
    },
    "papermill": {
     "duration": 0.447928,
     "end_time": "2024-07-22T20:53:01.976858",
     "exception": false,
     "start_time": "2024-07-22T20:53:01.528930",
     "status": "completed"
    },
    "tags": []
   },
   "outputs": [
    {
     "data": {
      "image/png": "[encoded data removed]",
      "text/plain": [
       "<Figure size 1200x600 with 1 Axes>"
      ]
     },
     "metadata": {},
     "output_type": "display_data"
    }
   ],
   "source": [
    "import pandas as pd\n",
    "import seaborn as sns\n",
    "import matplotlib.pyplot as plt\n",
    "\n",
    "# Assuming df_filtered has already been defined and contains the necessary data\n",
    "\n",
    "# Sample 10% of the data randomly\n",
    "df_sample = df_filtered.sample(n=380, random_state=42)\n",
    "\n",
    "# Setting the plot style and size\n",
    "plt.figure(figsize=(12, 6))  # Adjust the size as needed\n",
    "sns.set(style=\"whitegrid\")  # This sets the style of the plot to have a white grid background\n",
    "\n",
    "# Create a box plot\n",
    "sns.boxplot(x='fashion_level', y='price', data=df_sample)\n",
    "\n",
    "# Adding titles and labels to enhance clarity\n",
    "plt.title('Price distribution by Fashion Level (Sampled Data)')\n",
    "plt.xlabel('fashion_level')\n",
    "plt.ylabel('price')\n",
    "\n",
    "# Display the plot\n",
    "plt.show()\n",
    "\n",
    "# This doesn't work because the price is already correlated to fashion_level"
   ]
  },
  {
   "cell_type": "code",
   "execution_count": 36,
   "id": "8c44802d",
   "metadata": {
    "execution": {
     "iopub.execute_input": "2024-07-22T20:53:02.009251Z",
     "iopub.status.busy": "2024-07-22T20:53:02.008814Z",
     "iopub.status.idle": "2024-07-22T20:53:04.597970Z",
     "shell.execute_reply": "2024-07-22T20:53:04.596738Z"
    },
    "papermill": {
     "duration": 2.608534,
     "end_time": "2024-07-22T20:53:04.600505",
     "exception": false,
     "start_time": "2024-07-22T20:53:01.991971",
     "status": "completed"
    },
    "tags": []
   },
   "outputs": [
    {
     "data": {
      "text/html": [
       "        <script type=\"text/javascript\">\n",
       "        window.PlotlyConfig = {MathJaxConfig: 'local'};\n",
       "        if (window.MathJax && window.MathJax.Hub && window.MathJax.Hub.Config) {window.MathJax.Hub.Config({SVG: {font: \"STIX-Web\"}});}\n",
       "        if (typeof require !== 'undefined') {\n",
       "        require.undef(\"plotly\");\n",
       "        requirejs.config({\n",
       "            paths: {\n",
       "                'plotly': ['https://cdn.plot.ly/plotly-2.27.0.min']\n",
       "            }\n",
       "        });\n",
       "        require(['plotly'], function(Plotly) {\n",
       "            window._Plotly = Plotly;\n",
       "        });\n",
       "        }\n",
       "        </script>\n",
       "        "
      ]
     },
     "metadata": {},
     "output_type": "display_data"
    },
    {
     "data": {
      "text/html": [
       "<div>                            <div id=\"d6c8630b-6a8e-4355-8528-9a247a7c5707\" class=\"plotly-graph-div\" style=\"height:525px; width:100%;\"></div>            <script type=\"text/javascript\">                require([\"plotly\"], function(Plotly) {                    window.PLOTLYENV=window.PLOTLYENV || {};                                    if (document.getElementById(\"d6c8630b-6a8e-4355-8528-9a247a7c5707\")) {                    Plotly.newPlot(                        \"d6c8630b-6a8e-4355-8528-9a247a7c5707\",                        [{\"alignmentgroup\":\"True\",\"hovertemplate\":\"colour=%{x}\\u003cbr\\u003efrequency=%{y}\\u003cextra\\u003e\\u003c\\u002fextra\\u003e\",\"legendgroup\":\"\",\"marker\":{\"color\":\"#636efa\",\"pattern\":{\"shape\":\"\"}},\"name\":\"\",\"offsetgroup\":\"\",\"orientation\":\"v\",\"showlegend\":false,\"textposition\":\"auto\",\"x\":[\"black\",\"multi\",\"blue\",\"pink\",\"green\",\"white\",\"red\",\"beige\",\"yellow\",\"purple\",\"navy\",\"orange\",\"brown\",\"cream\",\"gold\",\"silver\",\"copper\",\"grey\",\"tan\",\"phantom\"],\"xaxis\":\"x\",\"y\":[4665,4150,3557,3473,2848,2317,2256,1096,942,811,778,705,615,524,466,363,118,114,30,15],\"yaxis\":\"y\",\"type\":\"bar\"}],                        {\"template\":{\"data\":{\"histogram2dcontour\":[{\"type\":\"histogram2dcontour\",\"colorbar\":{\"outlinewidth\":0,\"ticks\":\"\"},\"colorscale\":[[0.0,\"#0d0887\"],[0.1111111111111111,\"#46039f\"],[0.2222222222222222,\"#7201a8\"],[0.3333333333333333,\"#9c179e\"],[0.4444444444444444,\"#bd3786\"],[0.5555555555555556,\"#d8576b\"],[0.6666666666666666,\"#ed7953\"],[0.7777777777777778,\"#fb9f3a\"],[0.8888888888888888,\"#fdca26\"],[1.0,\"#f0f921\"]]}],\"choropleth\":[{\"type\":\"choropleth\",\"colorbar\":{\"outlinewidth\":0,\"ticks\":\"\"}}],\"histogram2d\":[{\"type\":\"histogram2d\",\"colorbar\":{\"outlinewidth\":0,\"ticks\":\"\"},\"colorscale\":[[0.0,\"#0d0887\"],[0.1111111111111111,\"#46039f\"],[0.2222222222222222,\"#7201a8\"],[0.3333333333333333,\"#9c179e\"],[0.4444444444444444,\"#bd3786\"],[0.5555555555555556,\"#d8576b\"],[0.6666666666666666,\"#ed7953\"],[0.7777777777777778,\"#fb9f3a\"],[0.8888888888888888,\"#fdca26\"],[1.0,\"#f0f921\"]]}],\"heatmap\":[{\"type\":\"heatmap\",\"colorbar\":{\"outlinewidth\":0,\"ticks\":\"\"},\"colorscale\":[[0.0,\"#0d0887\"],[0.1111111111111111,\"#46039f\"],[0.2222222222222222,\"#7201a8\"],[0.3333333333333333,\"#9c179e\"],[0.4444444444444444,\"#bd3786\"],[0.5555555555555556,\"#d8576b\"],[0.6666666666666666,\"#ed7953\"],[0.7777777777777778,\"#fb9f3a\"],[0.8888888888888888,\"#fdca26\"],[1.0,\"#f0f921\"]]}],\"heatmapgl\":[{\"type\":\"heatmapgl\",\"colorbar\":{\"outlinewidth\":0,\"ticks\":\"\"},\"colorscale\":[[0.0,\"#0d0887\"],[0.1111111111111111,\"#46039f\"],[0.2222222222222222,\"#7201a8\"],[0.3333333333333333,\"#9c179e\"],[0.4444444444444444,\"#bd3786\"],[0.5555555555555556,\"#d8576b\"],[0.6666666666666666,\"#ed7953\"],[0.7777777777777778,\"#fb9f3a\"],[0.8888888888888888,\"#fdca26\"],[1.0,\"#f0f921\"]]}],\"contourcarpet\":[{\"type\":\"contourcarpet\",\"colorbar\":{\"outlinewidth\":0,\"ticks\":\"\"}}],\"contour\":[{\"type\":\"contour\",\"colorbar\":{\"outlinewidth\":0,\"ticks\":\"\"},\"colorscale\":[[0.0,\"#0d0887\"],[0.1111111111111111,\"#46039f\"],[0.2222222222222222,\"#7201a8\"],[0.3333333333333333,\"#9c179e\"],[0.4444444444444444,\"#bd3786\"],[0.5555555555555556,\"#d8576b\"],[0.6666666666666666,\"#ed7953\"],[0.7777777777777778,\"#fb9f3a\"],[0.8888888888888888,\"#fdca26\"],[1.0,\"#f0f921\"]]}],\"surface\":[{\"type\":\"surface\",\"colorbar\":{\"outlinewidth\":0,\"ticks\":\"\"},\"colorscale\":[[0.0,\"#0d0887\"],[0.1111111111111111,\"#46039f\"],[0.2222222222222222,\"#7201a8\"],[0.3333333333333333,\"#9c179e\"],[0.4444444444444444,\"#bd3786\"],[0.5555555555555556,\"#d8576b\"],[0.6666666666666666,\"#ed7953\"],[0.7777777777777778,\"#fb9f3a\"],[0.8888888888888888,\"#fdca26\"],[1.0,\"#f0f921\"]]}],\"mesh3d\":[{\"type\":\"mesh3d\",\"colorbar\":{\"outlinewidth\":0,\"ticks\":\"\"}}],\"scatter\":[{\"fillpattern\":{\"fillmode\":\"overlay\",\"size\":10,\"solidity\":0.2},\"type\":\"scatter\"}],\"parcoords\":[{\"type\":\"parcoords\",\"line\":{\"colorbar\":{\"outlinewidth\":0,\"ticks\":\"\"}}}],\"scatterpolargl\":[{\"type\":\"scatterpolargl\",\"marker\":{\"colorbar\":{\"outlinewidth\":0,\"ticks\":\"\"}}}],\"bar\":[{\"error_x\":{\"color\":\"#2a3f5f\"},\"error_y\":{\"color\":\"#2a3f5f\"},\"marker\":{\"line\":{\"color\":\"#E5ECF6\",\"width\":0.5},\"pattern\":{\"fillmode\":\"overlay\",\"size\":10,\"solidity\":0.2}},\"type\":\"bar\"}],\"scattergeo\":[{\"type\":\"scattergeo\",\"marker\":{\"colorbar\":{\"outlinewidth\":0,\"ticks\":\"\"}}}],\"scatterpolar\":[{\"type\":\"scatterpolar\",\"marker\":{\"colorbar\":{\"outlinewidth\":0,\"ticks\":\"\"}}}],\"histogram\":[{\"marker\":{\"pattern\":{\"fillmode\":\"overlay\",\"size\":10,\"solidity\":0.2}},\"type\":\"histogram\"}],\"scattergl\":[{\"type\":\"scattergl\",\"marker\":{\"colorbar\":{\"outlinewidth\":0,\"ticks\":\"\"}}}],\"scatter3d\":[{\"type\":\"scatter3d\",\"line\":{\"colorbar\":{\"outlinewidth\":0,\"ticks\":\"\"}},\"marker\":{\"colorbar\":{\"outlinewidth\":0,\"ticks\":\"\"}}}],\"scattermapbox\":[{\"type\":\"scattermapbox\",\"marker\":{\"colorbar\":{\"outlinewidth\":0,\"ticks\":\"\"}}}],\"scatterternary\":[{\"type\":\"scatterternary\",\"marker\":{\"colorbar\":{\"outlinewidth\":0,\"ticks\":\"\"}}}],\"scattercarpet\":[{\"type\":\"scattercarpet\",\"marker\":{\"colorbar\":{\"outlinewidth\":0,\"ticks\":\"\"}}}],\"carpet\":[{\"aaxis\":{\"endlinecolor\":\"#2a3f5f\",\"gridcolor\":\"white\",\"linecolor\":\"white\",\"minorgridcolor\":\"white\",\"startlinecolor\":\"#2a3f5f\"},\"baxis\":{\"endlinecolor\":\"#2a3f5f\",\"gridcolor\":\"white\",\"linecolor\":\"white\",\"minorgridcolor\":\"white\",\"startlinecolor\":\"#2a3f5f\"},\"type\":\"carpet\"}],\"table\":[{\"cells\":{\"fill\":{\"color\":\"#EBF0F8\"},\"line\":{\"color\":\"white\"}},\"header\":{\"fill\":{\"color\":\"#C8D4E3\"},\"line\":{\"color\":\"white\"}},\"type\":\"table\"}],\"barpolar\":[{\"marker\":{\"line\":{\"color\":\"#E5ECF6\",\"width\":0.5},\"pattern\":{\"fillmode\":\"overlay\",\"size\":10,\"solidity\":0.2}},\"type\":\"barpolar\"}],\"pie\":[{\"automargin\":true,\"type\":\"pie\"}]},\"layout\":{\"autotypenumbers\":\"strict\",\"colorway\":[\"#636efa\",\"#EF553B\",\"#00cc96\",\"#ab63fa\",\"#FFA15A\",\"#19d3f3\",\"#FF6692\",\"#B6E880\",\"#FF97FF\",\"#FECB52\"],\"font\":{\"color\":\"#2a3f5f\"},\"hovermode\":\"closest\",\"hoverlabel\":{\"align\":\"left\"},\"paper_bgcolor\":\"white\",\"plot_bgcolor\":\"#E5ECF6\",\"polar\":{\"bgcolor\":\"#E5ECF6\",\"angularaxis\":{\"gridcolor\":\"white\",\"linecolor\":\"white\",\"ticks\":\"\"},\"radialaxis\":{\"gridcolor\":\"white\",\"linecolor\":\"white\",\"ticks\":\"\"}},\"ternary\":{\"bgcolor\":\"#E5ECF6\",\"aaxis\":{\"gridcolor\":\"white\",\"linecolor\":\"white\",\"ticks\":\"\"},\"baxis\":{\"gridcolor\":\"white\",\"linecolor\":\"white\",\"ticks\":\"\"},\"caxis\":{\"gridcolor\":\"white\",\"linecolor\":\"white\",\"ticks\":\"\"}},\"coloraxis\":{\"colorbar\":{\"outlinewidth\":0,\"ticks\":\"\"}},\"colorscale\":{\"sequential\":[[0.0,\"#0d0887\"],[0.1111111111111111,\"#46039f\"],[0.2222222222222222,\"#7201a8\"],[0.3333333333333333,\"#9c179e\"],[0.4444444444444444,\"#bd3786\"],[0.5555555555555556,\"#d8576b\"],[0.6666666666666666,\"#ed7953\"],[0.7777777777777778,\"#fb9f3a\"],[0.8888888888888888,\"#fdca26\"],[1.0,\"#f0f921\"]],\"sequentialminus\":[[0.0,\"#0d0887\"],[0.1111111111111111,\"#46039f\"],[0.2222222222222222,\"#7201a8\"],[0.3333333333333333,\"#9c179e\"],[0.4444444444444444,\"#bd3786\"],[0.5555555555555556,\"#d8576b\"],[0.6666666666666666,\"#ed7953\"],[0.7777777777777778,\"#fb9f3a\"],[0.8888888888888888,\"#fdca26\"],[1.0,\"#f0f921\"]],\"diverging\":[[0,\"#8e0152\"],[0.1,\"#c51b7d\"],[0.2,\"#de77ae\"],[0.3,\"#f1b6da\"],[0.4,\"#fde0ef\"],[0.5,\"#f7f7f7\"],[0.6,\"#e6f5d0\"],[0.7,\"#b8e186\"],[0.8,\"#7fbc41\"],[0.9,\"#4d9221\"],[1,\"#276419\"]]},\"xaxis\":{\"gridcolor\":\"white\",\"linecolor\":\"white\",\"ticks\":\"\",\"title\":{\"standoff\":15},\"zerolinecolor\":\"white\",\"automargin\":true,\"zerolinewidth\":2},\"yaxis\":{\"gridcolor\":\"white\",\"linecolor\":\"white\",\"ticks\":\"\",\"title\":{\"standoff\":15},\"zerolinecolor\":\"white\",\"automargin\":true,\"zerolinewidth\":2},\"scene\":{\"xaxis\":{\"backgroundcolor\":\"#E5ECF6\",\"gridcolor\":\"white\",\"linecolor\":\"white\",\"showbackground\":true,\"ticks\":\"\",\"zerolinecolor\":\"white\",\"gridwidth\":2},\"yaxis\":{\"backgroundcolor\":\"#E5ECF6\",\"gridcolor\":\"white\",\"linecolor\":\"white\",\"showbackground\":true,\"ticks\":\"\",\"zerolinecolor\":\"white\",\"gridwidth\":2},\"zaxis\":{\"backgroundcolor\":\"#E5ECF6\",\"gridcolor\":\"white\",\"linecolor\":\"white\",\"showbackground\":true,\"ticks\":\"\",\"zerolinecolor\":\"white\",\"gridwidth\":2}},\"shapedefaults\":{\"line\":{\"color\":\"#2a3f5f\"}},\"annotationdefaults\":{\"arrowcolor\":\"#2a3f5f\",\"arrowhead\":0,\"arrowwidth\":1},\"geo\":{\"bgcolor\":\"white\",\"landcolor\":\"#E5ECF6\",\"subunitcolor\":\"white\",\"showland\":true,\"showlakes\":true,\"lakecolor\":\"white\"},\"title\":{\"x\":0.05},\"mapbox\":{\"style\":\"light\"}}},\"xaxis\":{\"anchor\":\"y\",\"domain\":[0.0,1.0],\"title\":{\"text\":\"Colour\"},\"categoryorder\":\"total descending\"},\"yaxis\":{\"anchor\":\"x\",\"domain\":[0.0,1.0],\"title\":{\"text\":\"Frequency\"}},\"legend\":{\"tracegroupgap\":0},\"title\":{\"text\":\"Frequency of Dress Colours\"},\"barmode\":\"relative\"},                        {\"responsive\": true}                    ).then(function(){\n",
       "                            \n",
       "var gd = document.getElementById('d6c8630b-6a8e-4355-8528-9a247a7c5707');\n",
       "var x = new MutationObserver(function (mutations, observer) {{\n",
       "        var display = window.getComputedStyle(gd).display;\n",
       "        if (!display || display === 'none') {{\n",
       "            console.log([gd, 'removed!']);\n",
       "            Plotly.purge(gd);\n",
       "            observer.disconnect();\n",
       "        }}\n",
       "}});\n",
       "\n",
       "// Listen for the removal of the full notebook cells\n",
       "var notebookContainer = gd.closest('#notebook-container');\n",
       "if (notebookContainer) {{\n",
       "    x.observe(notebookContainer, {childList: true});\n",
       "}}\n",
       "\n",
       "// Listen for the clearing of the current output cell\n",
       "var outputEl = gd.closest('.output');\n",
       "if (outputEl) {{\n",
       "    x.observe(outputEl, {childList: true});\n",
       "}}\n",
       "\n",
       "                        })                };                });            </script>        </div>"
      ]
     },
     "metadata": {},
     "output_type": "display_data"
    }
   ],
   "source": [
    "import plotly.express as px\n",
    "\n",
    "# If the dataset is large, consider sampling here as well\n",
    "colour_counts = df_filtered['colour'].value_counts().reset_index()\n",
    "colour_counts.columns = ['colour', 'frequency']\n",
    "\n",
    "# Create a bar chart using Plotly\n",
    "fig = px.bar(colour_counts, x='colour', y='frequency', title='Frequency of Dress Colours')\n",
    "fig.update_layout(xaxis_title='Colour',\n",
    "                  yaxis_title='Frequency',\n",
    "                  xaxis={'categoryorder':'total descending'})  # Sort bars by descending order\n",
    "fig.show()"
   ]
  },
  {
   "cell_type": "code",
   "execution_count": 37,
   "id": "82281381",
   "metadata": {
    "execution": {
     "iopub.execute_input": "2024-07-22T20:53:04.632045Z",
     "iopub.status.busy": "2024-07-22T20:53:04.631620Z",
     "iopub.status.idle": "2024-07-22T20:53:04.806984Z",
     "shell.execute_reply": "2024-07-22T20:53:04.805441Z"
    },
    "papermill": {
     "duration": 0.196449,
     "end_time": "2024-07-22T20:53:04.812112",
     "exception": false,
     "start_time": "2024-07-22T20:53:04.615663",
     "status": "completed"
    },
    "tags": []
   },
   "outputs": [
    {
     "data": {
      "image/png": "[encoded data removed]",
      "text/plain": [
       "<Figure size 640x480 with 1 Axes>"
      ]
     },
     "metadata": {},
     "output_type": "display_data"
    }
   ],
   "source": [
    "# Calculate the counts of each fashion level\n",
    "fashion_level_counts = df_filtered['fashion_level'].value_counts()\n",
    "\n",
    "# Define the labels from the index of the series\n",
    "labels = fashion_level_counts.index\n",
    "sizes = fashion_level_counts.values\n",
    "\n",
    "# Define color palette\n",
    "colors = ['#ff9999','#66b3ff','#99ff99','#ffcc99']  # You can customize these colors\n",
    "\n",
    "# Plotting the pie chart\n",
    "fig1, ax1 = plt.subplots()\n",
    "ax1.pie(sizes, labels=labels, colors=colors, autopct='%1.1f%%', startangle=90)\n",
    "\n",
    "# Equal aspect ratio ensures that pie is drawn as a circle.\n",
    "ax1.axis('equal')\n",
    "\n",
    "plt.title('Distribution of Fashion Levels')\n",
    "plt.show()"
   ]
  },
  {
   "cell_type": "code",
   "execution_count": 38,
   "id": "c286477e",
   "metadata": {
    "execution": {
     "iopub.execute_input": "2024-07-22T20:53:04.866288Z",
     "iopub.status.busy": "2024-07-22T20:53:04.865459Z",
     "iopub.status.idle": "2024-07-22T20:53:04.873217Z",
     "shell.execute_reply": "2024-07-22T20:53:04.872224Z"
    },
    "papermill": {
     "duration": 0.037797,
     "end_time": "2024-07-22T20:53:04.876008",
     "exception": false,
     "start_time": "2024-07-22T20:53:04.838211",
     "status": "completed"
    },
    "tags": []
   },
   "outputs": [
    {
     "name": "stdout",
     "output_type": "stream",
     "text": [
      " Analysis Summary of Dress Rental Prices\n",
      "\n",
      "Data Overview:\n",
      "\n",
      "\t•\tWe analyzed a dataset consisting of 29,997 records of dress rentals, featuring information about dress names, brands, colors, categories, and prices.\n",
      "\t•\tThe dataset spanned various brands (931 unique brands) and colors (20 different colors), with a comprehensive pricing spectrum from low to high-end fashion items.\n",
      "\n",
      "Key Insights:\n",
      "\n",
      "\t1.\tFashion Level Categorization:\n",
      "\t•\t•\tWe categorized dresses into three fashion levels based on their prices:\n",
      "\t•\t•\tMass Market: Prices less than $75.\n",
      "\t•\t•\tMid Range: Prices between $75 and $300.\n",
      "\t•\t•\tHigh End: Prices above $300.\n",
      "\t•\t•\tThe vast majority of items fell into the ‘Mass Market’ category, suggesting \n",
      "\t•\t•\tthat the rental service focuses predominantly on more affordable fashion.\n",
      "        \n",
      "\t2.\tColor Popularity:\n",
      "\t•\t•\tThe color analysis revealed that black and blue dresses are the most \n",
      "•\t•\t•\tfrequently stocked colors, suggesting these colors are likely the \n",
      "    •\t•\tmost popular or considered staple offerings in rental fashion.\n",
      "\t•\t•\tConversely, less common colors included tan and phantom, indicating \n",
      "\t•\t•\tniche preferences or seasonal trends.\n",
      "\t3.\tPrice Distribution:\n",
      "\t•\t•\tA detailed examination using box plots showed that ‘High End’ dresses\n",
      "\t•\t•\tnot only varied significantly in price but also occasionally included \n",
      "\t•\t•\textremely high-cost items, possibly designer pieces or dresses with premium materials.\n",
      "\t•\t•\t‘Mass Market’ dresses exhibited the least price variation, aligning \n",
      "•\t•\t•\twith the target market’s expectations for affordability.\n",
      "\n",
      "Implications:\n",
      "\n",
      "\t•\tThe dominance of mass-market items points to a business model centered on \n",
      "\t•\taccessibility and broader appeal, potentially attracting a larger customer base.\n",
      "\t•\tThe popularity of specific colors like black and blue could inform \n",
      "\t•\tstock acquisition strategies, emphasizing these colors to meet demand.\n",
      "\t•\tPricing strategies appear well-segmented by fashion level, but there might \n",
      "\t•\tbe room to explore the upper limits of mid-range pricing to maximize \n",
      "\t•\trevenue without encroaching on high-end territory.\n",
      "\n",
      "Recommendations:\n",
      "\n",
      "\t•\tConsider diversifying the color palette in the mid-range category to test consumer response to non-traditional colors, potentially increasing market share.\n",
      "\t•\tExplore strategic promotions or featured collections for high-end dresses to enhance their visibility and attractiveness to consumers seeking luxury items.\n",
      "\n",
      "Conclusion:\n",
      "This analysis provides valuable insights into the operational dynamics of the dress rental market, highlighting consumer preferences and effective pricing strategies. Continued data monitoring and adjustment of inventory and pricing will be crucial to staying responsive to consumer trends and market conditions.\n",
      "\n",
      "\n"
     ]
    }
   ],
   "source": [
    "summary_text = \"\"\" Analysis Summary of Dress Rental Prices\n",
    "\n",
    "Data Overview:\n",
    "\n",
    "\t•\tWe analyzed a dataset consisting of 29,997 records of dress rentals, featuring information about dress names, brands, colors, categories, and prices.\n",
    "\t•\tThe dataset spanned various brands (931 unique brands) and colors (20 different colors), with a comprehensive pricing spectrum from low to high-end fashion items.\n",
    "\n",
    "Key Insights:\n",
    "\n",
    "\t1.\tFashion Level Categorization:\n",
    "\t•\t•\tWe categorized dresses into three fashion levels based on their prices:\n",
    "\t•\t•\tMass Market: Prices less than $75.\n",
    "\t•\t•\tMid Range: Prices between $75 and $300.\n",
    "\t•\t•\tHigh End: Prices above $300.\n",
    "\t•\t•\tThe vast majority of items fell into the ‘Mass Market’ category, suggesting \n",
    "\t•\t•\tthat the rental service focuses predominantly on more affordable fashion.\n",
    "        \n",
    "\t2.\tColor Popularity:\n",
    "\t•\t•\tThe color analysis revealed that black and blue dresses are the most \n",
    "•\t•\t•\tfrequently stocked colors, suggesting these colors are likely the \n",
    "    •\t•\tmost popular or considered staple offerings in rental fashion.\n",
    "\t•\t•\tConversely, less common colors included tan and phantom, indicating \n",
    "\t•\t•\tniche preferences or seasonal trends.\n",
    "\t3.\tPrice Distribution:\n",
    "\t•\t•\tA detailed examination using box plots showed that ‘High End’ dresses\n",
    "\t•\t•\tnot only varied significantly in price but also occasionally included \n",
    "\t•\t•\textremely high-cost items, possibly designer pieces or dresses with premium materials.\n",
    "\t•\t•\t‘Mass Market’ dresses exhibited the least price variation, aligning \n",
    "•\t•\t•\twith the target market’s expectations for affordability.\n",
    "\n",
    "Implications:\n",
    "\n",
    "\t•\tThe dominance of mass-market items points to a business model centered on \n",
    "\t•\taccessibility and broader appeal, potentially attracting a larger customer base.\n",
    "\t•\tThe popularity of specific colors like black and blue could inform \n",
    "\t•\tstock acquisition strategies, emphasizing these colors to meet demand.\n",
    "\t•\tPricing strategies appear well-segmented by fashion level, but there might \n",
    "\t•\tbe room to explore the upper limits of mid-range pricing to maximize \n",
    "\t•\trevenue without encroaching on high-end territory.\n",
    "\n",
    "Recommendations:\n",
    "\n",
    "\t•\tConsider diversifying the color palette in the mid-range category to test consumer response to non-traditional colors, potentially increasing market share.\n",
    "\t•\tExplore strategic promotions or featured collections for high-end dresses to enhance their visibility and attractiveness to consumers seeking luxury items.\n",
    "\n",
    "Conclusion:\n",
    "This analysis provides valuable insights into the operational dynamics of the dress rental market, highlighting consumer preferences and effective pricing strategies. Continued data monitoring and adjustment of inventory and pricing will be crucial to staying responsive to consumer trends and market conditions.\n",
    "\n",
    "\"\"\"\n",
    "\n",
    "print(summary_text)"
   ]
  },
  {
   "cell_type": "code",
   "execution_count": 39,
   "id": "f8851bca",
   "metadata": {
    "execution": {
     "iopub.execute_input": "2024-07-22T20:53:04.909157Z",
     "iopub.status.busy": "2024-07-22T20:53:04.908093Z",
     "iopub.status.idle": "2024-07-22T20:53:04.914975Z",
     "shell.execute_reply": "2024-07-22T20:53:04.913848Z"
    },
    "papermill": {
     "duration": 0.025932,
     "end_time": "2024-07-22T20:53:04.917382",
     "exception": false,
     "start_time": "2024-07-22T20:53:04.891450",
     "status": "completed"
    },
    "tags": []
   },
   "outputs": [
    {
     "data": {
      "text/plain": [
       "(380, 9)"
      ]
     },
     "execution_count": 39,
     "metadata": {},
     "output_type": "execute_result"
    }
   ],
   "source": [
    "df_sample.shape"
   ]
  },
  {
   "cell_type": "code",
   "execution_count": 40,
   "id": "96f23681",
   "metadata": {
    "execution": {
     "iopub.execute_input": "2024-07-22T20:53:04.950391Z",
     "iopub.status.busy": "2024-07-22T20:53:04.949982Z",
     "iopub.status.idle": "2024-07-22T20:53:04.956961Z",
     "shell.execute_reply": "2024-07-22T20:53:04.955820Z"
    },
    "papermill": {
     "duration": 0.026234,
     "end_time": "2024-07-22T20:53:04.959257",
     "exception": false,
     "start_time": "2024-07-22T20:53:04.933023",
     "status": "completed"
    },
    "tags": []
   },
   "outputs": [
    {
     "data": {
      "text/plain": [
       "(29843, 9)"
      ]
     },
     "execution_count": 40,
     "metadata": {},
     "output_type": "execute_result"
    }
   ],
   "source": [
    "df_filtered.shape"
   ]
  },
  {
   "cell_type": "code",
   "execution_count": 41,
   "id": "3c316bc6",
   "metadata": {
    "execution": {
     "iopub.execute_input": "2024-07-22T20:53:04.992967Z",
     "iopub.status.busy": "2024-07-22T20:53:04.992574Z",
     "iopub.status.idle": "2024-07-22T20:53:04.999485Z",
     "shell.execute_reply": "2024-07-22T20:53:04.998344Z"
    },
    "papermill": {
     "duration": 0.026783,
     "end_time": "2024-07-22T20:53:05.002106",
     "exception": false,
     "start_time": "2024-07-22T20:53:04.975323",
     "status": "completed"
    },
    "tags": []
   },
   "outputs": [
    {
     "name": "stdout",
     "output_type": "stream",
     "text": [
      "Recommended sample size: 380\n"
     ]
    }
   ],
   "source": [
    "import math\n",
    "\n",
    "# Parameters\n",
    "confidence_level = 0.95\n",
    "margin_of_error = 0.05\n",
    "population_size = 29843\n",
    "\n",
    "# Z-value for 95% confidence\n",
    "z_value = 1.96  # from standard normal distribution table\n",
    "\n",
    "# Assuming maximum variability (p = 0.5 for maximum sample size requirement)\n",
    "p = 0.5\n",
    "\n",
    "# Sample size calculation using the simplified formula\n",
    "sample_size = (z_value**2 * p * (1 - p)) / (margin_of_error**2)\n",
    "\n",
    "# Adjusting sample size for finite population\n",
    "sample_size_corrected = sample_size / (1 + (sample_size - 1) / population_size)\n",
    "\n",
    "# Rounding up because you can't have a fraction of a sample\n",
    "final_sample_size = math.ceil(sample_size_corrected)\n",
    "\n",
    "print(f\"Recommended sample size: {final_sample_size}\")"
   ]
  },
  {
   "cell_type": "code",
   "execution_count": 42,
   "id": "4bff5fd3",
   "metadata": {
    "execution": {
     "iopub.execute_input": "2024-07-22T20:53:05.035467Z",
     "iopub.status.busy": "2024-07-22T20:53:05.035079Z",
     "iopub.status.idle": "2024-07-22T20:53:05.042984Z",
     "shell.execute_reply": "2024-07-22T20:53:05.041884Z"
    },
    "papermill": {
     "duration": 0.027184,
     "end_time": "2024-07-22T20:53:05.045223",
     "exception": false,
     "start_time": "2024-07-22T20:53:05.018039",
     "status": "completed"
    },
    "tags": []
   },
   "outputs": [],
   "source": [
    "# Check if the DataFrame has enough data\n",
    "if len(df_filtered) >= 380:\n",
    "    df_sample = df_filtered.sample(n=380, random_state=42)\n",
    "else:\n",
    "    print(\"DataFrame has fewer than 380 observations. Sampling the entire DataFrame instead.\")\n",
    "    df_sample = df_filtered.copy()  # Or handle as appropriate for your situation"
   ]
  },
  {
   "cell_type": "code",
   "execution_count": 43,
   "id": "7b09b1c3",
   "metadata": {
    "execution": {
     "iopub.execute_input": "2024-07-22T20:53:05.078791Z",
     "iopub.status.busy": "2024-07-22T20:53:05.078389Z",
     "iopub.status.idle": "2024-07-22T20:53:05.088714Z",
     "shell.execute_reply": "2024-07-22T20:53:05.087632Z"
    },
    "papermill": {
     "duration": 0.030279,
     "end_time": "2024-07-22T20:53:05.091343",
     "exception": false,
     "start_time": "2024-07-22T20:53:05.061064",
     "status": "completed"
    },
    "tags": []
   },
   "outputs": [],
   "source": [
    "import pandas as pd\n",
    "df_sample.to_csv('dress_swap_sample.csv', index=False)"
   ]
  }
 ],
 "metadata": {
  "kaggle": {
   "accelerator": "none",
   "dataSources": [
    {
     "datasetId": 5200900,
     "sourceId": 8676597,
     "sourceType": "datasetVersion"
    }
   ],
   "dockerImageVersionId": 30732,
   "isGpuEnabled": false,
   "isInternetEnabled": false,
   "language": "python",
   "sourceType": "notebook"
  },
  "kernelspec": {
   "display_name": "Python 3",
   "language": "python",
   "name": "python3"
  },
  "language_info": {
   "codemirror_mode": {
    "name": "ipython",
    "version": 3
   },
   "file_extension": ".py",
   "mimetype": "text/x-python",
   "name": "python",
   "nbconvert_exporter": "python",
   "pygments_lexer": "ipython3",
   "version": "3.10.13"
  },
  "papermill": {
   "default_parameters": {},
   "duration": 11.433211,
   "end_time": "2024-07-22T20:53:05.829938",
   "environment_variables": {},
   "exception": null,
   "input_path": "__notebook__.ipynb",
   "output_path": "__notebook__.ipynb",
   "parameters": {},
   "start_time": "2024-07-22T20:52:54.396727",
   "version": "2.5.0"
  }
 },
 "nbformat": 4,
 "nbformat_minor": 5
}
