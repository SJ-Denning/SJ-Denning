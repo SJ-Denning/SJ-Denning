{
 "cells": [
  {
   "cell_type": "code",
   "execution_count": 1,
   "id": "399f36cb",
   "metadata": {
    "_cell_guid": "b1076dfc-b9ad-4769-8c92-a6c4dae69d19",
    "_uuid": "8f2839f25d086af736a60e9eeb907d3b93b6e0e5",
    "execution": {
     "iopub.execute_input": "2024-07-22T16:40:06.294224Z",
     "iopub.status.busy": "2024-07-22T16:40:06.293692Z",
     "iopub.status.idle": "2024-07-22T16:40:07.401890Z",
     "shell.execute_reply": "2024-07-22T16:40:07.400506Z"
    },
    "papermill": {
     "duration": 1.127157,
     "end_time": "2024-07-22T16:40:07.404707",
     "exception": false,
     "start_time": "2024-07-22T16:40:06.277550",
     "status": "completed"
    },
    "tags": []
   },
   "outputs": [
    {
     "name": "stdout",
     "output_type": "stream",
     "text": [
      "/kaggle/input/peer-to-peer-dress-rental-prices/dress_rental_prices.csv\n"
     ]
    }
   ],
   "source": [
    "# This Python 3 environment comes with many helpful analytics libraries installed\n",
    "# It is defined by the kaggle/python Docker image: https://github.com/kaggle/docker-python\n",
    "# For example, here's several helpful packages to load\n",
    "\n",
    "import numpy as np # linear algebra\n",
    "import pandas as pd # data processing, CSV file I/O (e.g. pd.read_csv)\n",
    "\n",
    "# Input data files are available in the read-only \"../input/\" directory\n",
    "# For example, running this (by clicking run or pressing Shift+Enter) will list all files under the input directory\n",
    "\n",
    "import os\n",
    "for dirname, _, filenames in os.walk('/kaggle/input'):\n",
    "    for filename in filenames:\n",
    "        print(os.path.join(dirname, filename))\n",
    "\n",
    "# You can write up to 20GB to the current directory (/kaggle/working/) that gets preserved as output when you create a version using \"Save & Run All\" \n",
    "# You can also write temporary files to /kaggle/temp/, but they won't be saved outside of the current session"
   ]
  },
  {
   "cell_type": "code",
   "execution_count": 2,
   "id": "18291667",
   "metadata": {
    "execution": {
     "iopub.execute_input": "2024-07-22T16:40:07.432249Z",
     "iopub.status.busy": "2024-07-22T16:40:07.431741Z",
     "iopub.status.idle": "2024-07-22T16:40:09.134817Z",
     "shell.execute_reply": "2024-07-22T16:40:09.133530Z"
    },
    "papermill": {
     "duration": 1.719998,
     "end_time": "2024-07-22T16:40:09.137743",
     "exception": false,
     "start_time": "2024-07-22T16:40:07.417745",
     "status": "completed"
    },
    "tags": []
   },
   "outputs": [],
   "source": [
    "# Step One: PREPARE THE ENVIRONMENT(libraries)\n",
    "import numpy as np\n",
    "import pandas as pd\n",
    "import datetime as dt\n",
    "\n",
    "# matplotlib is for graphs/ seaborn is also for plotting\n",
    "import matplotlib.pyplot as plt\n",
    "import seaborn as sns\n",
    "\n",
    "# style for graphs is \"ggplot\"\n",
    "plt.style.use('ggplot')\n",
    "\n",
    "# set option to see all the columns\n",
    "# pd.set_option('max_column')\n",
    "\n",
    "# I want to get insights on how the dresses are priced\n",
    "# Are they priced high based on type of clothing? Designer?"
   ]
  },
  {
   "cell_type": "code",
   "execution_count": 3,
   "id": "d453e897",
   "metadata": {
    "execution": {
     "iopub.execute_input": "2024-07-22T16:40:09.165075Z",
     "iopub.status.busy": "2024-07-22T16:40:09.164689Z",
     "iopub.status.idle": "2024-07-22T16:40:09.291885Z",
     "shell.execute_reply": "2024-07-22T16:40:09.290488Z"
    },
    "papermill": {
     "duration": 0.144142,
     "end_time": "2024-07-22T16:40:09.294759",
     "exception": false,
     "start_time": "2024-07-22T16:40:09.150617",
     "status": "completed"
    },
    "tags": []
   },
   "outputs": [],
   "source": [
    "# import the data (make sure you specify which files you want. In this case,\n",
    "# there is only one file)\n",
    "\n",
    "# create a new dataframe(df)\n",
    "\n",
    "df = pd.read_csv('/kaggle/input/peer-to-peer-dress-rental-prices/dress_rental_prices.csv')"
   ]
  },
  {
   "cell_type": "code",
   "execution_count": 4,
   "id": "c09ec265",
   "metadata": {
    "execution": {
     "iopub.execute_input": "2024-07-22T16:40:09.325649Z",
     "iopub.status.busy": "2024-07-22T16:40:09.325219Z",
     "iopub.status.idle": "2024-07-22T16:40:09.336250Z",
     "shell.execute_reply": "2024-07-22T16:40:09.334474Z"
    },
    "papermill": {
     "duration": 0.030386,
     "end_time": "2024-07-22T16:40:09.339239",
     "exception": false,
     "start_time": "2024-07-22T16:40:09.308853",
     "status": "completed"
    },
    "tags": []
   },
   "outputs": [
    {
     "data": {
      "text/plain": [
       "(29997, 7)"
      ]
     },
     "execution_count": 4,
     "metadata": {},
     "output_type": "execute_result"
    }
   ],
   "source": [
    "# Let's look at the dataset to see how many columns/rows\n",
    "\n",
    "df.shape"
   ]
  },
  {
   "cell_type": "code",
   "execution_count": 5,
   "id": "6f35694c",
   "metadata": {
    "execution": {
     "iopub.execute_input": "2024-07-22T16:40:09.367605Z",
     "iopub.status.busy": "2024-07-22T16:40:09.367188Z",
     "iopub.status.idle": "2024-07-22T16:40:09.379030Z",
     "shell.execute_reply": "2024-07-22T16:40:09.377825Z"
    },
    "papermill": {
     "duration": 0.028843,
     "end_time": "2024-07-22T16:40:09.381606",
     "exception": false,
     "start_time": "2024-07-22T16:40:09.352763",
     "status": "completed"
    },
    "tags": []
   },
   "outputs": [
    {
     "data": {
      "text/plain": [
       "Index(['Unnamed: 0', 'ID', 'Name', 'Brand', 'Colour', 'Catagories', 'Price'], dtype='object')"
      ]
     },
     "execution_count": 5,
     "metadata": {},
     "output_type": "execute_result"
    }
   ],
   "source": [
    "# We have 29997 rows and 7 columns. Lets check the name of the columns\n",
    "\n",
    "df.columns"
   ]
  },
  {
   "cell_type": "code",
   "execution_count": 6,
   "id": "ebe25e99",
   "metadata": {
    "execution": {
     "iopub.execute_input": "2024-07-22T16:40:09.410552Z",
     "iopub.status.busy": "2024-07-22T16:40:09.409761Z",
     "iopub.status.idle": "2024-07-22T16:40:09.434859Z",
     "shell.execute_reply": "2024-07-22T16:40:09.433850Z"
    },
    "papermill": {
     "duration": 0.042421,
     "end_time": "2024-07-22T16:40:09.437719",
     "exception": false,
     "start_time": "2024-07-22T16:40:09.395298",
     "status": "completed"
    },
    "tags": []
   },
   "outputs": [
    {
     "data": {
      "text/html": [
       "<div>\n",
       "<style scoped>\n",
       "    .dataframe tbody tr th:only-of-type {\n",
       "        vertical-align: middle;\n",
       "    }\n",
       "\n",
       "    .dataframe tbody tr th {\n",
       "        vertical-align: top;\n",
       "    }\n",
       "\n",
       "    .dataframe thead th {\n",
       "        text-align: right;\n",
       "    }\n",
       "</style>\n",
       "<table border=\"1\" class=\"dataframe\">\n",
       "  <thead>\n",
       "    <tr style=\"text-align: right;\">\n",
       "      <th></th>\n",
       "      <th>Unnamed: 0</th>\n",
       "      <th>ID</th>\n",
       "      <th>Name</th>\n",
       "      <th>Brand</th>\n",
       "      <th>Colour</th>\n",
       "      <th>Catagories</th>\n",
       "      <th>Price</th>\n",
       "    </tr>\n",
       "  </thead>\n",
       "  <tbody>\n",
       "    <tr>\n",
       "      <th>0</th>\n",
       "      <td>0</td>\n",
       "      <td>74416</td>\n",
       "      <td>Runway stripe dress</td>\n",
       "      <td>Stella McCartney</td>\n",
       "      <td>beige</td>\n",
       "      <td>dresses</td>\n",
       "      <td>111</td>\n",
       "    </tr>\n",
       "    <tr>\n",
       "      <th>1</th>\n",
       "      <td>1</td>\n",
       "      <td>73815</td>\n",
       "      <td>Reformation Kourtney Dress</td>\n",
       "      <td>Reformation</td>\n",
       "      <td>beige</td>\n",
       "      <td>dresses</td>\n",
       "      <td>50</td>\n",
       "    </tr>\n",
       "    <tr>\n",
       "      <th>2</th>\n",
       "      <td>2</td>\n",
       "      <td>73801</td>\n",
       "      <td>Ivory Viola bridal dress</td>\n",
       "      <td>Ghost</td>\n",
       "      <td>beige</td>\n",
       "      <td>dresses</td>\n",
       "      <td>75</td>\n",
       "    </tr>\n",
       "    <tr>\n",
       "      <th>3</th>\n",
       "      <td>3</td>\n",
       "      <td>73718</td>\n",
       "      <td>Pasu Dress - Rhino Tusk</td>\n",
       "      <td>Coucoo</td>\n",
       "      <td>beige</td>\n",
       "      <td>dresses</td>\n",
       "      <td>37</td>\n",
       "    </tr>\n",
       "    <tr>\n",
       "      <th>4</th>\n",
       "      <td>4</td>\n",
       "      <td>73605</td>\n",
       "      <td>Ellen</td>\n",
       "      <td>RIXO</td>\n",
       "      <td>beige</td>\n",
       "      <td>dresses</td>\n",
       "      <td>47</td>\n",
       "    </tr>\n",
       "    <tr>\n",
       "      <th>5</th>\n",
       "      <td>5</td>\n",
       "      <td>73583</td>\n",
       "      <td>Elena Dress Crystal Garden</td>\n",
       "      <td>Stine Goya</td>\n",
       "      <td>beige</td>\n",
       "      <td>dresses</td>\n",
       "      <td>64</td>\n",
       "    </tr>\n",
       "    <tr>\n",
       "      <th>6</th>\n",
       "      <td>6</td>\n",
       "      <td>73007</td>\n",
       "      <td>OBlanc Dress</td>\n",
       "      <td>New Arrivals</td>\n",
       "      <td>beige</td>\n",
       "      <td>dresses</td>\n",
       "      <td>145</td>\n",
       "    </tr>\n",
       "    <tr>\n",
       "      <th>7</th>\n",
       "      <td>7</td>\n",
       "      <td>73245</td>\n",
       "      <td>Melody Dress</td>\n",
       "      <td>Melissa Odabash</td>\n",
       "      <td>beige</td>\n",
       "      <td>dresses</td>\n",
       "      <td>52</td>\n",
       "    </tr>\n",
       "    <tr>\n",
       "      <th>8</th>\n",
       "      <td>8</td>\n",
       "      <td>73050</td>\n",
       "      <td>Isamaya Dress</td>\n",
       "      <td>Rat &amp; Boa</td>\n",
       "      <td>beige</td>\n",
       "      <td>dresses</td>\n",
       "      <td>38</td>\n",
       "    </tr>\n",
       "    <tr>\n",
       "      <th>9</th>\n",
       "      <td>9</td>\n",
       "      <td>73019</td>\n",
       "      <td>Belted Animal Print Mini Dress</td>\n",
       "      <td>ROTATE BIRGER CHRISTENSEN</td>\n",
       "      <td>beige</td>\n",
       "      <td>dresses</td>\n",
       "      <td>39</td>\n",
       "    </tr>\n",
       "  </tbody>\n",
       "</table>\n",
       "</div>"
      ],
      "text/plain": [
       "   Unnamed: 0     ID                            Name  \\\n",
       "0           0  74416             Runway stripe dress   \n",
       "1           1  73815      Reformation Kourtney Dress   \n",
       "2           2  73801        Ivory Viola bridal dress   \n",
       "3           3  73718         Pasu Dress - Rhino Tusk   \n",
       "4           4  73605                           Ellen   \n",
       "5           5  73583     Elena Dress Crystal Garden    \n",
       "6           6  73007                   OBlanc Dress    \n",
       "7           7  73245                    Melody Dress   \n",
       "8           8  73050                   Isamaya Dress   \n",
       "9           9  73019  Belted Animal Print Mini Dress   \n",
       "\n",
       "                       Brand Colour Catagories  Price  \n",
       "0           Stella McCartney  beige    dresses    111  \n",
       "1                Reformation  beige    dresses     50  \n",
       "2                      Ghost  beige    dresses     75  \n",
       "3                     Coucoo  beige    dresses     37  \n",
       "4                       RIXO  beige    dresses     47  \n",
       "5                 Stine Goya  beige    dresses     64  \n",
       "6               New Arrivals  beige    dresses    145  \n",
       "7            Melissa Odabash  beige    dresses     52  \n",
       "8                  Rat & Boa  beige    dresses     38  \n",
       "9  ROTATE BIRGER CHRISTENSEN  beige    dresses     39  "
      ]
     },
     "execution_count": 6,
     "metadata": {},
     "output_type": "execute_result"
    }
   ],
   "source": [
    "# Let's look at the information inside the columns. Show a preview with the 'head' function\n",
    "\n",
    "df.head(10)\n",
    "\n",
    "# We need to understand what the columns are about. If you are working with a team \n",
    "# for a company, we can ask what the columns are about and what the information means"
   ]
  },
  {
   "cell_type": "code",
   "execution_count": 7,
   "id": "031facca",
   "metadata": {
    "execution": {
     "iopub.execute_input": "2024-07-22T16:40:09.467127Z",
     "iopub.status.busy": "2024-07-22T16:40:09.466752Z",
     "iopub.status.idle": "2024-07-22T16:40:09.475777Z",
     "shell.execute_reply": "2024-07-22T16:40:09.474669Z"
    },
    "papermill": {
     "duration": 0.026313,
     "end_time": "2024-07-22T16:40:09.478283",
     "exception": false,
     "start_time": "2024-07-22T16:40:09.451970",
     "status": "completed"
    },
    "tags": []
   },
   "outputs": [
    {
     "data": {
      "text/plain": [
       "Unnamed: 0     int64\n",
       "ID             int64\n",
       "Name          object\n",
       "Brand         object\n",
       "Colour        object\n",
       "Catagories    object\n",
       "Price          int64\n",
       "dtype: object"
      ]
     },
     "execution_count": 7,
     "metadata": {},
     "output_type": "execute_result"
    }
   ],
   "source": [
    "# what are the data types for each columns\n",
    "\n",
    "df.dtypes\n",
    "\n",
    "# int64 is a number, object is a string (str)"
   ]
  },
  {
   "cell_type": "code",
   "execution_count": 8,
   "id": "f51c379c",
   "metadata": {
    "execution": {
     "iopub.execute_input": "2024-07-22T16:40:09.507373Z",
     "iopub.status.busy": "2024-07-22T16:40:09.507002Z",
     "iopub.status.idle": "2024-07-22T16:40:09.533890Z",
     "shell.execute_reply": "2024-07-22T16:40:09.532777Z"
    },
    "papermill": {
     "duration": 0.044241,
     "end_time": "2024-07-22T16:40:09.536276",
     "exception": false,
     "start_time": "2024-07-22T16:40:09.492035",
     "status": "completed"
    },
    "tags": []
   },
   "outputs": [
    {
     "data": {
      "text/plain": [
       "Unnamed: 0     int64\n",
       "ID            object\n",
       "Name          object\n",
       "Brand         object\n",
       "Colour        object\n",
       "Catagories    object\n",
       "Price          int64\n",
       "dtype: object"
      ]
     },
     "execution_count": 8,
     "metadata": {},
     "output_type": "execute_result"
    }
   ],
   "source": [
    "#Step Two: CLEAN THE DATA\n",
    "# We only need to reformat the 'ID' column to a \n",
    "# string so that Pandas/Python won't make calculations\n",
    "#Date transformations: df['Date'] = pd.to.datetime(df['Date'], format = '%m,%d,%y')\n",
    "\n",
    "df['ID'] = df['ID'].astype(str) \n",
    "df.dtypes"
   ]
  },
  {
   "cell_type": "code",
   "execution_count": 9,
   "id": "e85b904e",
   "metadata": {
    "execution": {
     "iopub.execute_input": "2024-07-22T16:40:09.565967Z",
     "iopub.status.busy": "2024-07-22T16:40:09.565593Z",
     "iopub.status.idle": "2024-07-22T16:40:09.603030Z",
     "shell.execute_reply": "2024-07-22T16:40:09.601912Z"
    },
    "papermill": {
     "duration": 0.055255,
     "end_time": "2024-07-22T16:40:09.605626",
     "exception": false,
     "start_time": "2024-07-22T16:40:09.550371",
     "status": "completed"
    },
    "tags": []
   },
   "outputs": [
    {
     "data": {
      "text/plain": [
       "ID\n",
       "74416    1\n",
       "57563    1\n",
       "56429    1\n",
       "56450    1\n",
       "56485    1\n",
       "        ..\n",
       "72999    1\n",
       "74328    1\n",
       "73581    1\n",
       "73077    1\n",
       "231      1\n",
       "Name: count, Length: 29997, dtype: int64"
      ]
     },
     "execution_count": 9,
     "metadata": {},
     "output_type": "execute_result"
    }
   ],
   "source": [
    "#Check the values inside the columns\n",
    "#Are there any duplicate IDs?\n",
    "\n",
    "df['ID'].value_counts()\n",
    "\n",
    "#No duplicate found"
   ]
  },
  {
   "cell_type": "code",
   "execution_count": 10,
   "id": "ef333109",
   "metadata": {
    "execution": {
     "iopub.execute_input": "2024-07-22T16:40:09.636421Z",
     "iopub.status.busy": "2024-07-22T16:40:09.635588Z",
     "iopub.status.idle": "2024-07-22T16:40:09.643659Z",
     "shell.execute_reply": "2024-07-22T16:40:09.642516Z"
    },
    "papermill": {
     "duration": 0.026417,
     "end_time": "2024-07-22T16:40:09.646300",
     "exception": false,
     "start_time": "2024-07-22T16:40:09.619883",
     "status": "completed"
    },
    "tags": []
   },
   "outputs": [
    {
     "data": {
      "text/plain": [
       "Index(['unnamed: 0', 'id', 'name', 'brand', 'colour', 'catagories', 'price'], dtype='object')"
      ]
     },
     "execution_count": 10,
     "metadata": {},
     "output_type": "execute_result"
    }
   ],
   "source": [
    "# Rename the columns ( change to lowercase for simplicity)\n",
    "# Rename: df.rename(columns = {'ID':'identity', 'name':'title'}, inplace = True)  ...\n",
    "# check False first\n",
    "\n",
    "df.columns = df.columns.str.lower()\n",
    "df.columns"
   ]
  },
  {
   "cell_type": "code",
   "execution_count": 11,
   "id": "2d8e56b1",
   "metadata": {
    "execution": {
     "iopub.execute_input": "2024-07-22T16:40:09.676117Z",
     "iopub.status.busy": "2024-07-22T16:40:09.675753Z",
     "iopub.status.idle": "2024-07-22T16:40:09.681956Z",
     "shell.execute_reply": "2024-07-22T16:40:09.680831Z"
    },
    "papermill": {
     "duration": 0.024249,
     "end_time": "2024-07-22T16:40:09.684484",
     "exception": false,
     "start_time": "2024-07-22T16:40:09.660235",
     "status": "completed"
    },
    "tags": []
   },
   "outputs": [],
   "source": [
    "df.rename(columns = {'catagories':'category'}, inplace = True)"
   ]
  },
  {
   "cell_type": "code",
   "execution_count": 12,
   "id": "3cb08c22",
   "metadata": {
    "execution": {
     "iopub.execute_input": "2024-07-22T16:40:09.715059Z",
     "iopub.status.busy": "2024-07-22T16:40:09.714512Z",
     "iopub.status.idle": "2024-07-22T16:40:09.729500Z",
     "shell.execute_reply": "2024-07-22T16:40:09.728092Z"
    },
    "papermill": {
     "duration": 0.033487,
     "end_time": "2024-07-22T16:40:09.732308",
     "exception": false,
     "start_time": "2024-07-22T16:40:09.698821",
     "status": "completed"
    },
    "tags": []
   },
   "outputs": [
    {
     "data": {
      "text/html": [
       "<div>\n",
       "<style scoped>\n",
       "    .dataframe tbody tr th:only-of-type {\n",
       "        vertical-align: middle;\n",
       "    }\n",
       "\n",
       "    .dataframe tbody tr th {\n",
       "        vertical-align: top;\n",
       "    }\n",
       "\n",
       "    .dataframe thead th {\n",
       "        text-align: right;\n",
       "    }\n",
       "</style>\n",
       "<table border=\"1\" class=\"dataframe\">\n",
       "  <thead>\n",
       "    <tr style=\"text-align: right;\">\n",
       "      <th></th>\n",
       "      <th>unnamed: 0</th>\n",
       "      <th>id</th>\n",
       "      <th>name</th>\n",
       "      <th>brand</th>\n",
       "      <th>colour</th>\n",
       "      <th>category</th>\n",
       "      <th>price</th>\n",
       "    </tr>\n",
       "  </thead>\n",
       "  <tbody>\n",
       "    <tr>\n",
       "      <th>0</th>\n",
       "      <td>0</td>\n",
       "      <td>74416</td>\n",
       "      <td>Runway stripe dress</td>\n",
       "      <td>Stella McCartney</td>\n",
       "      <td>beige</td>\n",
       "      <td>dresses</td>\n",
       "      <td>111</td>\n",
       "    </tr>\n",
       "    <tr>\n",
       "      <th>1</th>\n",
       "      <td>1</td>\n",
       "      <td>73815</td>\n",
       "      <td>Reformation Kourtney Dress</td>\n",
       "      <td>Reformation</td>\n",
       "      <td>beige</td>\n",
       "      <td>dresses</td>\n",
       "      <td>50</td>\n",
       "    </tr>\n",
       "    <tr>\n",
       "      <th>2</th>\n",
       "      <td>2</td>\n",
       "      <td>73801</td>\n",
       "      <td>Ivory Viola bridal dress</td>\n",
       "      <td>Ghost</td>\n",
       "      <td>beige</td>\n",
       "      <td>dresses</td>\n",
       "      <td>75</td>\n",
       "    </tr>\n",
       "    <tr>\n",
       "      <th>3</th>\n",
       "      <td>3</td>\n",
       "      <td>73718</td>\n",
       "      <td>Pasu Dress - Rhino Tusk</td>\n",
       "      <td>Coucoo</td>\n",
       "      <td>beige</td>\n",
       "      <td>dresses</td>\n",
       "      <td>37</td>\n",
       "    </tr>\n",
       "  </tbody>\n",
       "</table>\n",
       "</div>"
      ],
      "text/plain": [
       "   unnamed: 0     id                        name             brand colour  \\\n",
       "0           0  74416         Runway stripe dress  Stella McCartney  beige   \n",
       "1           1  73815  Reformation Kourtney Dress       Reformation  beige   \n",
       "2           2  73801    Ivory Viola bridal dress             Ghost  beige   \n",
       "3           3  73718     Pasu Dress - Rhino Tusk            Coucoo  beige   \n",
       "\n",
       "  category  price  \n",
       "0  dresses    111  \n",
       "1  dresses     50  \n",
       "2  dresses     75  \n",
       "3  dresses     37  "
      ]
     },
     "execution_count": 12,
     "metadata": {},
     "output_type": "execute_result"
    }
   ],
   "source": [
    "#create columns if necessary\n",
    "df.head(4)"
   ]
  },
  {
   "cell_type": "code",
   "execution_count": 13,
   "id": "a7a9de89",
   "metadata": {
    "execution": {
     "iopub.execute_input": "2024-07-22T16:40:09.765380Z",
     "iopub.status.busy": "2024-07-22T16:40:09.764324Z",
     "iopub.status.idle": "2024-07-22T16:40:09.804640Z",
     "shell.execute_reply": "2024-07-22T16:40:09.803266Z"
    },
    "papermill": {
     "duration": 0.059941,
     "end_time": "2024-07-22T16:40:09.807086",
     "exception": false,
     "start_time": "2024-07-22T16:40:09.747145",
     "status": "completed"
    },
    "tags": []
   },
   "outputs": [
    {
     "data": {
      "text/html": [
       "<div>\n",
       "<style scoped>\n",
       "    .dataframe tbody tr th:only-of-type {\n",
       "        vertical-align: middle;\n",
       "    }\n",
       "\n",
       "    .dataframe tbody tr th {\n",
       "        vertical-align: top;\n",
       "    }\n",
       "\n",
       "    .dataframe thead th {\n",
       "        text-align: right;\n",
       "    }\n",
       "</style>\n",
       "<table border=\"1\" class=\"dataframe\">\n",
       "  <thead>\n",
       "    <tr style=\"text-align: right;\">\n",
       "      <th></th>\n",
       "      <th>unnamed: 0</th>\n",
       "      <th>id</th>\n",
       "      <th>name</th>\n",
       "      <th>brand</th>\n",
       "      <th>colour</th>\n",
       "      <th>category</th>\n",
       "      <th>price</th>\n",
       "    </tr>\n",
       "  </thead>\n",
       "  <tbody>\n",
       "    <tr>\n",
       "      <th>0</th>\n",
       "      <td>False</td>\n",
       "      <td>False</td>\n",
       "      <td>False</td>\n",
       "      <td>False</td>\n",
       "      <td>False</td>\n",
       "      <td>False</td>\n",
       "      <td>False</td>\n",
       "    </tr>\n",
       "    <tr>\n",
       "      <th>1</th>\n",
       "      <td>False</td>\n",
       "      <td>False</td>\n",
       "      <td>False</td>\n",
       "      <td>False</td>\n",
       "      <td>False</td>\n",
       "      <td>False</td>\n",
       "      <td>False</td>\n",
       "    </tr>\n",
       "    <tr>\n",
       "      <th>2</th>\n",
       "      <td>False</td>\n",
       "      <td>False</td>\n",
       "      <td>False</td>\n",
       "      <td>False</td>\n",
       "      <td>False</td>\n",
       "      <td>False</td>\n",
       "      <td>False</td>\n",
       "    </tr>\n",
       "    <tr>\n",
       "      <th>3</th>\n",
       "      <td>False</td>\n",
       "      <td>False</td>\n",
       "      <td>False</td>\n",
       "      <td>False</td>\n",
       "      <td>False</td>\n",
       "      <td>False</td>\n",
       "      <td>False</td>\n",
       "    </tr>\n",
       "    <tr>\n",
       "      <th>4</th>\n",
       "      <td>False</td>\n",
       "      <td>False</td>\n",
       "      <td>False</td>\n",
       "      <td>False</td>\n",
       "      <td>False</td>\n",
       "      <td>False</td>\n",
       "      <td>False</td>\n",
       "    </tr>\n",
       "    <tr>\n",
       "      <th>...</th>\n",
       "      <td>...</td>\n",
       "      <td>...</td>\n",
       "      <td>...</td>\n",
       "      <td>...</td>\n",
       "      <td>...</td>\n",
       "      <td>...</td>\n",
       "      <td>...</td>\n",
       "    </tr>\n",
       "    <tr>\n",
       "      <th>29992</th>\n",
       "      <td>False</td>\n",
       "      <td>False</td>\n",
       "      <td>False</td>\n",
       "      <td>False</td>\n",
       "      <td>False</td>\n",
       "      <td>False</td>\n",
       "      <td>False</td>\n",
       "    </tr>\n",
       "    <tr>\n",
       "      <th>29993</th>\n",
       "      <td>False</td>\n",
       "      <td>False</td>\n",
       "      <td>False</td>\n",
       "      <td>False</td>\n",
       "      <td>False</td>\n",
       "      <td>False</td>\n",
       "      <td>False</td>\n",
       "    </tr>\n",
       "    <tr>\n",
       "      <th>29994</th>\n",
       "      <td>False</td>\n",
       "      <td>False</td>\n",
       "      <td>False</td>\n",
       "      <td>False</td>\n",
       "      <td>False</td>\n",
       "      <td>False</td>\n",
       "      <td>False</td>\n",
       "    </tr>\n",
       "    <tr>\n",
       "      <th>29995</th>\n",
       "      <td>False</td>\n",
       "      <td>False</td>\n",
       "      <td>False</td>\n",
       "      <td>False</td>\n",
       "      <td>False</td>\n",
       "      <td>False</td>\n",
       "      <td>False</td>\n",
       "    </tr>\n",
       "    <tr>\n",
       "      <th>29996</th>\n",
       "      <td>False</td>\n",
       "      <td>False</td>\n",
       "      <td>False</td>\n",
       "      <td>False</td>\n",
       "      <td>False</td>\n",
       "      <td>False</td>\n",
       "      <td>False</td>\n",
       "    </tr>\n",
       "  </tbody>\n",
       "</table>\n",
       "<p>29997 rows × 7 columns</p>\n",
       "</div>"
      ],
      "text/plain": [
       "       unnamed: 0     id   name  brand  colour  category  price\n",
       "0           False  False  False  False   False     False  False\n",
       "1           False  False  False  False   False     False  False\n",
       "2           False  False  False  False   False     False  False\n",
       "3           False  False  False  False   False     False  False\n",
       "4           False  False  False  False   False     False  False\n",
       "...           ...    ...    ...    ...     ...       ...    ...\n",
       "29992       False  False  False  False   False     False  False\n",
       "29993       False  False  False  False   False     False  False\n",
       "29994       False  False  False  False   False     False  False\n",
       "29995       False  False  False  False   False     False  False\n",
       "29996       False  False  False  False   False     False  False\n",
       "\n",
       "[29997 rows x 7 columns]"
      ]
     },
     "execution_count": 13,
     "metadata": {},
     "output_type": "execute_result"
    }
   ],
   "source": [
    "#checking null values\n",
    "\n",
    "df.isna()"
   ]
  },
  {
   "cell_type": "code",
   "execution_count": 14,
   "id": "2bbbcea6",
   "metadata": {
    "execution": {
     "iopub.execute_input": "2024-07-22T16:40:09.841426Z",
     "iopub.status.busy": "2024-07-22T16:40:09.840995Z",
     "iopub.status.idle": "2024-07-22T16:40:09.874151Z",
     "shell.execute_reply": "2024-07-22T16:40:09.872993Z"
    },
    "papermill": {
     "duration": 0.056273,
     "end_time": "2024-07-22T16:40:09.878176",
     "exception": false,
     "start_time": "2024-07-22T16:40:09.821903",
     "status": "completed"
    },
    "tags": []
   },
   "outputs": [
    {
     "data": {
      "text/plain": [
       "unnamed: 0      0\n",
       "id              0\n",
       "name            2\n",
       "brand           0\n",
       "colour          0\n",
       "category      114\n",
       "price           0\n",
       "dtype: int64"
      ]
     },
     "execution_count": 14,
     "metadata": {},
     "output_type": "execute_result"
    }
   ],
   "source": [
    "df.isna().sum()"
   ]
  },
  {
   "cell_type": "code",
   "execution_count": 15,
   "id": "0c80b3c9",
   "metadata": {
    "execution": {
     "iopub.execute_input": "2024-07-22T16:40:09.916590Z",
     "iopub.status.busy": "2024-07-22T16:40:09.916150Z",
     "iopub.status.idle": "2024-07-22T16:40:09.943900Z",
     "shell.execute_reply": "2024-07-22T16:40:09.942708Z"
    },
    "papermill": {
     "duration": 0.048244,
     "end_time": "2024-07-22T16:40:09.946491",
     "exception": false,
     "start_time": "2024-07-22T16:40:09.898247",
     "status": "completed"
    },
    "tags": []
   },
   "outputs": [
    {
     "data": {
      "text/plain": [
       "unnamed: 0      0\n",
       "id              0\n",
       "name            2\n",
       "brand           0\n",
       "colour          0\n",
       "category      114\n",
       "price           0\n",
       "dtype: int64"
      ]
     },
     "execution_count": 15,
     "metadata": {},
     "output_type": "execute_result"
    }
   ],
   "source": [
    "df.isnull().sum()\n",
    "#same functions"
   ]
  },
  {
   "cell_type": "code",
   "execution_count": 16,
   "id": "c32c0609",
   "metadata": {
    "execution": {
     "iopub.execute_input": "2024-07-22T16:40:09.979225Z",
     "iopub.status.busy": "2024-07-22T16:40:09.978402Z",
     "iopub.status.idle": "2024-07-22T16:40:10.014602Z",
     "shell.execute_reply": "2024-07-22T16:40:10.013592Z"
    },
    "papermill": {
     "duration": 0.056027,
     "end_time": "2024-07-22T16:40:10.018039",
     "exception": false,
     "start_time": "2024-07-22T16:40:09.962012",
     "status": "completed"
    },
    "tags": []
   },
   "outputs": [
    {
     "name": "stdout",
     "output_type": "stream",
     "text": [
      "       unnamed: 0     id                          name            brand  \\\n",
      "174           174  61602         Terri Dress in Bobcat      Reformation   \n",
      "175           175  65649              Twill Mini Dress        Courrèges   \n",
      "713           713  33095            Cottage Puff Dress           Selkie   \n",
      "799           799  27801               Andromeda Gown   Needle & Thread   \n",
      "806           806  28033                         Dress          ALEMAIS   \n",
      "...           ...    ...                           ...              ...   \n",
      "28060       28060  55593  Aubrielle white sequin dress        Retrofête   \n",
      "28233       28233   8496         Wavelength Midi Dress       Zimmermann   \n",
      "28980       28980  26082                    NEVA DRESS             ILTA   \n",
      "29202       29202  65643           Silk Provence Dress      Reformation   \n",
      "29203       29203  65634      ruffled tulle midi dress    Molly Goddard   \n",
      "\n",
      "       colour category  price  \n",
      "174     beige      NaN     41  \n",
      "175     beige      NaN     97  \n",
      "713     beige      NaN     47  \n",
      "799     beige      NaN     49  \n",
      "806     beige      NaN     67  \n",
      "...       ...      ...    ...  \n",
      "28060   white      NaN    124  \n",
      "28233   white      NaN    111  \n",
      "28980   white      NaN     62  \n",
      "29202  yellow      NaN     43  \n",
      "29203  yellow      NaN    160  \n",
      "\n",
      "[116 rows x 7 columns]\n"
     ]
    }
   ],
   "source": [
    "# Find the null values and delete or fix\n",
    "\n",
    "null_mask = df.isnull().any(axis=1)\n",
    "null_rows = df[null_mask]\n",
    "\n",
    "print(null_rows)"
   ]
  },
  {
   "cell_type": "code",
   "execution_count": 17,
   "id": "08b089e1",
   "metadata": {
    "execution": {
     "iopub.execute_input": "2024-07-22T16:40:10.063338Z",
     "iopub.status.busy": "2024-07-22T16:40:10.061975Z",
     "iopub.status.idle": "2024-07-22T16:40:10.099423Z",
     "shell.execute_reply": "2024-07-22T16:40:10.097753Z"
    },
    "papermill": {
     "duration": 0.060289,
     "end_time": "2024-07-22T16:40:10.102323",
     "exception": false,
     "start_time": "2024-07-22T16:40:10.042034",
     "status": "completed"
    },
    "tags": []
   },
   "outputs": [
    {
     "name": "stdout",
     "output_type": "stream",
     "text": [
      "       unnamed: 0     id                                    name  \\\n",
      "0               0  74416                     Runway stripe dress   \n",
      "1               1  73815              Reformation Kourtney Dress   \n",
      "2               2  73801                Ivory Viola bridal dress   \n",
      "3               3  73718                 Pasu Dress - Rhino Tusk   \n",
      "4               4  73605                                   Ellen   \n",
      "...           ...    ...                                     ...   \n",
      "29992       29992    872  Silk and wool-blend crepe dress yellow   \n",
      "29993       29993    871                 La Guardia Matching Set   \n",
      "29994       29994    844   One-shoulder ruffled crepe mini dress   \n",
      "29995       29995    592                            Billie Dress   \n",
      "29996       29996    231   Yellow Maddie Striped-knit Mini Dress   \n",
      "\n",
      "                     brand  colour  \\\n",
      "0         Stella McCartney   beige   \n",
      "1              Reformation   beige   \n",
      "2                    Ghost   beige   \n",
      "3                   Coucoo   beige   \n",
      "4                     RIXO   beige   \n",
      "...                    ...     ...   \n",
      "29992     Victoria Beckham  yellow   \n",
      "29993  Faithfull The Brand  yellow   \n",
      "29994        Solace London  yellow   \n",
      "29995     Rebecca Vallance  yellow   \n",
      "29996      Melissa Odabash  yellow   \n",
      "\n",
      "                                                category  price  \n",
      "0                                                dresses    111  \n",
      "1                                                dresses     50  \n",
      "2                                                dresses     75  \n",
      "3                                                dresses     37  \n",
      "4                                                dresses     47  \n",
      "...                                                  ...    ...  \n",
      "29992  dresses, Smart, midi, Short Sleeve, Pencil, Mo...    102  \n",
      "29993  dresses, Floral, Polka Dot, Loose, Smart Casua...     43  \n",
      "29994  dresses, Vinyl-PVC-Synthetics, Smart, Formal, ...     75  \n",
      "29995  dresses, Cotton-Jersey, Tie-Front, Skinny-Fit,...     42  \n",
      "29996  dresses, Wool-Cashmere, Horizontal Stripe, Cas...     32  \n",
      "\n",
      "[29881 rows x 7 columns]\n"
     ]
    }
   ],
   "source": [
    "# subset the data ( you don't want to completely delete raw data)\n",
    "\n",
    "df.dropna(subset =['category'], inplace=True)\n",
    "df.dropna(subset =['name'], inplace=True)\n",
    "print(df)"
   ]
  },
  {
   "cell_type": "code",
   "execution_count": 18,
   "id": "a39e172a",
   "metadata": {
    "execution": {
     "iopub.execute_input": "2024-07-22T16:40:10.136756Z",
     "iopub.status.busy": "2024-07-22T16:40:10.135167Z",
     "iopub.status.idle": "2024-07-22T16:40:10.179347Z",
     "shell.execute_reply": "2024-07-22T16:40:10.178072Z"
    },
    "papermill": {
     "duration": 0.064464,
     "end_time": "2024-07-22T16:40:10.182162",
     "exception": false,
     "start_time": "2024-07-22T16:40:10.117698",
     "status": "completed"
    },
    "tags": []
   },
   "outputs": [
    {
     "data": {
      "text/plain": [
       "0"
      ]
     },
     "execution_count": 18,
     "metadata": {},
     "output_type": "execute_result"
    }
   ],
   "source": [
    "# checking duplicates\n",
    "df.duplicated().sum()"
   ]
  },
  {
   "cell_type": "code",
   "execution_count": 19,
   "id": "2b90a82a",
   "metadata": {
    "execution": {
     "iopub.execute_input": "2024-07-22T16:40:10.216571Z",
     "iopub.status.busy": "2024-07-22T16:40:10.216160Z",
     "iopub.status.idle": "2024-07-22T16:40:10.246871Z",
     "shell.execute_reply": "2024-07-22T16:40:10.245640Z"
    },
    "papermill": {
     "duration": 0.051268,
     "end_time": "2024-07-22T16:40:10.249401",
     "exception": false,
     "start_time": "2024-07-22T16:40:10.198133",
     "status": "completed"
    },
    "tags": []
   },
   "outputs": [
    {
     "data": {
      "text/plain": [
       "0        True\n",
       "1        True\n",
       "2        True\n",
       "3        True\n",
       "4        True\n",
       "         ... \n",
       "29992    True\n",
       "29993    True\n",
       "29994    True\n",
       "29995    True\n",
       "29996    True\n",
       "Name: category, Length: 29881, dtype: bool"
      ]
     },
     "execution_count": 19,
     "metadata": {},
     "output_type": "execute_result"
    }
   ],
   "source": [
    "df['category'].str.contains('dresses')\n"
   ]
  },
  {
   "cell_type": "code",
   "execution_count": 20,
   "id": "fa3d248a",
   "metadata": {
    "execution": {
     "iopub.execute_input": "2024-07-22T16:40:10.282985Z",
     "iopub.status.busy": "2024-07-22T16:40:10.282575Z",
     "iopub.status.idle": "2024-07-22T16:40:10.321327Z",
     "shell.execute_reply": "2024-07-22T16:40:10.319993Z"
    },
    "papermill": {
     "duration": 0.059456,
     "end_time": "2024-07-22T16:40:10.324818",
     "exception": false,
     "start_time": "2024-07-22T16:40:10.265362",
     "status": "completed"
    },
    "tags": []
   },
   "outputs": [
    {
     "name": "stdout",
     "output_type": "stream",
     "text": [
      "25497\n"
     ]
    },
    {
     "data": {
      "text/html": [
       "<div>\n",
       "<style scoped>\n",
       "    .dataframe tbody tr th:only-of-type {\n",
       "        vertical-align: middle;\n",
       "    }\n",
       "\n",
       "    .dataframe tbody tr th {\n",
       "        vertical-align: top;\n",
       "    }\n",
       "\n",
       "    .dataframe thead th {\n",
       "        text-align: right;\n",
       "    }\n",
       "</style>\n",
       "<table border=\"1\" class=\"dataframe\">\n",
       "  <thead>\n",
       "    <tr style=\"text-align: right;\">\n",
       "      <th></th>\n",
       "      <th>unnamed: 0</th>\n",
       "      <th>id</th>\n",
       "      <th>name</th>\n",
       "      <th>brand</th>\n",
       "      <th>colour</th>\n",
       "      <th>category</th>\n",
       "      <th>price</th>\n",
       "    </tr>\n",
       "  </thead>\n",
       "  <tbody>\n",
       "    <tr>\n",
       "      <th>0</th>\n",
       "      <td>0</td>\n",
       "      <td>74416</td>\n",
       "      <td>Runway stripe dress</td>\n",
       "      <td>Stella McCartney</td>\n",
       "      <td>beige</td>\n",
       "      <td>dresses</td>\n",
       "      <td>111</td>\n",
       "    </tr>\n",
       "    <tr>\n",
       "      <th>1</th>\n",
       "      <td>1</td>\n",
       "      <td>73815</td>\n",
       "      <td>Reformation Kourtney Dress</td>\n",
       "      <td>Reformation</td>\n",
       "      <td>beige</td>\n",
       "      <td>dresses</td>\n",
       "      <td>50</td>\n",
       "    </tr>\n",
       "    <tr>\n",
       "      <th>2</th>\n",
       "      <td>2</td>\n",
       "      <td>73801</td>\n",
       "      <td>Ivory Viola bridal dress</td>\n",
       "      <td>Ghost</td>\n",
       "      <td>beige</td>\n",
       "      <td>dresses</td>\n",
       "      <td>75</td>\n",
       "    </tr>\n",
       "    <tr>\n",
       "      <th>3</th>\n",
       "      <td>3</td>\n",
       "      <td>73718</td>\n",
       "      <td>Pasu Dress - Rhino Tusk</td>\n",
       "      <td>Coucoo</td>\n",
       "      <td>beige</td>\n",
       "      <td>dresses</td>\n",
       "      <td>37</td>\n",
       "    </tr>\n",
       "    <tr>\n",
       "      <th>4</th>\n",
       "      <td>4</td>\n",
       "      <td>73605</td>\n",
       "      <td>Ellen</td>\n",
       "      <td>RIXO</td>\n",
       "      <td>beige</td>\n",
       "      <td>dresses</td>\n",
       "      <td>47</td>\n",
       "    </tr>\n",
       "    <tr>\n",
       "      <th>5</th>\n",
       "      <td>5</td>\n",
       "      <td>73583</td>\n",
       "      <td>Elena Dress Crystal Garden</td>\n",
       "      <td>Stine Goya</td>\n",
       "      <td>beige</td>\n",
       "      <td>dresses</td>\n",
       "      <td>64</td>\n",
       "    </tr>\n",
       "    <tr>\n",
       "      <th>6</th>\n",
       "      <td>6</td>\n",
       "      <td>73007</td>\n",
       "      <td>OBlanc Dress</td>\n",
       "      <td>New Arrivals</td>\n",
       "      <td>beige</td>\n",
       "      <td>dresses</td>\n",
       "      <td>145</td>\n",
       "    </tr>\n",
       "    <tr>\n",
       "      <th>7</th>\n",
       "      <td>7</td>\n",
       "      <td>73245</td>\n",
       "      <td>Melody Dress</td>\n",
       "      <td>Melissa Odabash</td>\n",
       "      <td>beige</td>\n",
       "      <td>dresses</td>\n",
       "      <td>52</td>\n",
       "    </tr>\n",
       "    <tr>\n",
       "      <th>8</th>\n",
       "      <td>8</td>\n",
       "      <td>73050</td>\n",
       "      <td>Isamaya Dress</td>\n",
       "      <td>Rat &amp; Boa</td>\n",
       "      <td>beige</td>\n",
       "      <td>dresses</td>\n",
       "      <td>38</td>\n",
       "    </tr>\n",
       "    <tr>\n",
       "      <th>9</th>\n",
       "      <td>9</td>\n",
       "      <td>73019</td>\n",
       "      <td>Belted Animal Print Mini Dress</td>\n",
       "      <td>ROTATE BIRGER CHRISTENSEN</td>\n",
       "      <td>beige</td>\n",
       "      <td>dresses</td>\n",
       "      <td>39</td>\n",
       "    </tr>\n",
       "  </tbody>\n",
       "</table>\n",
       "</div>"
      ],
      "text/plain": [
       "   unnamed: 0     id                            name  \\\n",
       "0           0  74416             Runway stripe dress   \n",
       "1           1  73815      Reformation Kourtney Dress   \n",
       "2           2  73801        Ivory Viola bridal dress   \n",
       "3           3  73718         Pasu Dress - Rhino Tusk   \n",
       "4           4  73605                           Ellen   \n",
       "5           5  73583     Elena Dress Crystal Garden    \n",
       "6           6  73007                   OBlanc Dress    \n",
       "7           7  73245                    Melody Dress   \n",
       "8           8  73050                   Isamaya Dress   \n",
       "9           9  73019  Belted Animal Print Mini Dress   \n",
       "\n",
       "                       brand colour category  price  \n",
       "0           Stella McCartney  beige  dresses    111  \n",
       "1                Reformation  beige  dresses     50  \n",
       "2                      Ghost  beige  dresses     75  \n",
       "3                     Coucoo  beige  dresses     37  \n",
       "4                       RIXO  beige  dresses     47  \n",
       "5                 Stine Goya  beige  dresses     64  \n",
       "6               New Arrivals  beige  dresses    145  \n",
       "7            Melissa Odabash  beige  dresses     52  \n",
       "8                  Rat & Boa  beige  dresses     38  \n",
       "9  ROTATE BIRGER CHRISTENSEN  beige  dresses     39  "
      ]
     },
     "execution_count": 20,
     "metadata": {},
     "output_type": "execute_result"
    }
   ],
   "source": [
    "#Step Three: ANALYSIS\n",
    "\n",
    "#Categories\n",
    "\n",
    "# mass_market: These brands focus on offering the latest trends and \n",
    "#              styles at lower pries, often with a faster fashion cycle.\n",
    "#              less than ... on average\n",
    "\n",
    "# mid_range: These brands offer quality and style at a more \n",
    "#            accessible price point compared to luxury brands.\n",
    "#            between ... and ... on average\n",
    "\n",
    "# high_end: These items are associated with high-quality materials,\n",
    "#           expert craftsmanshiop, and a premium price point.\n",
    "#           more than ... on average >=\n",
    "\n",
    "#\n",
    "\n",
    "total_unique_count = df['name'].value_counts().size\n",
    "print(total_unique_count)\n",
    "df.head(10)\n"
   ]
  },
  {
   "cell_type": "code",
   "execution_count": 21,
   "id": "67620e82",
   "metadata": {
    "execution": {
     "iopub.execute_input": "2024-07-22T16:40:10.362542Z",
     "iopub.status.busy": "2024-07-22T16:40:10.362089Z",
     "iopub.status.idle": "2024-07-22T16:40:10.374415Z",
     "shell.execute_reply": "2024-07-22T16:40:10.372703Z"
    },
    "papermill": {
     "duration": 0.036647,
     "end_time": "2024-07-22T16:40:10.377744",
     "exception": false,
     "start_time": "2024-07-22T16:40:10.341097",
     "status": "completed"
    },
    "tags": []
   },
   "outputs": [
    {
     "name": "stdout",
     "output_type": "stream",
     "text": [
      "['dresses' 'dresses, midi' 'bottoms' ...\n",
      " 'dresses, Vinyl-PVC-Synthetics, Smart, Formal, Winter, Seasonal, mini, V-Necks'\n",
      " 'dresses, Cotton-Jersey, Tie-Front, Skinny-Fit, Smart, Formal, Summer, midi, Pencil, Monochrome'\n",
      " 'dresses, Wool-Cashmere, Horizontal Stripe, Casual, Winter, mini, Short Sleeve']\n"
     ]
    }
   ],
   "source": [
    "#There are 931 different brands\n",
    "#There are 20 different colours\n",
    "#There are 5399 different categories (They are all dresses)\n",
    "#There are 29881 different ids\n",
    "#There are 25497 different names\n",
    "\n",
    "category_values = df['category'].unique()\n",
    "print(category_values)\n",
    "\n"
   ]
  },
  {
   "cell_type": "code",
   "execution_count": 22,
   "id": "08b07e98",
   "metadata": {
    "execution": {
     "iopub.execute_input": "2024-07-22T16:40:10.413352Z",
     "iopub.status.busy": "2024-07-22T16:40:10.412977Z",
     "iopub.status.idle": "2024-07-22T16:40:10.507805Z",
     "shell.execute_reply": "2024-07-22T16:40:10.506306Z"
    },
    "papermill": {
     "duration": 0.117902,
     "end_time": "2024-07-22T16:40:10.512715",
     "exception": false,
     "start_time": "2024-07-22T16:40:10.394813",
     "status": "completed"
    },
    "tags": []
   },
   "outputs": [
    {
     "name": "stdout",
     "output_type": "stream",
     "text": [
      "       average_price fashion_level\n",
      "id                                \n",
      "64660          793.0      high_end\n",
      "30777          707.0      high_end\n",
      "69601          653.0      high_end\n",
      "58691          618.0      high_end\n",
      "71102          588.0      high_end\n",
      "28666          576.0      high_end\n",
      "49933          572.0      high_end\n",
      "11280          552.0      high_end\n",
      "60146          503.0      high_end\n",
      "45778          503.0      high_end\n"
     ]
    }
   ],
   "source": [
    "#Categories\n",
    "\n",
    "# mass_market: These brands focus on offering the latest trends and \n",
    "#              styles at lower pries, often with a faster fashion cycle.\n",
    "#              less than 75 on average\n",
    "\n",
    "# mid_range: These brands offer quality and style at a more \n",
    "#            accessible price point compared to luxury brands.\n",
    "#            between 75 and 300 on average\n",
    "\n",
    "# high_end: These items are associated with high-quality materials,\n",
    "#           expert craftsmanshiop, and a premium price point.\n",
    "#           more than 300 on average \n",
    "\n",
    "#The following was corrected by ChatGPT. I see how it grouped everything into one command\n",
    "#id_grp = df.groupby(['id'])\n",
    "#id_avg_price = id_grp['price'].mean().sort_values(ascending=False)\n",
    "#id_ave_price = id_avg_price.to_frame()\n",
    "\n",
    "# Group by 'id' and calculate the mean price for each id\n",
    "id_avg_price = df.groupby('id')['price'].mean().sort_values(ascending=False).to_frame()\n",
    "\n",
    "# Rename the column to 'average_price' for clarity\n",
    "id_avg_price.rename(columns={'price': 'average_price'}, inplace=True)\n",
    "\n",
    "\n",
    "#Define conditions for fashion levels (Create conditions)\n",
    "conditions = [\n",
    "    (id_avg_price['average_price'] <= 75),\n",
    "    (id_avg_price['average_price'] > 75) & (id_avg_price['average_price'] < 300),\n",
    "   (id_avg_price['average_price'] >= 300)]\n",
    "\n",
    "#Define the category labels\n",
    "categories = ['mass_market', 'mid_range', 'high_end']\n",
    "\n",
    "# Create a column\n",
    "id_avg_price['fashion_level'] = np.select(conditions, categories)\n",
    "\n",
    "#Storing column on a variable\n",
    "id_fashion_level = id_avg_price['fashion_level']\n",
    "\n",
    "#Display the DataFrame\n",
    "print(id_avg_price.head(10))"
   ]
  },
  {
   "cell_type": "code",
   "execution_count": 23,
   "id": "1c7e1acc",
   "metadata": {
    "execution": {
     "iopub.execute_input": "2024-07-22T16:40:10.552011Z",
     "iopub.status.busy": "2024-07-22T16:40:10.551517Z",
     "iopub.status.idle": "2024-07-22T16:40:10.568625Z",
     "shell.execute_reply": "2024-07-22T16:40:10.567475Z"
    },
    "papermill": {
     "duration": 0.037926,
     "end_time": "2024-07-22T16:40:10.571152",
     "exception": false,
     "start_time": "2024-07-22T16:40:10.533226",
     "status": "completed"
    },
    "tags": []
   },
   "outputs": [
    {
     "name": "stdout",
     "output_type": "stream",
     "text": [
      "fashion_level\n",
      "mass_market    23973\n",
      "mid_range       5846\n",
      "high_end          62\n",
      "Name: count, dtype: int64\n"
     ]
    }
   ],
   "source": [
    "#How many high end, mig range, and mass market do we have?\n",
    "\n",
    "category_counts = id_avg_price['fashion_level'].value_counts()\n",
    "\n",
    "# Display the counts\n",
    "print(category_counts)\n",
    "\n",
    "#Note that the company sells more mass_market clothing than anything."
   ]
  },
  {
   "cell_type": "code",
   "execution_count": 24,
   "id": "c991ed05",
   "metadata": {
    "execution": {
     "iopub.execute_input": "2024-07-22T16:40:10.607043Z",
     "iopub.status.busy": "2024-07-22T16:40:10.606666Z",
     "iopub.status.idle": "2024-07-22T16:40:10.662617Z",
     "shell.execute_reply": "2024-07-22T16:40:10.661135Z"
    },
    "papermill": {
     "duration": 0.077483,
     "end_time": "2024-07-22T16:40:10.665241",
     "exception": false,
     "start_time": "2024-07-22T16:40:10.587758",
     "status": "completed"
    },
    "tags": []
   },
   "outputs": [
    {
     "name": "stdout",
     "output_type": "stream",
     "text": [
      "   unnamed: 0     id                        name             brand colour  \\\n",
      "0           0  74416         Runway stripe dress  Stella McCartney  beige   \n",
      "1           1  73815  Reformation Kourtney Dress       Reformation  beige   \n",
      "2           2  73801    Ivory Viola bridal dress             Ghost  beige   \n",
      "3           3  73718     Pasu Dress - Rhino Tusk            Coucoo  beige   \n",
      "4           4  73605                       Ellen              RIXO  beige   \n",
      "\n",
      "  category  price  average_price fashion_level  \n",
      "0  dresses    111          111.0     mid_range  \n",
      "1  dresses     50           50.0   mass_market  \n",
      "2  dresses     75           75.0   mass_market  \n",
      "3  dresses     37           37.0   mass_market  \n",
      "4  dresses     47           47.0   mass_market  \n"
     ]
    }
   ],
   "source": [
    "# Assuming 'id_avg_price' has 'id' as its index after groupby operation\n",
    "# You might need to reset the index if 'id' is not a column\n",
    "id_avg_price.reset_index(inplace=True)\n",
    "\n",
    "# Merging 'df' with 'id_avg_price'\n",
    "df_merged = pd.merge(df, id_avg_price, on='id', how='inner')\n",
    "\n",
    "# Display the first few rows to verify the merge\n",
    "print(df_merged.head())"
   ]
  },
  {
   "cell_type": "code",
   "execution_count": 25,
   "id": "8a38c735",
   "metadata": {
    "execution": {
     "iopub.execute_input": "2024-07-22T16:40:10.700368Z",
     "iopub.status.busy": "2024-07-22T16:40:10.699960Z",
     "iopub.status.idle": "2024-07-22T16:40:10.710747Z",
     "shell.execute_reply": "2024-07-22T16:40:10.709622Z"
    },
    "papermill": {
     "duration": 0.031592,
     "end_time": "2024-07-22T16:40:10.713549",
     "exception": false,
     "start_time": "2024-07-22T16:40:10.681957",
     "status": "completed"
    },
    "tags": []
   },
   "outputs": [],
   "source": [
    "#I previously removed the column 'unnamed: 0' \n",
    "# Remove the column named 'unwanted_column'\n",
    "df_merged = df_merged.drop('unnamed: 0', axis=1)"
   ]
  },
  {
   "cell_type": "code",
   "execution_count": 26,
   "id": "bf17f040",
   "metadata": {
    "execution": {
     "iopub.execute_input": "2024-07-22T16:40:10.748940Z",
     "iopub.status.busy": "2024-07-22T16:40:10.748266Z",
     "iopub.status.idle": "2024-07-22T16:40:10.758299Z",
     "shell.execute_reply": "2024-07-22T16:40:10.757202Z"
    },
    "papermill": {
     "duration": 0.031397,
     "end_time": "2024-07-22T16:40:10.761554",
     "exception": false,
     "start_time": "2024-07-22T16:40:10.730157",
     "status": "completed"
    },
    "tags": []
   },
   "outputs": [
    {
     "name": "stdout",
     "output_type": "stream",
     "text": [
      "      id                        name             brand colour category  price  \\\n",
      "0  74416         Runway stripe dress  Stella McCartney  beige  dresses    111   \n",
      "1  73815  Reformation Kourtney Dress       Reformation  beige  dresses     50   \n",
      "2  73801    Ivory Viola bridal dress             Ghost  beige  dresses     75   \n",
      "3  73718     Pasu Dress - Rhino Tusk            Coucoo  beige  dresses     37   \n",
      "4  73605                       Ellen              RIXO  beige  dresses     47   \n",
      "\n",
      "   average_price fashion_level  \n",
      "0          111.0     mid_range  \n",
      "1           50.0   mass_market  \n",
      "2           75.0   mass_market  \n",
      "3           37.0   mass_market  \n",
      "4           47.0   mass_market  \n"
     ]
    }
   ],
   "source": [
    "# Display the first few rows of the merged DataFrame to check the new 'fashion_level' column\n",
    "print(df_merged.head())\n"
   ]
  },
  {
   "cell_type": "code",
   "execution_count": 27,
   "id": "983b69e9",
   "metadata": {
    "execution": {
     "iopub.execute_input": "2024-07-22T16:40:10.796922Z",
     "iopub.status.busy": "2024-07-22T16:40:10.796558Z",
     "iopub.status.idle": "2024-07-22T16:40:10.813851Z",
     "shell.execute_reply": "2024-07-22T16:40:10.812535Z"
    },
    "papermill": {
     "duration": 0.038338,
     "end_time": "2024-07-22T16:40:10.816634",
     "exception": false,
     "start_time": "2024-07-22T16:40:10.778296",
     "status": "completed"
    },
    "tags": []
   },
   "outputs": [
    {
     "data": {
      "text/html": [
       "<div>\n",
       "<style scoped>\n",
       "    .dataframe tbody tr th:only-of-type {\n",
       "        vertical-align: middle;\n",
       "    }\n",
       "\n",
       "    .dataframe tbody tr th {\n",
       "        vertical-align: top;\n",
       "    }\n",
       "\n",
       "    .dataframe thead th {\n",
       "        text-align: right;\n",
       "    }\n",
       "</style>\n",
       "<table border=\"1\" class=\"dataframe\">\n",
       "  <thead>\n",
       "    <tr style=\"text-align: right;\">\n",
       "      <th></th>\n",
       "      <th>unnamed: 0</th>\n",
       "      <th>id</th>\n",
       "      <th>name</th>\n",
       "      <th>brand</th>\n",
       "      <th>colour</th>\n",
       "      <th>category</th>\n",
       "      <th>price</th>\n",
       "    </tr>\n",
       "  </thead>\n",
       "  <tbody>\n",
       "    <tr>\n",
       "      <th>0</th>\n",
       "      <td>0</td>\n",
       "      <td>74416</td>\n",
       "      <td>Runway stripe dress</td>\n",
       "      <td>Stella McCartney</td>\n",
       "      <td>beige</td>\n",
       "      <td>dresses</td>\n",
       "      <td>111</td>\n",
       "    </tr>\n",
       "    <tr>\n",
       "      <th>1</th>\n",
       "      <td>1</td>\n",
       "      <td>73815</td>\n",
       "      <td>Reformation Kourtney Dress</td>\n",
       "      <td>Reformation</td>\n",
       "      <td>beige</td>\n",
       "      <td>dresses</td>\n",
       "      <td>50</td>\n",
       "    </tr>\n",
       "    <tr>\n",
       "      <th>2</th>\n",
       "      <td>2</td>\n",
       "      <td>73801</td>\n",
       "      <td>Ivory Viola bridal dress</td>\n",
       "      <td>Ghost</td>\n",
       "      <td>beige</td>\n",
       "      <td>dresses</td>\n",
       "      <td>75</td>\n",
       "    </tr>\n",
       "    <tr>\n",
       "      <th>3</th>\n",
       "      <td>3</td>\n",
       "      <td>73718</td>\n",
       "      <td>Pasu Dress - Rhino Tusk</td>\n",
       "      <td>Coucoo</td>\n",
       "      <td>beige</td>\n",
       "      <td>dresses</td>\n",
       "      <td>37</td>\n",
       "    </tr>\n",
       "    <tr>\n",
       "      <th>4</th>\n",
       "      <td>4</td>\n",
       "      <td>73605</td>\n",
       "      <td>Ellen</td>\n",
       "      <td>RIXO</td>\n",
       "      <td>beige</td>\n",
       "      <td>dresses</td>\n",
       "      <td>47</td>\n",
       "    </tr>\n",
       "    <tr>\n",
       "      <th>5</th>\n",
       "      <td>5</td>\n",
       "      <td>73583</td>\n",
       "      <td>Elena Dress Crystal Garden</td>\n",
       "      <td>Stine Goya</td>\n",
       "      <td>beige</td>\n",
       "      <td>dresses</td>\n",
       "      <td>64</td>\n",
       "    </tr>\n",
       "    <tr>\n",
       "      <th>6</th>\n",
       "      <td>6</td>\n",
       "      <td>73007</td>\n",
       "      <td>OBlanc Dress</td>\n",
       "      <td>New Arrivals</td>\n",
       "      <td>beige</td>\n",
       "      <td>dresses</td>\n",
       "      <td>145</td>\n",
       "    </tr>\n",
       "    <tr>\n",
       "      <th>7</th>\n",
       "      <td>7</td>\n",
       "      <td>73245</td>\n",
       "      <td>Melody Dress</td>\n",
       "      <td>Melissa Odabash</td>\n",
       "      <td>beige</td>\n",
       "      <td>dresses</td>\n",
       "      <td>52</td>\n",
       "    </tr>\n",
       "    <tr>\n",
       "      <th>8</th>\n",
       "      <td>8</td>\n",
       "      <td>73050</td>\n",
       "      <td>Isamaya Dress</td>\n",
       "      <td>Rat &amp; Boa</td>\n",
       "      <td>beige</td>\n",
       "      <td>dresses</td>\n",
       "      <td>38</td>\n",
       "    </tr>\n",
       "    <tr>\n",
       "      <th>9</th>\n",
       "      <td>9</td>\n",
       "      <td>73019</td>\n",
       "      <td>Belted Animal Print Mini Dress</td>\n",
       "      <td>ROTATE BIRGER CHRISTENSEN</td>\n",
       "      <td>beige</td>\n",
       "      <td>dresses</td>\n",
       "      <td>39</td>\n",
       "    </tr>\n",
       "  </tbody>\n",
       "</table>\n",
       "</div>"
      ],
      "text/plain": [
       "   unnamed: 0     id                            name  \\\n",
       "0           0  74416             Runway stripe dress   \n",
       "1           1  73815      Reformation Kourtney Dress   \n",
       "2           2  73801        Ivory Viola bridal dress   \n",
       "3           3  73718         Pasu Dress - Rhino Tusk   \n",
       "4           4  73605                           Ellen   \n",
       "5           5  73583     Elena Dress Crystal Garden    \n",
       "6           6  73007                   OBlanc Dress    \n",
       "7           7  73245                    Melody Dress   \n",
       "8           8  73050                   Isamaya Dress   \n",
       "9           9  73019  Belted Animal Print Mini Dress   \n",
       "\n",
       "                       brand colour category  price  \n",
       "0           Stella McCartney  beige  dresses    111  \n",
       "1                Reformation  beige  dresses     50  \n",
       "2                      Ghost  beige  dresses     75  \n",
       "3                     Coucoo  beige  dresses     37  \n",
       "4                       RIXO  beige  dresses     47  \n",
       "5                 Stine Goya  beige  dresses     64  \n",
       "6               New Arrivals  beige  dresses    145  \n",
       "7            Melissa Odabash  beige  dresses     52  \n",
       "8                  Rat & Boa  beige  dresses     38  \n",
       "9  ROTATE BIRGER CHRISTENSEN  beige  dresses     39  "
      ]
     },
     "execution_count": 27,
     "metadata": {},
     "output_type": "execute_result"
    }
   ],
   "source": [
    "df.head(10)"
   ]
  },
  {
   "cell_type": "code",
   "execution_count": 28,
   "id": "2d55e26c",
   "metadata": {
    "execution": {
     "iopub.execute_input": "2024-07-22T16:40:10.854403Z",
     "iopub.status.busy": "2024-07-22T16:40:10.854021Z",
     "iopub.status.idle": "2024-07-22T16:40:10.871731Z",
     "shell.execute_reply": "2024-07-22T16:40:10.870414Z"
    },
    "papermill": {
     "duration": 0.039451,
     "end_time": "2024-07-22T16:40:10.874157",
     "exception": false,
     "start_time": "2024-07-22T16:40:10.834706",
     "status": "completed"
    },
    "tags": []
   },
   "outputs": [
    {
     "data": {
      "text/html": [
       "<div>\n",
       "<style scoped>\n",
       "    .dataframe tbody tr th:only-of-type {\n",
       "        vertical-align: middle;\n",
       "    }\n",
       "\n",
       "    .dataframe tbody tr th {\n",
       "        vertical-align: top;\n",
       "    }\n",
       "\n",
       "    .dataframe thead th {\n",
       "        text-align: right;\n",
       "    }\n",
       "</style>\n",
       "<table border=\"1\" class=\"dataframe\">\n",
       "  <thead>\n",
       "    <tr style=\"text-align: right;\">\n",
       "      <th></th>\n",
       "      <th>id</th>\n",
       "      <th>name</th>\n",
       "      <th>brand</th>\n",
       "      <th>colour</th>\n",
       "      <th>category</th>\n",
       "      <th>price</th>\n",
       "      <th>average_price</th>\n",
       "      <th>fashion_level</th>\n",
       "    </tr>\n",
       "  </thead>\n",
       "  <tbody>\n",
       "    <tr>\n",
       "      <th>0</th>\n",
       "      <td>74416</td>\n",
       "      <td>Runway stripe dress</td>\n",
       "      <td>Stella McCartney</td>\n",
       "      <td>beige</td>\n",
       "      <td>dresses</td>\n",
       "      <td>111</td>\n",
       "      <td>111.0</td>\n",
       "      <td>mid_range</td>\n",
       "    </tr>\n",
       "    <tr>\n",
       "      <th>1</th>\n",
       "      <td>73815</td>\n",
       "      <td>Reformation Kourtney Dress</td>\n",
       "      <td>Reformation</td>\n",
       "      <td>beige</td>\n",
       "      <td>dresses</td>\n",
       "      <td>50</td>\n",
       "      <td>50.0</td>\n",
       "      <td>mass_market</td>\n",
       "    </tr>\n",
       "    <tr>\n",
       "      <th>2</th>\n",
       "      <td>73801</td>\n",
       "      <td>Ivory Viola bridal dress</td>\n",
       "      <td>Ghost</td>\n",
       "      <td>beige</td>\n",
       "      <td>dresses</td>\n",
       "      <td>75</td>\n",
       "      <td>75.0</td>\n",
       "      <td>mass_market</td>\n",
       "    </tr>\n",
       "    <tr>\n",
       "      <th>3</th>\n",
       "      <td>73718</td>\n",
       "      <td>Pasu Dress - Rhino Tusk</td>\n",
       "      <td>Coucoo</td>\n",
       "      <td>beige</td>\n",
       "      <td>dresses</td>\n",
       "      <td>37</td>\n",
       "      <td>37.0</td>\n",
       "      <td>mass_market</td>\n",
       "    </tr>\n",
       "    <tr>\n",
       "      <th>4</th>\n",
       "      <td>73605</td>\n",
       "      <td>Ellen</td>\n",
       "      <td>RIXO</td>\n",
       "      <td>beige</td>\n",
       "      <td>dresses</td>\n",
       "      <td>47</td>\n",
       "      <td>47.0</td>\n",
       "      <td>mass_market</td>\n",
       "    </tr>\n",
       "    <tr>\n",
       "      <th>5</th>\n",
       "      <td>73583</td>\n",
       "      <td>Elena Dress Crystal Garden</td>\n",
       "      <td>Stine Goya</td>\n",
       "      <td>beige</td>\n",
       "      <td>dresses</td>\n",
       "      <td>64</td>\n",
       "      <td>64.0</td>\n",
       "      <td>mass_market</td>\n",
       "    </tr>\n",
       "    <tr>\n",
       "      <th>6</th>\n",
       "      <td>73007</td>\n",
       "      <td>OBlanc Dress</td>\n",
       "      <td>New Arrivals</td>\n",
       "      <td>beige</td>\n",
       "      <td>dresses</td>\n",
       "      <td>145</td>\n",
       "      <td>145.0</td>\n",
       "      <td>mid_range</td>\n",
       "    </tr>\n",
       "    <tr>\n",
       "      <th>7</th>\n",
       "      <td>73245</td>\n",
       "      <td>Melody Dress</td>\n",
       "      <td>Melissa Odabash</td>\n",
       "      <td>beige</td>\n",
       "      <td>dresses</td>\n",
       "      <td>52</td>\n",
       "      <td>52.0</td>\n",
       "      <td>mass_market</td>\n",
       "    </tr>\n",
       "    <tr>\n",
       "      <th>8</th>\n",
       "      <td>73050</td>\n",
       "      <td>Isamaya Dress</td>\n",
       "      <td>Rat &amp; Boa</td>\n",
       "      <td>beige</td>\n",
       "      <td>dresses</td>\n",
       "      <td>38</td>\n",
       "      <td>38.0</td>\n",
       "      <td>mass_market</td>\n",
       "    </tr>\n",
       "    <tr>\n",
       "      <th>9</th>\n",
       "      <td>73019</td>\n",
       "      <td>Belted Animal Print Mini Dress</td>\n",
       "      <td>ROTATE BIRGER CHRISTENSEN</td>\n",
       "      <td>beige</td>\n",
       "      <td>dresses</td>\n",
       "      <td>39</td>\n",
       "      <td>39.0</td>\n",
       "      <td>mass_market</td>\n",
       "    </tr>\n",
       "  </tbody>\n",
       "</table>\n",
       "</div>"
      ],
      "text/plain": [
       "      id                            name                      brand colour  \\\n",
       "0  74416             Runway stripe dress           Stella McCartney  beige   \n",
       "1  73815      Reformation Kourtney Dress                Reformation  beige   \n",
       "2  73801        Ivory Viola bridal dress                      Ghost  beige   \n",
       "3  73718         Pasu Dress - Rhino Tusk                     Coucoo  beige   \n",
       "4  73605                           Ellen                       RIXO  beige   \n",
       "5  73583     Elena Dress Crystal Garden                  Stine Goya  beige   \n",
       "6  73007                   OBlanc Dress                New Arrivals  beige   \n",
       "7  73245                    Melody Dress            Melissa Odabash  beige   \n",
       "8  73050                   Isamaya Dress                  Rat & Boa  beige   \n",
       "9  73019  Belted Animal Print Mini Dress  ROTATE BIRGER CHRISTENSEN  beige   \n",
       "\n",
       "  category  price  average_price fashion_level  \n",
       "0  dresses    111          111.0     mid_range  \n",
       "1  dresses     50           50.0   mass_market  \n",
       "2  dresses     75           75.0   mass_market  \n",
       "3  dresses     37           37.0   mass_market  \n",
       "4  dresses     47           47.0   mass_market  \n",
       "5  dresses     64           64.0   mass_market  \n",
       "6  dresses    145          145.0     mid_range  \n",
       "7  dresses     52           52.0   mass_market  \n",
       "8  dresses     38           38.0   mass_market  \n",
       "9  dresses     39           39.0   mass_market  "
      ]
     },
     "execution_count": 28,
     "metadata": {},
     "output_type": "execute_result"
    }
   ],
   "source": [
    "df_merged.head(10)"
   ]
  },
  {
   "cell_type": "code",
   "execution_count": 29,
   "id": "a99b6d3c",
   "metadata": {
    "execution": {
     "iopub.execute_input": "2024-07-22T16:40:10.914102Z",
     "iopub.status.busy": "2024-07-22T16:40:10.913733Z",
     "iopub.status.idle": "2024-07-22T16:40:10.927004Z",
     "shell.execute_reply": "2024-07-22T16:40:10.925276Z"
    },
    "papermill": {
     "duration": 0.035743,
     "end_time": "2024-07-22T16:40:10.929493",
     "exception": false,
     "start_time": "2024-07-22T16:40:10.893750",
     "status": "completed"
    },
    "tags": []
   },
   "outputs": [
    {
     "name": "stdout",
     "output_type": "stream",
     "text": [
      "colour\n",
      "black      4670\n",
      "multi      4152\n",
      "blue       3562\n",
      "pink       3478\n",
      "green      2850\n",
      "white      2323\n",
      "red        2257\n",
      "beige      1103\n",
      "yellow      942\n",
      "purple      811\n",
      "navy        780\n",
      "orange      706\n",
      "brown       615\n",
      "cream       525\n",
      "gold        466\n",
      "silver      363\n",
      "copper      118\n",
      "grey        114\n",
      "tan          30\n",
      "phantom      16\n",
      "Name: count, dtype: int64\n"
     ]
    }
   ],
   "source": [
    "#How many of each different colour do we have?\n",
    "\n",
    "colour_counts = df_merged['colour'].value_counts()\n",
    "\n",
    "# Display the counts\n",
    "print(colour_counts)\n",
    "\n",
    "#Note that the company sells more black clothing than anything.\n",
    "#However, none of the colours are outliers\n",
    "#They may consider merging colour categories to cut back on choices\n",
    "#For an example merging tan, beige, cream, and white"
   ]
  },
  {
   "cell_type": "code",
   "execution_count": 30,
   "id": "e5f0d23e",
   "metadata": {
    "execution": {
     "iopub.execute_input": "2024-07-22T16:40:10.967043Z",
     "iopub.status.busy": "2024-07-22T16:40:10.966650Z",
     "iopub.status.idle": "2024-07-22T16:40:10.991397Z",
     "shell.execute_reply": "2024-07-22T16:40:10.990069Z"
    },
    "papermill": {
     "duration": 0.046779,
     "end_time": "2024-07-22T16:40:10.994062",
     "exception": false,
     "start_time": "2024-07-22T16:40:10.947283",
     "status": "completed"
    },
    "tags": []
   },
   "outputs": [
    {
     "name": "stdout",
     "output_type": "stream",
     "text": [
      "name\n",
      "Dress                                    38\n",
      "The Alexandra Dress                      33\n",
      "Atlanta Linen Dress                      26\n",
      "Nikita Dress                             22\n",
      "Isabella Dress                           22\n",
      "                                         ..\n",
      "Rehannin                                  1\n",
      "Boucle embellished dress                  1\n",
      "Wendelin Dress                            1\n",
      "Bridgette 'Dice'                          1\n",
      "Yellow Maddie Striped-knit Mini Dress     1\n",
      "Name: count, Length: 25497, dtype: int64\n"
     ]
    }
   ],
   "source": [
    "#How many of each different colour do we have?\n",
    "\n",
    "name_counts = df_merged['name'].value_counts()\n",
    "\n",
    "# Display the counts\n",
    "print(name_counts)\n",
    "\n",
    "#Note that there are 38 items that don't have a dress name.\n",
    "#We need to delete these values."
   ]
  },
  {
   "cell_type": "code",
   "execution_count": 31,
   "id": "54e04bb8",
   "metadata": {
    "execution": {
     "iopub.execute_input": "2024-07-22T16:40:11.032542Z",
     "iopub.status.busy": "2024-07-22T16:40:11.031536Z",
     "iopub.status.idle": "2024-07-22T16:40:11.055747Z",
     "shell.execute_reply": "2024-07-22T16:40:11.054662Z"
    },
    "papermill": {
     "duration": 0.046422,
     "end_time": "2024-07-22T16:40:11.058257",
     "exception": false,
     "start_time": "2024-07-22T16:40:11.011835",
     "status": "completed"
    },
    "tags": []
   },
   "outputs": [
    {
     "name": "stdout",
     "output_type": "stream",
     "text": [
      "0\n"
     ]
    }
   ],
   "source": [
    "#Delete the values that don't have a name\n",
    "\n",
    "# Assuming df_merged is your current DataFrame\n",
    "# Filter out rows where 'name' column is exactly 'Dress'\n",
    "df_filtered = df_merged[df_merged['name'] != 'Dress']\n",
    "\n",
    "# Verify that no rows named 'Dress' are left\n",
    "print(df_filtered[df_filtered['name'] == 'Dress'].shape[0])"
   ]
  },
  {
   "cell_type": "code",
   "execution_count": 32,
   "id": "19d1d18a",
   "metadata": {
    "execution": {
     "iopub.execute_input": "2024-07-22T16:40:11.157899Z",
     "iopub.status.busy": "2024-07-22T16:40:11.157519Z",
     "iopub.status.idle": "2024-07-22T16:40:11.168311Z",
     "shell.execute_reply": "2024-07-22T16:40:11.167050Z"
    },
    "papermill": {
     "duration": 0.095303,
     "end_time": "2024-07-22T16:40:11.171474",
     "exception": false,
     "start_time": "2024-07-22T16:40:11.076171",
     "status": "completed"
    },
    "tags": []
   },
   "outputs": [
    {
     "name": "stdout",
     "output_type": "stream",
     "text": [
      "      id                            name                      brand colour  \\\n",
      "0  74416             Runway stripe dress           Stella McCartney  beige   \n",
      "1  73815      Reformation Kourtney Dress                Reformation  beige   \n",
      "2  73801        Ivory Viola bridal dress                      Ghost  beige   \n",
      "3  73718         Pasu Dress - Rhino Tusk                     Coucoo  beige   \n",
      "4  73605                           Ellen                       RIXO  beige   \n",
      "5  73583     Elena Dress Crystal Garden                  Stine Goya  beige   \n",
      "6  73007                   OBlanc Dress                New Arrivals  beige   \n",
      "7  73245                    Melody Dress            Melissa Odabash  beige   \n",
      "8  73050                   Isamaya Dress                  Rat & Boa  beige   \n",
      "9  73019  Belted Animal Print Mini Dress  ROTATE BIRGER CHRISTENSEN  beige   \n",
      "\n",
      "  category  price  average_price fashion_level  \n",
      "0  dresses    111          111.0     mid_range  \n",
      "1  dresses     50           50.0   mass_market  \n",
      "2  dresses     75           75.0   mass_market  \n",
      "3  dresses     37           37.0   mass_market  \n",
      "4  dresses     47           47.0   mass_market  \n",
      "5  dresses     64           64.0   mass_market  \n",
      "6  dresses    145          145.0     mid_range  \n",
      "7  dresses     52           52.0   mass_market  \n",
      "8  dresses     38           38.0   mass_market  \n",
      "9  dresses     39           39.0   mass_market  \n"
     ]
    }
   ],
   "source": [
    "# Display the first 10 rows of the filtered DataFrame\n",
    "print(df_filtered.head(10))"
   ]
  },
  {
   "cell_type": "code",
   "execution_count": 33,
   "id": "5ee88dbc",
   "metadata": {
    "execution": {
     "iopub.execute_input": "2024-07-22T16:40:11.210689Z",
     "iopub.status.busy": "2024-07-22T16:40:11.209400Z",
     "iopub.status.idle": "2024-07-22T16:40:11.232002Z",
     "shell.execute_reply": "2024-07-22T16:40:11.230819Z"
    },
    "papermill": {
     "duration": 0.045054,
     "end_time": "2024-07-22T16:40:11.234515",
     "exception": false,
     "start_time": "2024-07-22T16:40:11.189461",
     "status": "completed"
    },
    "tags": []
   },
   "outputs": [
    {
     "data": {
      "text/html": [
       "<div>\n",
       "<style scoped>\n",
       "    .dataframe tbody tr th:only-of-type {\n",
       "        vertical-align: middle;\n",
       "    }\n",
       "\n",
       "    .dataframe tbody tr th {\n",
       "        vertical-align: top;\n",
       "    }\n",
       "\n",
       "    .dataframe thead th {\n",
       "        text-align: right;\n",
       "    }\n",
       "</style>\n",
       "<table border=\"1\" class=\"dataframe\">\n",
       "  <thead>\n",
       "    <tr style=\"text-align: right;\">\n",
       "      <th></th>\n",
       "      <th>price</th>\n",
       "      <th>average_price</th>\n",
       "    </tr>\n",
       "  </thead>\n",
       "  <tbody>\n",
       "    <tr>\n",
       "      <th>count</th>\n",
       "      <td>29843.000000</td>\n",
       "      <td>29843.000000</td>\n",
       "    </tr>\n",
       "    <tr>\n",
       "      <th>mean</th>\n",
       "      <td>61.558791</td>\n",
       "      <td>61.558791</td>\n",
       "    </tr>\n",
       "    <tr>\n",
       "      <th>std</th>\n",
       "      <td>38.007480</td>\n",
       "      <td>38.007480</td>\n",
       "    </tr>\n",
       "    <tr>\n",
       "      <th>min</th>\n",
       "      <td>11.000000</td>\n",
       "      <td>11.000000</td>\n",
       "    </tr>\n",
       "    <tr>\n",
       "      <th>25%</th>\n",
       "      <td>40.000000</td>\n",
       "      <td>40.000000</td>\n",
       "    </tr>\n",
       "    <tr>\n",
       "      <th>50%</th>\n",
       "      <td>51.000000</td>\n",
       "      <td>51.000000</td>\n",
       "    </tr>\n",
       "    <tr>\n",
       "      <th>75%</th>\n",
       "      <td>69.000000</td>\n",
       "      <td>69.000000</td>\n",
       "    </tr>\n",
       "    <tr>\n",
       "      <th>max</th>\n",
       "      <td>793.000000</td>\n",
       "      <td>793.000000</td>\n",
       "    </tr>\n",
       "  </tbody>\n",
       "</table>\n",
       "</div>"
      ],
      "text/plain": [
       "              price  average_price\n",
       "count  29843.000000   29843.000000\n",
       "mean      61.558791      61.558791\n",
       "std       38.007480      38.007480\n",
       "min       11.000000      11.000000\n",
       "25%       40.000000      40.000000\n",
       "50%       51.000000      51.000000\n",
       "75%       69.000000      69.000000\n",
       "max      793.000000     793.000000"
      ]
     },
     "execution_count": 33,
     "metadata": {},
     "output_type": "execute_result"
    }
   ],
   "source": [
    "df_filtered.describe()"
   ]
  },
  {
   "cell_type": "code",
   "execution_count": 34,
   "id": "64457a5f",
   "metadata": {
    "execution": {
     "iopub.execute_input": "2024-07-22T16:40:11.273073Z",
     "iopub.status.busy": "2024-07-22T16:40:11.272682Z",
     "iopub.status.idle": "2024-07-22T16:40:11.681651Z",
     "shell.execute_reply": "2024-07-22T16:40:11.680495Z"
    },
    "papermill": {
     "duration": 0.431384,
     "end_time": "2024-07-22T16:40:11.684409",
     "exception": false,
     "start_time": "2024-07-22T16:40:11.253025",
     "status": "completed"
    },
    "tags": []
   },
   "outputs": [
    {
     "data": {
      "image/png": "[encoded data removed]",
      "text/plain": [
       "<Figure size 1200x600 with 1 Axes>"
      ]
     },
     "metadata": {},
     "output_type": "display_data"
    }
   ],
   "source": [
    "import pandas as pd\n",
    "import seaborn as sns\n",
    "import matplotlib.pyplot as plt\n",
    "\n",
    "# Assuming df_filtered has already been defined and contains the necessary data\n",
    "\n",
    "# Sample 10% of the data randomly\n",
    "df_sample = df_filtered.sample(frac=0.0035)\n",
    "\n",
    "# Setting the plot style and size\n",
    "plt.figure(figsize=(12, 6))  # Adjust the size as needed\n",
    "sns.set(style=\"whitegrid\")  # This sets the style of the plot to have a white grid background\n",
    "\n",
    "# Create a box plot\n",
    "sns.boxplot(x='fashion_level', y='price', data=df_sample)\n",
    "\n",
    "# Adding titles and labels to enhance clarity\n",
    "plt.title('Price distribution by Fashion Level (Sampled Data)')\n",
    "plt.xlabel('fashion_level')\n",
    "plt.ylabel('price')\n",
    "\n",
    "# Display the plot\n",
    "plt.show()\n",
    "\n",
    "# This doesn't work because the price is already correlated to fashion_level"
   ]
  },
  {
   "cell_type": "code",
   "execution_count": 35,
   "id": "d1617730",
   "metadata": {
    "execution": {
     "iopub.execute_input": "2024-07-22T16:40:11.724632Z",
     "iopub.status.busy": "2024-07-22T16:40:11.724217Z",
     "iopub.status.idle": "2024-07-22T16:40:14.803855Z",
     "shell.execute_reply": "2024-07-22T16:40:14.802617Z"
    },
    "papermill": {
     "duration": 3.103066,
     "end_time": "2024-07-22T16:40:14.806371",
     "exception": false,
     "start_time": "2024-07-22T16:40:11.703305",
     "status": "completed"
    },
    "tags": []
   },
   "outputs": [
    {
     "data": {
      "text/html": [
       "        <script type=\"text/javascript\">\n",
       "        window.PlotlyConfig = {MathJaxConfig: 'local'};\n",
       "        if (window.MathJax && window.MathJax.Hub && window.MathJax.Hub.Config) {window.MathJax.Hub.Config({SVG: {font: \"STIX-Web\"}});}\n",
       "        if (typeof require !== 'undefined') {\n",
       "        require.undef(\"plotly\");\n",
       "        requirejs.config({\n",
       "            paths: {\n",
       "                'plotly': ['https://cdn.plot.ly/plotly-2.27.0.min']\n",
       "            }\n",
       "        });\n",
       "        require(['plotly'], function(Plotly) {\n",
       "            window._Plotly = Plotly;\n",
       "        });\n",
       "        }\n",
       "        </script>\n",
       "        "
      ]
     },
     "metadata": {},
     "output_type": "display_data"
    },
    {
     "data": {
      "text/html": [
       "<div>                            <div id=\"132d7994-9cca-426b-b9e8-3b87277f9185\" class=\"plotly-graph-div\" style=\"height:525px; width:100%;\"></div>            <script type=\"text/javascript\">                require([\"plotly\"], function(Plotly) {                    window.PLOTLYENV=window.PLOTLYENV || {};                                    if (document.getElementById(\"132d7994-9cca-426b-b9e8-3b87277f9185\")) {                    Plotly.newPlot(                        \"132d7994-9cca-426b-b9e8-3b87277f9185\",                        [{\"alignmentgroup\":\"True\",\"hovertemplate\":\"colour=%{x}\\u003cbr\\u003efrequency=%{y}\\u003cextra\\u003e\\u003c\\u002fextra\\u003e\",\"legendgroup\":\"\",\"marker\":{\"color\":\"#636efa\",\"pattern\":{\"shape\":\"\"}},\"name\":\"\",\"offsetgroup\":\"\",\"orientation\":\"v\",\"showlegend\":false,\"textposition\":\"auto\",\"x\":[\"black\",\"multi\",\"blue\",\"pink\",\"green\",\"white\",\"red\",\"beige\",\"yellow\",\"purple\",\"navy\",\"orange\",\"brown\",\"cream\",\"gold\",\"silver\",\"copper\",\"grey\",\"tan\",\"phantom\"],\"xaxis\":\"x\",\"y\":[4665,4150,3557,3473,2848,2317,2256,1096,942,811,778,705,615,524,466,363,118,114,30,15],\"yaxis\":\"y\",\"type\":\"bar\"}],                        {\"template\":{\"data\":{\"histogram2dcontour\":[{\"type\":\"histogram2dcontour\",\"colorbar\":{\"outlinewidth\":0,\"ticks\":\"\"},\"colorscale\":[[0.0,\"#0d0887\"],[0.1111111111111111,\"#46039f\"],[0.2222222222222222,\"#7201a8\"],[0.3333333333333333,\"#9c179e\"],[0.4444444444444444,\"#bd3786\"],[0.5555555555555556,\"#d8576b\"],[0.6666666666666666,\"#ed7953\"],[0.7777777777777778,\"#fb9f3a\"],[0.8888888888888888,\"#fdca26\"],[1.0,\"#f0f921\"]]}],\"choropleth\":[{\"type\":\"choropleth\",\"colorbar\":{\"outlinewidth\":0,\"ticks\":\"\"}}],\"histogram2d\":[{\"type\":\"histogram2d\",\"colorbar\":{\"outlinewidth\":0,\"ticks\":\"\"},\"colorscale\":[[0.0,\"#0d0887\"],[0.1111111111111111,\"#46039f\"],[0.2222222222222222,\"#7201a8\"],[0.3333333333333333,\"#9c179e\"],[0.4444444444444444,\"#bd3786\"],[0.5555555555555556,\"#d8576b\"],[0.6666666666666666,\"#ed7953\"],[0.7777777777777778,\"#fb9f3a\"],[0.8888888888888888,\"#fdca26\"],[1.0,\"#f0f921\"]]}],\"heatmap\":[{\"type\":\"heatmap\",\"colorbar\":{\"outlinewidth\":0,\"ticks\":\"\"},\"colorscale\":[[0.0,\"#0d0887\"],[0.1111111111111111,\"#46039f\"],[0.2222222222222222,\"#7201a8\"],[0.3333333333333333,\"#9c179e\"],[0.4444444444444444,\"#bd3786\"],[0.5555555555555556,\"#d8576b\"],[0.6666666666666666,\"#ed7953\"],[0.7777777777777778,\"#fb9f3a\"],[0.8888888888888888,\"#fdca26\"],[1.0,\"#f0f921\"]]}],\"heatmapgl\":[{\"type\":\"heatmapgl\",\"colorbar\":{\"outlinewidth\":0,\"ticks\":\"\"},\"colorscale\":[[0.0,\"#0d0887\"],[0.1111111111111111,\"#46039f\"],[0.2222222222222222,\"#7201a8\"],[0.3333333333333333,\"#9c179e\"],[0.4444444444444444,\"#bd3786\"],[0.5555555555555556,\"#d8576b\"],[0.6666666666666666,\"#ed7953\"],[0.7777777777777778,\"#fb9f3a\"],[0.8888888888888888,\"#fdca26\"],[1.0,\"#f0f921\"]]}],\"contourcarpet\":[{\"type\":\"contourcarpet\",\"colorbar\":{\"outlinewidth\":0,\"ticks\":\"\"}}],\"contour\":[{\"type\":\"contour\",\"colorbar\":{\"outlinewidth\":0,\"ticks\":\"\"},\"colorscale\":[[0.0,\"#0d0887\"],[0.1111111111111111,\"#46039f\"],[0.2222222222222222,\"#7201a8\"],[0.3333333333333333,\"#9c179e\"],[0.4444444444444444,\"#bd3786\"],[0.5555555555555556,\"#d8576b\"],[0.6666666666666666,\"#ed7953\"],[0.7777777777777778,\"#fb9f3a\"],[0.8888888888888888,\"#fdca26\"],[1.0,\"#f0f921\"]]}],\"surface\":[{\"type\":\"surface\",\"colorbar\":{\"outlinewidth\":0,\"ticks\":\"\"},\"colorscale\":[[0.0,\"#0d0887\"],[0.1111111111111111,\"#46039f\"],[0.2222222222222222,\"#7201a8\"],[0.3333333333333333,\"#9c179e\"],[0.4444444444444444,\"#bd3786\"],[0.5555555555555556,\"#d8576b\"],[0.6666666666666666,\"#ed7953\"],[0.7777777777777778,\"#fb9f3a\"],[0.8888888888888888,\"#fdca26\"],[1.0,\"#f0f921\"]]}],\"mesh3d\":[{\"type\":\"mesh3d\",\"colorbar\":{\"outlinewidth\":0,\"ticks\":\"\"}}],\"scatter\":[{\"fillpattern\":{\"fillmode\":\"overlay\",\"size\":10,\"solidity\":0.2},\"type\":\"scatter\"}],\"parcoords\":[{\"type\":\"parcoords\",\"line\":{\"colorbar\":{\"outlinewidth\":0,\"ticks\":\"\"}}}],\"scatterpolargl\":[{\"type\":\"scatterpolargl\",\"marker\":{\"colorbar\":{\"outlinewidth\":0,\"ticks\":\"\"}}}],\"bar\":[{\"error_x\":{\"color\":\"#2a3f5f\"},\"error_y\":{\"color\":\"#2a3f5f\"},\"marker\":{\"line\":{\"color\":\"#E5ECF6\",\"width\":0.5},\"pattern\":{\"fillmode\":\"overlay\",\"size\":10,\"solidity\":0.2}},\"type\":\"bar\"}],\"scattergeo\":[{\"type\":\"scattergeo\",\"marker\":{\"colorbar\":{\"outlinewidth\":0,\"ticks\":\"\"}}}],\"scatterpolar\":[{\"type\":\"scatterpolar\",\"marker\":{\"colorbar\":{\"outlinewidth\":0,\"ticks\":\"\"}}}],\"histogram\":[{\"marker\":{\"pattern\":{\"fillmode\":\"overlay\",\"size\":10,\"solidity\":0.2}},\"type\":\"histogram\"}],\"scattergl\":[{\"type\":\"scattergl\",\"marker\":{\"colorbar\":{\"outlinewidth\":0,\"ticks\":\"\"}}}],\"scatter3d\":[{\"type\":\"scatter3d\",\"line\":{\"colorbar\":{\"outlinewidth\":0,\"ticks\":\"\"}},\"marker\":{\"colorbar\":{\"outlinewidth\":0,\"ticks\":\"\"}}}],\"scattermapbox\":[{\"type\":\"scattermapbox\",\"marker\":{\"colorbar\":{\"outlinewidth\":0,\"ticks\":\"\"}}}],\"scatterternary\":[{\"type\":\"scatterternary\",\"marker\":{\"colorbar\":{\"outlinewidth\":0,\"ticks\":\"\"}}}],\"scattercarpet\":[{\"type\":\"scattercarpet\",\"marker\":{\"colorbar\":{\"outlinewidth\":0,\"ticks\":\"\"}}}],\"carpet\":[{\"aaxis\":{\"endlinecolor\":\"#2a3f5f\",\"gridcolor\":\"white\",\"linecolor\":\"white\",\"minorgridcolor\":\"white\",\"startlinecolor\":\"#2a3f5f\"},\"baxis\":{\"endlinecolor\":\"#2a3f5f\",\"gridcolor\":\"white\",\"linecolor\":\"white\",\"minorgridcolor\":\"white\",\"startlinecolor\":\"#2a3f5f\"},\"type\":\"carpet\"}],\"table\":[{\"cells\":{\"fill\":{\"color\":\"#EBF0F8\"},\"line\":{\"color\":\"white\"}},\"header\":{\"fill\":{\"color\":\"#C8D4E3\"},\"line\":{\"color\":\"white\"}},\"type\":\"table\"}],\"barpolar\":[{\"marker\":{\"line\":{\"color\":\"#E5ECF6\",\"width\":0.5},\"pattern\":{\"fillmode\":\"overlay\",\"size\":10,\"solidity\":0.2}},\"type\":\"barpolar\"}],\"pie\":[{\"automargin\":true,\"type\":\"pie\"}]},\"layout\":{\"autotypenumbers\":\"strict\",\"colorway\":[\"#636efa\",\"#EF553B\",\"#00cc96\",\"#ab63fa\",\"#FFA15A\",\"#19d3f3\",\"#FF6692\",\"#B6E880\",\"#FF97FF\",\"#FECB52\"],\"font\":{\"color\":\"#2a3f5f\"},\"hovermode\":\"closest\",\"hoverlabel\":{\"align\":\"left\"},\"paper_bgcolor\":\"white\",\"plot_bgcolor\":\"#E5ECF6\",\"polar\":{\"bgcolor\":\"#E5ECF6\",\"angularaxis\":{\"gridcolor\":\"white\",\"linecolor\":\"white\",\"ticks\":\"\"},\"radialaxis\":{\"gridcolor\":\"white\",\"linecolor\":\"white\",\"ticks\":\"\"}},\"ternary\":{\"bgcolor\":\"#E5ECF6\",\"aaxis\":{\"gridcolor\":\"white\",\"linecolor\":\"white\",\"ticks\":\"\"},\"baxis\":{\"gridcolor\":\"white\",\"linecolor\":\"white\",\"ticks\":\"\"},\"caxis\":{\"gridcolor\":\"white\",\"linecolor\":\"white\",\"ticks\":\"\"}},\"coloraxis\":{\"colorbar\":{\"outlinewidth\":0,\"ticks\":\"\"}},\"colorscale\":{\"sequential\":[[0.0,\"#0d0887\"],[0.1111111111111111,\"#46039f\"],[0.2222222222222222,\"#7201a8\"],[0.3333333333333333,\"#9c179e\"],[0.4444444444444444,\"#bd3786\"],[0.5555555555555556,\"#d8576b\"],[0.6666666666666666,\"#ed7953\"],[0.7777777777777778,\"#fb9f3a\"],[0.8888888888888888,\"#fdca26\"],[1.0,\"#f0f921\"]],\"sequentialminus\":[[0.0,\"#0d0887\"],[0.1111111111111111,\"#46039f\"],[0.2222222222222222,\"#7201a8\"],[0.3333333333333333,\"#9c179e\"],[0.4444444444444444,\"#bd3786\"],[0.5555555555555556,\"#d8576b\"],[0.6666666666666666,\"#ed7953\"],[0.7777777777777778,\"#fb9f3a\"],[0.8888888888888888,\"#fdca26\"],[1.0,\"#f0f921\"]],\"diverging\":[[0,\"#8e0152\"],[0.1,\"#c51b7d\"],[0.2,\"#de77ae\"],[0.3,\"#f1b6da\"],[0.4,\"#fde0ef\"],[0.5,\"#f7f7f7\"],[0.6,\"#e6f5d0\"],[0.7,\"#b8e186\"],[0.8,\"#7fbc41\"],[0.9,\"#4d9221\"],[1,\"#276419\"]]},\"xaxis\":{\"gridcolor\":\"white\",\"linecolor\":\"white\",\"ticks\":\"\",\"title\":{\"standoff\":15},\"zerolinecolor\":\"white\",\"automargin\":true,\"zerolinewidth\":2},\"yaxis\":{\"gridcolor\":\"white\",\"linecolor\":\"white\",\"ticks\":\"\",\"title\":{\"standoff\":15},\"zerolinecolor\":\"white\",\"automargin\":true,\"zerolinewidth\":2},\"scene\":{\"xaxis\":{\"backgroundcolor\":\"#E5ECF6\",\"gridcolor\":\"white\",\"linecolor\":\"white\",\"showbackground\":true,\"ticks\":\"\",\"zerolinecolor\":\"white\",\"gridwidth\":2},\"yaxis\":{\"backgroundcolor\":\"#E5ECF6\",\"gridcolor\":\"white\",\"linecolor\":\"white\",\"showbackground\":true,\"ticks\":\"\",\"zerolinecolor\":\"white\",\"gridwidth\":2},\"zaxis\":{\"backgroundcolor\":\"#E5ECF6\",\"gridcolor\":\"white\",\"linecolor\":\"white\",\"showbackground\":true,\"ticks\":\"\",\"zerolinecolor\":\"white\",\"gridwidth\":2}},\"shapedefaults\":{\"line\":{\"color\":\"#2a3f5f\"}},\"annotationdefaults\":{\"arrowcolor\":\"#2a3f5f\",\"arrowhead\":0,\"arrowwidth\":1},\"geo\":{\"bgcolor\":\"white\",\"landcolor\":\"#E5ECF6\",\"subunitcolor\":\"white\",\"showland\":true,\"showlakes\":true,\"lakecolor\":\"white\"},\"title\":{\"x\":0.05},\"mapbox\":{\"style\":\"light\"}}},\"xaxis\":{\"anchor\":\"y\",\"domain\":[0.0,1.0],\"title\":{\"text\":\"Colour\"},\"categoryorder\":\"total descending\"},\"yaxis\":{\"anchor\":\"x\",\"domain\":[0.0,1.0],\"title\":{\"text\":\"Frequency\"}},\"legend\":{\"tracegroupgap\":0},\"title\":{\"text\":\"Frequency of Dress Colours\"},\"barmode\":\"relative\"},                        {\"responsive\": true}                    ).then(function(){\n",
       "                            \n",
       "var gd = document.getElementById('132d7994-9cca-426b-b9e8-3b87277f9185');\n",
       "var x = new MutationObserver(function (mutations, observer) {{\n",
       "        var display = window.getComputedStyle(gd).display;\n",
       "        if (!display || display === 'none') {{\n",
       "            console.log([gd, 'removed!']);\n",
       "            Plotly.purge(gd);\n",
       "            observer.disconnect();\n",
       "        }}\n",
       "}});\n",
       "\n",
       "// Listen for the removal of the full notebook cells\n",
       "var notebookContainer = gd.closest('#notebook-container');\n",
       "if (notebookContainer) {{\n",
       "    x.observe(notebookContainer, {childList: true});\n",
       "}}\n",
       "\n",
       "// Listen for the clearing of the current output cell\n",
       "var outputEl = gd.closest('.output');\n",
       "if (outputEl) {{\n",
       "    x.observe(outputEl, {childList: true});\n",
       "}}\n",
       "\n",
       "                        })                };                });            </script>        </div>"
      ]
     },
     "metadata": {},
     "output_type": "display_data"
    }
   ],
   "source": [
    "import plotly.express as px\n",
    "\n",
    "# If the dataset is large, consider sampling here as well\n",
    "colour_counts = df_filtered['colour'].value_counts().reset_index()\n",
    "colour_counts.columns = ['colour', 'frequency']\n",
    "\n",
    "# Create a bar chart using Plotly\n",
    "fig = px.bar(colour_counts, x='colour', y='frequency', title='Frequency of Dress Colours')\n",
    "fig.update_layout(xaxis_title='Colour',\n",
    "                  yaxis_title='Frequency',\n",
    "                  xaxis={'categoryorder':'total descending'})  # Sort bars by descending order\n",
    "fig.show()"
   ]
  },
  {
   "cell_type": "code",
   "execution_count": 36,
   "id": "57311673",
   "metadata": {
    "execution": {
     "iopub.execute_input": "2024-07-22T16:40:14.847249Z",
     "iopub.status.busy": "2024-07-22T16:40:14.846868Z",
     "iopub.status.idle": "2024-07-22T16:40:15.065423Z",
     "shell.execute_reply": "2024-07-22T16:40:15.063799Z"
    },
    "papermill": {
     "duration": 0.243781,
     "end_time": "2024-07-22T16:40:15.069789",
     "exception": false,
     "start_time": "2024-07-22T16:40:14.826008",
     "status": "completed"
    },
    "tags": []
   },
   "outputs": [
    {
     "data": {
      "image/png": "[encoded data removed]",
      "text/plain": [
       "<Figure size 640x480 with 1 Axes>"
      ]
     },
     "metadata": {},
     "output_type": "display_data"
    }
   ],
   "source": [
    "# Calculate the counts of each fashion level\n",
    "fashion_level_counts = df_filtered['fashion_level'].value_counts()\n",
    "\n",
    "# Define the labels from the index of the series\n",
    "labels = fashion_level_counts.index\n",
    "sizes = fashion_level_counts.values\n",
    "\n",
    "# Define color palette\n",
    "colors = ['#ff9999','#66b3ff','#99ff99','#ffcc99']  # You can customize these colors\n",
    "\n",
    "# Plotting the pie chart\n",
    "fig1, ax1 = plt.subplots()\n",
    "ax1.pie(sizes, labels=labels, colors=colors, autopct='%1.1f%%', startangle=90)\n",
    "\n",
    "# Equal aspect ratio ensures that pie is drawn as a circle.\n",
    "ax1.axis('equal')\n",
    "\n",
    "plt.title('Distribution of Fashion Levels')\n",
    "plt.show()"
   ]
  },
  {
   "cell_type": "code",
   "execution_count": 37,
   "id": "e8e3ba85",
   "metadata": {
    "execution": {
     "iopub.execute_input": "2024-07-22T16:40:15.127775Z",
     "iopub.status.busy": "2024-07-22T16:40:15.127338Z",
     "iopub.status.idle": "2024-07-22T16:40:15.138041Z",
     "shell.execute_reply": "2024-07-22T16:40:15.136944Z"
    },
    "papermill": {
     "duration": 0.035876,
     "end_time": "2024-07-22T16:40:15.141273",
     "exception": false,
     "start_time": "2024-07-22T16:40:15.105397",
     "status": "completed"
    },
    "tags": []
   },
   "outputs": [
    {
     "name": "stdout",
     "output_type": "stream",
     "text": [
      " Analysis Summary of Dress Rental Prices\n",
      "\n",
      "Data Overview:\n",
      "\n",
      "\t•\tWe analyzed a dataset consisting of 29,997 records of dress rentals, featuring information about dress names, brands, colors, categories, and prices.\n",
      "\t•\tThe dataset spanned various brands (931 unique brands) and colors (20 different colors), with a comprehensive pricing spectrum from low to high-end fashion items.\n",
      "\n",
      "Key Insights:\n",
      "\n",
      "\t1.\tFashion Level Categorization:\n",
      "\t•\t•\tWe categorized dresses into three fashion levels based on their prices:\n",
      "\t•\t•\tMass Market: Prices less than $75.\n",
      "\t•\t•\tMid Range: Prices between $75 and $300.\n",
      "\t•\t•\tHigh End: Prices above $300.\n",
      "\t•\t•\tThe vast majority of items fell into the ‘Mass Market’ category, suggesting \n",
      "\t•\t•\tthat the rental service focuses predominantly on more affordable fashion.\n",
      "        \n",
      "\t2.\tColor Popularity:\n",
      "\t•\t•\tThe color analysis revealed that black and blue dresses are the most \n",
      "•\t•\t•\tfrequently stocked colors, suggesting these colors are likely the \n",
      "    •\t•\tmost popular or considered staple offerings in rental fashion.\n",
      "\t•\t•\tConversely, less common colors included tan and phantom, indicating \n",
      "\t•\t•\tniche preferences or seasonal trends.\n",
      "\t3.\tPrice Distribution:\n",
      "\t•\t•\tA detailed examination using box plots showed that ‘High End’ dresses\n",
      "\t•\t•\tnot only varied significantly in price but also occasionally included \n",
      "\t•\t•\textremely high-cost items, possibly designer pieces or dresses with premium materials.\n",
      "\t•\t•\t‘Mass Market’ dresses exhibited the least price variation, aligning \n",
      "•\t•\t•\twith the target market’s expectations for affordability.\n",
      "\n",
      "Implications:\n",
      "\n",
      "\t•\tThe dominance of mass-market items points to a business model centered on \n",
      "\t•\taccessibility and broader appeal, potentially attracting a larger customer base.\n",
      "\t•\tThe popularity of specific colors like black and blue could inform \n",
      "\t•\tstock acquisition strategies, emphasizing these colors to meet demand.\n",
      "\t•\tPricing strategies appear well-segmented by fashion level, but there might \n",
      "\t•\tbe room to explore the upper limits of mid-range pricing to maximize \n",
      "\t•\trevenue without encroaching on high-end territory.\n",
      "\n",
      "Recommendations:\n",
      "\n",
      "\t•\tConsider diversifying the color palette in the mid-range category to test consumer response to non-traditional colors, potentially increasing market share.\n",
      "\t•\tExplore strategic promotions or featured collections for high-end dresses to enhance their visibility and attractiveness to consumers seeking luxury items.\n",
      "\n",
      "Conclusion:\n",
      "This analysis provides valuable insights into the operational dynamics of the dress rental market, highlighting consumer preferences and effective pricing strategies. Continued data monitoring and adjustment of inventory and pricing will be crucial to staying responsive to consumer trends and market conditions.\n",
      "\n",
      "\n"
     ]
    }
   ],
   "source": [
    "summary_text = \"\"\" Analysis Summary of Dress Rental Prices\n",
    "\n",
    "Data Overview:\n",
    "\n",
    "\t•\tWe analyzed a dataset consisting of 29,997 records of dress rentals, featuring information about dress names, brands, colors, categories, and prices.\n",
    "\t•\tThe dataset spanned various brands (931 unique brands) and colors (20 different colors), with a comprehensive pricing spectrum from low to high-end fashion items.\n",
    "\n",
    "Key Insights:\n",
    "\n",
    "\t1.\tFashion Level Categorization:\n",
    "\t•\t•\tWe categorized dresses into three fashion levels based on their prices:\n",
    "\t•\t•\tMass Market: Prices less than $75.\n",
    "\t•\t•\tMid Range: Prices between $75 and $300.\n",
    "\t•\t•\tHigh End: Prices above $300.\n",
    "\t•\t•\tThe vast majority of items fell into the ‘Mass Market’ category, suggesting \n",
    "\t•\t•\tthat the rental service focuses predominantly on more affordable fashion.\n",
    "        \n",
    "\t2.\tColor Popularity:\n",
    "\t•\t•\tThe color analysis revealed that black and blue dresses are the most \n",
    "•\t•\t•\tfrequently stocked colors, suggesting these colors are likely the \n",
    "    •\t•\tmost popular or considered staple offerings in rental fashion.\n",
    "\t•\t•\tConversely, less common colors included tan and phantom, indicating \n",
    "\t•\t•\tniche preferences or seasonal trends.\n",
    "\t3.\tPrice Distribution:\n",
    "\t•\t•\tA detailed examination using box plots showed that ‘High End’ dresses\n",
    "\t•\t•\tnot only varied significantly in price but also occasionally included \n",
    "\t•\t•\textremely high-cost items, possibly designer pieces or dresses with premium materials.\n",
    "\t•\t•\t‘Mass Market’ dresses exhibited the least price variation, aligning \n",
    "•\t•\t•\twith the target market’s expectations for affordability.\n",
    "\n",
    "Implications:\n",
    "\n",
    "\t•\tThe dominance of mass-market items points to a business model centered on \n",
    "\t•\taccessibility and broader appeal, potentially attracting a larger customer base.\n",
    "\t•\tThe popularity of specific colors like black and blue could inform \n",
    "\t•\tstock acquisition strategies, emphasizing these colors to meet demand.\n",
    "\t•\tPricing strategies appear well-segmented by fashion level, but there might \n",
    "\t•\tbe room to explore the upper limits of mid-range pricing to maximize \n",
    "\t•\trevenue without encroaching on high-end territory.\n",
    "\n",
    "Recommendations:\n",
    "\n",
    "\t•\tConsider diversifying the color palette in the mid-range category to test consumer response to non-traditional colors, potentially increasing market share.\n",
    "\t•\tExplore strategic promotions or featured collections for high-end dresses to enhance their visibility and attractiveness to consumers seeking luxury items.\n",
    "\n",
    "Conclusion:\n",
    "This analysis provides valuable insights into the operational dynamics of the dress rental market, highlighting consumer preferences and effective pricing strategies. Continued data monitoring and adjustment of inventory and pricing will be crucial to staying responsive to consumer trends and market conditions.\n",
    "\n",
    "\"\"\"\n",
    "\n",
    "print(summary_text)"
   ]
  },
  {
   "cell_type": "code",
   "execution_count": 38,
   "id": "23b55161",
   "metadata": {
    "execution": {
     "iopub.execute_input": "2024-07-22T16:40:15.183749Z",
     "iopub.status.busy": "2024-07-22T16:40:15.183330Z",
     "iopub.status.idle": "2024-07-22T16:40:15.193384Z",
     "shell.execute_reply": "2024-07-22T16:40:15.192257Z"
    },
    "papermill": {
     "duration": 0.034647,
     "end_time": "2024-07-22T16:40:15.196050",
     "exception": false,
     "start_time": "2024-07-22T16:40:15.161403",
     "status": "completed"
    },
    "tags": []
   },
   "outputs": [],
   "source": [
    "import pandas as pd\n",
    "df_sample.to_csv('dress_swap.csv', index=False)"
   ]
  }
 ],
 "metadata": {
  "kaggle": {
   "accelerator": "none",
   "dataSources": [
    {
     "datasetId": 5200900,
     "sourceId": 8676597,
     "sourceType": "datasetVersion"
    }
   ],
   "dockerImageVersionId": 30732,
   "isGpuEnabled": false,
   "isInternetEnabled": false,
   "language": "python",
   "sourceType": "notebook"
  },
  "kernelspec": {
   "display_name": "Python 3",
   "language": "python",
   "name": "python3"
  },
  "language_info": {
   "codemirror_mode": {
    "name": "ipython",
    "version": 3
   },
   "file_extension": ".py",
   "mimetype": "text/x-python",
   "name": "python",
   "nbconvert_exporter": "python",
   "pygments_lexer": "ipython3",
   "version": "3.10.13"
  },
  "papermill": {
   "default_parameters": {},
   "duration": 13.053735,
   "end_time": "2024-07-22T16:40:15.940049",
   "environment_variables": {},
   "exception": null,
   "input_path": "__notebook__.ipynb",
   "output_path": "__notebook__.ipynb",
   "parameters": {},
   "start_time": "2024-07-22T16:40:02.886314",
   "version": "2.5.0"
  }
 },
 "nbformat": 4,
 "nbformat_minor": 5
}
